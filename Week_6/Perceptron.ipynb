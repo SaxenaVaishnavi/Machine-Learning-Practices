{
  "nbformat": 4,
  "nbformat_minor": 0,
  "metadata": {
    "colab": {
      "provenance": [],
      "include_colab_link": true
    },
    "kernelspec": {
      "name": "python3",
      "display_name": "Python 3"
    },
    "language_info": {
      "name": "python"
    }
  },
  "cells": [
    {
      "cell_type": "markdown",
      "metadata": {
        "id": "view-in-github",
        "colab_type": "text"
      },
      "source": [
        "<a href=\"https://colab.research.google.com/github/SaxenaVaishnavi/Machine-Learning-Practices/blob/main/Week_6/Perceptron.ipynb\" target=\"_parent\"><img src=\"https://colab.research.google.com/assets/colab-badge.svg\" alt=\"Open In Colab\"/></a>"
      ]
    },
    {
      "cell_type": "markdown",
      "metadata": {
        "id": "8cdOTrO8dyUY"
      },
      "source": [
        "# Introduction\n",
        "\n",
        "Over the past four weeks we explored  various  data preprocessing techniques and solved some regression problems using linear and logistic regression models.The other side of the supervised learning paradigm is classification problems.\n",
        "\n",
        "To solve such problems we are going to consider image classification as a running example and solve it using `Perceptron()` model.\n",
        "   \n",
        "   "
      ]
    },
    {
      "cell_type": "markdown",
      "metadata": {
        "id": "kXsH_rkwkmqs"
      },
      "source": [
        "# Imports\n",
        "What is the first step?\n",
        "* Import all necessary packages. For classification problems, we need to import classes and utilities from `sklearn.linear_model`.  \n",
        "  *  This module has implementations for different classification models like `Perceptron, LogisticRegression, svm` and `knn`\n",
        "* We also need to import a bunch of model selection utilities from `sklearn.model_selection` module\n",
        "* And metrics from `sklearn.metrics` module.\n",
        "* The data preprocessing utilities are imported from `sklearn.preprocessing` modules."
      ]
    },
    {
      "cell_type": "code",
      "metadata": {
        "id": "kpJip143bTRJ"
      },
      "source": [
        "# Common imports\n",
        "import numpy as np\n",
        "import os\n",
        "import io\n",
        "import warnings\n",
        "from pprint import pprint\n",
        "\n",
        "# sklearn specific imports\n",
        "from sklearn.datasets import fetch_openml\n",
        "from sklearn.decomposition import PCA\n",
        "from sklearn.dummy import DummyClassifier\n",
        "from sklearn.linear_model import Perceptron\n",
        "from sklearn.metrics import hinge_loss\n",
        "from sklearn.metrics import ConfusionMatrixDisplay, confusion_matrix, precision_recall_curve\n",
        "from sklearn.metrics import precision_score, recall_score, classification_report\n",
        "from sklearn.metrics import make_scorer, roc_curve\n",
        "from sklearn.model_selection import cross_validate, cross_val_predict,GridSearchCV\n",
        "from sklearn.pipeline import Pipeline\n",
        "from sklearn.preprocessing import MinMaxScaler, LabelBinarizer\n",
        "\n",
        "# To plot pretty figures\n",
        "%matplotlib inline\n",
        "import matplotlib as mpl\n",
        "import matplotlib.pyplot as plt\n",
        "import seaborn as sns\n",
        "\n",
        "# Global matplotlib settings\n",
        "mpl.rc('figure',figsize=(8,6))\n",
        "mpl.rc('axes', labelsize=14)\n",
        "mpl.rc('xtick', labelsize=12)\n",
        "mpl.rc('ytick', labelsize=12)\n",
        "\n",
        "# To make this notebook's output stable across runs\n",
        "np.random.seed(42)"
      ],
      "execution_count": 83,
      "outputs": []
    },
    {
      "cell_type": "markdown",
      "source": [
        "Following definition helps us supress some warning messages. (**Warning:** we are purposefully supressing the warnings, not a good idea in general!)."
      ],
      "metadata": {
        "id": "7G_9mNDr0SjD"
      }
    },
    {
      "cell_type": "code",
      "source": [
        "# Ignore all warnings (like convergence..) by sklearn\n",
        "def warn(*args, **kwargs):\n",
        "    pass\n",
        "warnings.warn = warn"
      ],
      "metadata": {
        "id": "mqPX8rcFVQym"
      },
      "execution_count": 2,
      "outputs": []
    },
    {
      "cell_type": "markdown",
      "metadata": {
        "id": "6eU7kzTFAV8p"
      },
      "source": [
        "#Handwritten Digit Classification\n",
        "\n",
        "We are going to use **perceptron classifier** to classify (recognize) given digit images. Since a single perceptron could only be used for binary classification, we consider only two classes in the first half. Eventually we extend it to multi-class setting.\n",
        "\n",
        "Suppose we want to recognize whether the given image is of digit zero or not (digits other than zero). Then the problem could be cast as a binary classification problem.\n",
        "\n",
        "The first step is to create a dataset that contains a collection of digit images (also called examples, samples) written by humans. Then each image should be labelled properly. We have a standard benchmark dataset called **MNIST** for this task."
      ]
    },
    {
      "cell_type": "markdown",
      "source": [
        "## Data Loading and Splitting"
      ],
      "metadata": {
        "id": "y2WvcHTkrlEG"
      }
    },
    {
      "cell_type": "code",
      "metadata": {
        "id": "8o7gNFoXtGhD"
      },
      "source": [
        "X, y = fetch_openml('mnist_784', version=1, return_X_y=True)\n",
        "# It returns Data and label as a pandas dataframe"
      ],
      "execution_count": 3,
      "outputs": []
    },
    {
      "cell_type": "markdown",
      "metadata": {
        "id": "5PhpVeV3lSdO"
      },
      "source": [
        "The data matrix $X$ and the respective label vector $y$ need to be converted to the numpy array by calling a `to_numpy` method."
      ]
    },
    {
      "cell_type": "code",
      "metadata": {
        "id": "xu_V1Ez7kLBt"
      },
      "source": [
        "X = X.to_numpy()\n",
        "y = y.to_numpy()"
      ],
      "execution_count": 4,
      "outputs": []
    },
    {
      "cell_type": "markdown",
      "metadata": {
        "id": "yCZKIVLlQJnf"
      },
      "source": [
        "Let's get some information like number of features, number of classes about the dataset.\n",
        "\n",
        "Observe that the labels are of string data type not integers."
      ]
    },
    {
      "cell_type": "code",
      "metadata": {
        "colab": {
          "base_uri": "https://localhost:8080/"
        },
        "id": "_UzUmlzRtMJs",
        "outputId": "135bcb4e-44f6-4ac7-dfdb-af601061d542"
      },
      "source": [
        "target_names = np.unique(y)\n",
        "print('Number of samples: {0}, type:{1}'.format(X.shape[0],X.dtype))\n",
        "print('Number of features: {0}'.format(X.shape[1]))\n",
        "print('Minimum: {0}, Maximum: {1}'.format(np.min(X),np.max(X)))\n",
        "print('Number of classes: {0}, type: {1}'.format(len(target_names),y.dtype))\n",
        "print('Labels: {0}'.format(target_names))"
      ],
      "execution_count": 5,
      "outputs": [
        {
          "output_type": "stream",
          "name": "stdout",
          "text": [
            "Number of samples: 70000, type:int64\n",
            "Number of features: 784\n",
            "Minimum: 0, Maximum: 255\n",
            "Number of classes: 10, type: object\n",
            "Labels: ['0' '1' '2' '3' '4' '5' '6' '7' '8' '9']\n"
          ]
        }
      ]
    },
    {
      "cell_type": "markdown",
      "source": [
        "The MNIST dataset is clean and the range of values that each feature can take is also known. Therefore, the samples in the dataset may not require many data preprocessing techniques.\n",
        "\n",
        "However, it is often better to scale the range of features between 0 to 1.\n",
        "\n",
        "So, we can either use `MinMaxScaler` or `MaxAbsScaler`.They don't make any difference as the image pixels can take only positive values from 0 to 255.\n"
      ],
      "metadata": {
        "id": "y0whnZ44ZspM"
      }
    },
    {
      "cell_type": "code",
      "source": [
        "X = MinMaxScaler().fit_transform(X)\n",
        "print(\"Minimum: {0}, Maximum: {1}\".format(np.min(X),np.max(X)))"
      ],
      "metadata": {
        "id": "DDh31e-EqYY_",
        "colab": {
          "base_uri": "https://localhost:8080/"
        },
        "outputId": "742e493d-43b6-4d82-e94e-6bef8ee5db2d"
      },
      "execution_count": 6,
      "outputs": [
        {
          "output_type": "stream",
          "name": "stdout",
          "text": [
            "Minimum: 0.0, Maximum: 1.0\n"
          ]
        }
      ]
    },
    {
      "cell_type": "markdown",
      "metadata": {
        "id": "AcVrikS870f2"
      },
      "source": [
        "## Data Visualization\n",
        "Let us pick a few images (the images are already shuffled in the dataset) and display them with their respective labels. As said above, the images are stacked as a row vector of size $ 1 \\times 784 $ and therefore must be reshaped to the matrix of size $ 28 \\times 28 $  to display them properly."
      ]
    },
    {
      "cell_type": "code",
      "metadata": {
        "colab": {
          "base_uri": "https://localhost:8080/",
          "height": 521
        },
        "id": "IgR49sQo7y3f",
        "outputId": "0a1deeee-3e90-4e54-9b38-cd3f21a1f8fd"
      },
      "source": [
        "num_images = 9          # Choose a square number\n",
        "factor = int(np.sqrt(num_images))\n",
        "fig, ax = plt.subplots(nrows=factor, ncols=factor, figsize=(8,6))\n",
        "idx_offset = 0          # take \"num_images\" starting from the index \"idx_offset\"\n",
        "for i in range(factor):\n",
        "  index = idx_offset+i*(factor)\n",
        "  for j in range(factor):\n",
        "    ax[i,j].imshow(X[index+j].reshape(28,28), cmap='gray')\n",
        "    ax[i,j].set_title('Label:{0}'.format(str(y[index+j])))\n",
        "    ax[i,j].set_axis_off()"
      ],
      "execution_count": 7,
      "outputs": [
        {
          "output_type": "display_data",
          "data": {
            "text/plain": [
              "<Figure size 800x600 with 9 Axes>"
            ],
            "image/png": "[encoded data removed]"
          },
          "metadata": {}
        }
      ]
    },
    {
      "cell_type": "markdown",
      "metadata": {
        "id": "tTYTzJnCRexG"
      },
      "source": [
        "If you closely observe, you can see that there are moderate variations in the appearance of digits (say, digit: 1). These matrices are also close to sparse (that is, there are lot more 0s (black pixels) in the matrix than non-zero (white pixels)).\n",
        "\n",
        "It is always a good practice to inspect the image pixel values closely and ask some interesting questions such as.\n",
        "\n",
        "1.   What is the range of pixel values?\n",
        "2.   Are the pixel values highly correlated?\n",
        "3.   Is the data sparse?\n",
        "4.   What is the range of values that a single pixel(element) can take?\n",
        "5.   Do we need to apply any pre-processing methods?"
      ]
    },
    {
      "cell_type": "code",
      "metadata": {
        "colab": {
          "base_uri": "https://localhost:8080/",
          "height": 374
        },
        "id": "ahhp_fHfoS0C",
        "outputId": "aa7ee7e7-63fc-47b4-94c5-9eb963c4fcdc"
      },
      "source": [
        "plt.figure(figsize=(4, 4))\n",
        "plt.imshow(X[0].reshape(28,28), cmap='gray')\n",
        "plt.show()"
      ],
      "execution_count": 8,
      "outputs": [
        {
          "output_type": "display_data",
          "data": {
            "text/plain": [
              "<Figure size 400x400 with 1 Axes>"
            ],
            "image/png": "[encoded data removed]"
          },
          "metadata": {}
        }
      ]
    },
    {
      "cell_type": "markdown",
      "source": [
        "## Data Splitting"
      ],
      "metadata": {
        "id": "Bn6Kx0-bjvxE"
      }
    },
    {
      "cell_type": "markdown",
      "metadata": {
        "id": "Wlk7cxWUSs40"
      },
      "source": [
        "Now, we know the details such as number of samples, size of each sample, number of features (784), number of classes (targets) in the dataset.\n",
        "\n",
        "Let us spilt the total number of samples into train and test set in the following ratio: $60,000/10,000$ (that is, $60,000$ samples in the training set and $10,000$ samples in the testing set).\n",
        "\n",
        "**NOTE:** Since the samples in the data set are already randomly shuffled, we need **not to** shuffle it again. Therefore using `train_test_split()` may be skipped."
      ]
    },
    {
      "cell_type": "code",
      "metadata": {
        "id": "5ibaUXG4x5-z"
      },
      "source": [
        "x_train,x_test,y_train,y_test = X[:60000], X[60000:], y[:60000], y[60000:]"
      ],
      "execution_count": 9,
      "outputs": []
    },
    {
      "cell_type": "markdown",
      "metadata": {
        "id": "FKE1eCb4mByq"
      },
      "source": [
        "Before procedding further, we need to check whether the dataset is balanced or imbalanced. We can do it by plotting the distribution of samples in each classes."
      ]
    },
    {
      "cell_type": "code",
      "metadata": {
        "colab": {
          "base_uri": "https://localhost:8080/",
          "height": 342
        },
        "id": "Qr4R7hosbapS",
        "outputId": "56f40c7d-55d1-4777-e2af-4a187e35700d"
      },
      "source": [
        "plt.figure(figsize=(7, 3))\n",
        "sns.histplot(data=np.int8(y_train), binwidth=0.45, bins=11)\n",
        "plt.xticks(ticks=[0,1,2,3,4,5,6,7,8,9], labels=[0,1,2,3,4,5,6,7,8,9])\n",
        "plt.xlabel('Class')\n",
        "plt.title('Distribution of Samples')\n",
        "plt.show()"
      ],
      "execution_count": 10,
      "outputs": [
        {
          "output_type": "display_data",
          "data": {
            "text/plain": [
              "<Figure size 700x300 with 1 Axes>"
            ],
            "image/png": "[encoded data removed]"
          },
          "metadata": {}
        }
      ]
    },
    {
      "cell_type": "markdown",
      "metadata": {
        "id": "-a3G7kdIdlbn"
      },
      "source": [
        "#Binary Classification : 0-Detector"
      ]
    },
    {
      "cell_type": "markdown",
      "metadata": {
        "id": "BJhGvI3fV4_y"
      },
      "source": [
        "## Modifying Labels\n",
        "Let us start with a simple classification problem, that is, binary classification.\n",
        "* Since the original label vector contains **10** classes, we need to modfiy the number of classes to **2**\n",
        "\n",
        "* Therefore,  the label **0** will be changed to **1** and all other labels (1-9) will be changed to **-1**.\n",
        "\n",
        "* We name the label vectors as `y_train_0` and `y_test_0 `."
      ]
    },
    {
      "cell_type": "code",
      "metadata": {
        "id": "Qhs2a3IHzbGt"
      },
      "source": [
        "# Intialize new variable names with all -1\n",
        "y_train_0 = -1*np.ones((len(y_train)))\n",
        "y_test_0 = -1*np.ones((len(y_test)))\n",
        "\n",
        "# Find indices of digit 0 image\n",
        "# Remember original labels are of type str not int\n",
        "indx_0 = np.where(y_train =='0')\n",
        "\n",
        "# Use those indices to modify y_train_0 & y_test_0\n",
        "y_train_0[indx_0] = 1\n",
        "indx_0 = np.where(y_test == '0')\n",
        "y_test_0[indx_0] = 1"
      ],
      "execution_count": 11,
      "outputs": []
    },
    {
      "cell_type": "markdown",
      "metadata": {
        "id": "wyCCbcDzLe4I"
      },
      "source": [
        "## Sanity check ⚛\n",
        "Let's display the elements of `y_train` and `y_train_0` to verify whether the labels are properly modified. of course, we can't verify all the $60,000$ labels by inspection (unless we have a plenty of time or man power😀)"
      ]
    },
    {
      "cell_type": "code",
      "metadata": {
        "colab": {
          "base_uri": "https://localhost:8080/"
        },
        "id": "MEjZav6gLsOy",
        "outputId": "d76f553b-280f-4fc2-d327-3cb2108680ac"
      },
      "source": [
        "print(y_train)      # 10 class labels\n",
        "print(y_train_0)    # modified binary labels"
      ],
      "execution_count": 12,
      "outputs": [
        {
          "output_type": "stream",
          "name": "stdout",
          "text": [
            "['5' '0' '4' ... '5' '6' '8']\n",
            "[-1.  1. -1. ... -1. -1. -1.]\n"
          ]
        }
      ]
    },
    {
      "cell_type": "code",
      "metadata": {
        "colab": {
          "base_uri": "https://localhost:8080/"
        },
        "id": "XWP1nM_hVA2C",
        "outputId": "2e4b09e8-9a0f-434a-edcb-2bfbbd634354"
      },
      "source": [
        "print(np.where(y_train == '0'))       # index of label 0's in original vector y\n",
        "print(np.where(y_train_0 == 1))     # index of pos class in new vector"
      ],
      "execution_count": 13,
      "outputs": [
        {
          "output_type": "stream",
          "name": "stdout",
          "text": [
            "(array([    1,    21,    34, ..., 59952, 59972, 59987]),)\n",
            "(array([    1,    21,    34, ..., 59952, 59972, 59987]),)\n"
          ]
        }
      ]
    },
    {
      "cell_type": "code",
      "metadata": {
        "colab": {
          "base_uri": "https://localhost:8080/",
          "height": 521
        },
        "id": "JFWU_sdLSDJH",
        "outputId": "3175aa75-d9d2-4115-829d-93155e68b52f"
      },
      "source": [
        "num_images = 9        # Choose a square number\n",
        "factor = int(np.sqrt(num_images))\n",
        "fig,ax = plt.subplots(nrows=factor, ncols=factor, figsize=(8,6))\n",
        "idx_offset = 0                  # Take \"num_images\" starting from the index \"idx_offset\"\n",
        "\n",
        "for i in range(factor):\n",
        "  index = idx_offset+i*(factor)\n",
        "  for j in range(factor):\n",
        "    ax[i,j].imshow(X[index+j].reshape(28,28), cmap='gray')\n",
        "    ax[i,j].set_title('Label: {0}'.format(str(y_train_0[index+j])))\n",
        "    ax[i,j].set_axis_off()"
      ],
      "execution_count": 15,
      "outputs": [
        {
          "output_type": "display_data",
          "data": {
            "text/plain": [
              "<Figure size 800x600 with 9 Axes>"
            ],
            "image/png": "[encoded data removed]"
          },
          "metadata": {}
        }
      ]
    },
    {
      "cell_type": "markdown",
      "metadata": {
        "id": "cMIons1_TWup"
      },
      "source": [
        "#Basline Models\n",
        "\n",
        "  Enough about Data!\n",
        "  \n",
        "  Let us quickly construct a basline model with the following rule (you are free to a choose different rule) <br>\n",
        "\n",
        "1.   Count number of samples per class.\n",
        "2.   The model **always outputs** the class which has highest number of samples.\n",
        "3.   Then calculate the accuracy of the basline model."
      ]
    },
    {
      "cell_type": "code",
      "metadata": {
        "colab": {
          "base_uri": "https://localhost:8080/"
        },
        "id": "6Qq9w2WqVorf",
        "outputId": "4cd39a18-1445-46d9-849c-f4efb5d87039"
      },
      "source": [
        "num_pos = len(np.where(y_train_0 == 1)[0])\n",
        "num_neg = len(np.where(y_train_0 == -1)[0])\n",
        "print(num_pos, num_neg)"
      ],
      "execution_count": 16,
      "outputs": [
        {
          "output_type": "stream",
          "name": "stdout",
          "text": [
            "5923 54077\n"
          ]
        }
      ]
    },
    {
      "cell_type": "code",
      "metadata": {
        "id": "6G21mvLiZEDk"
      },
      "source": [
        "base_clf = DummyClassifier(strategy='most_frequent') # There are other strategies"
      ],
      "execution_count": 17,
      "outputs": []
    },
    {
      "cell_type": "code",
      "metadata": {
        "colab": {
          "base_uri": "https://localhost:8080/"
        },
        "id": "ZHENSxOwRIt5",
        "outputId": "123c815b-0d3d-44b5-a776-893f74a0fa2c"
      },
      "source": [
        "base_clf.fit(x_train, y_train_0)\n",
        "print('Training accuracy: {0:.2f}'.format(base_clf.score(x_train, y_train_0)))\n",
        "print('Testing accuracy: {0:.2f}'.format(base_clf.score(x_test, y_test_0)))"
      ],
      "execution_count": 18,
      "outputs": [
        {
          "output_type": "stream",
          "name": "stdout",
          "text": [
            "Training accuracy: 0.90\n",
            "Testing accuracy: 0.90\n"
          ]
        }
      ]
    },
    {
      "cell_type": "markdown",
      "metadata": {
        "id": "3UOZ9iVysJsk"
      },
      "source": [
        "Now the reason is obvious. The model would have predicted 54077 sample correctly just by outputing -1 for all the input samples.Therefore the accuracy will be $\\frac{54077}{60000} = 90.12\\%$.\n",
        "\n",
        "This is the reason why \"accuracy\" alone is not always a good measure!."
      ]
    },
    {
      "cell_type": "markdown",
      "metadata": {
        "id": "9U9OMAyktiXD"
      },
      "source": [
        "#Perceptron model\n",
        "\n",
        " Before using Perceptron for Binary Classification, it will be helpful to recall the important concepts (equations) covered in MLT course."
      ]
    },
    {
      "cell_type": "markdown",
      "metadata": {
        "id": "v7Mb615SyK67"
      },
      "source": [
        "## Recap (Theory)\n",
        "Let us quickly recap various components in the general settings:\n",
        "1.  **Training data**: (features, label) or $(\\mathbf{X}, y)$, where label $y$ is a **discrete** number from a finite set.**Features** in this case are pixel values of an image.\n",
        "2. **Model :** \\begin{eqnarray}\n",
        "  h_{\\mathbf{w}}: y &=& \\mathrm{g}(\\mathbf{w}^T \\mathbf{x}) \\\\\n",
        "    &=& \\mathrm{g}(w_0 + w_1 x_1 + \\ldots + w_m x_m)\n",
        "\\end{eqnarray}\n",
        "where,\n",
        "  * $\\mathbf{w}$ is a weight vector in $\\mathbb{R}^{(m+1)}$ i.e. it has components: $\\{w_0, w_1, \\ldots, w_m\\}$\n",
        "  * $\\mathrm{g}(.)$ is a non-linear activation function given by a signum function:\n",
        "\\begin{equation}\n",
        "  \\mathrm{g}(z) =\\left\\{\n",
        "  \\begin{array}{@{}ll@{}}\n",
        "    +1, & \\text{if}\\ z \\ge 0 \\\\\n",
        "    -1, & \\text{otherwise (i.e. } z < 0)\n",
        "  \\end{array}\\right.\n",
        "\\end{equation}\n",
        "3.**Loss function:**\n",
        "Let $\\widehat{y^{(i)}} \\in \\{-1, +1\\}$ be the prediction from perceptron and $y^{(i)}$ be the actual label for $i$-th example.  The error is\n",
        "\\begin{equation}\n",
        "  e^{(i)} =\\left\\{\n",
        "  \\begin{array}{@{}ll@{}}\n",
        "    0, & \\text{if}\\ \\widehat{y^{(i)}} = y^{(i)} \\\\\n",
        "    -\\mathbf{w}^T \\mathbf{x}^{(i)}y^{(i)}, & \\text{otherwise (i.e. }\\widehat{y^{(i)}} \\neq y^{(i)} )\n",
        "  \\end{array}\\right.\n",
        "\\end{equation}\n",
        "\n",
        "  This can be compactly written as:\n",
        "\\begin{equation}\n",
        "  e^{(i)} = \\mathrm{max}(-\\mathbf{w}^T \\mathbf{x}^{(i)}y^{(i)}, 0)\n",
        "          = \\mathrm{max}(-h_{\\mathbf{w}}(\\mathbf{x}^{(i)})y^{(i)}, 0)\n",
        "\\end{equation}\n",
        "4.**Optimization:**\n",
        "  * Perceptron learning algorithm\n",
        "  \n",
        "  1. Initialize $\\mathbf{w}^{(0)} = \\mathbf{0}$\n",
        "  2. For each training example $\\left(\\mathbf{x}^{(i)}, y^{(i)} \\right)$:\n",
        "    * $\\hat{y}^{(i)} = \\mathrm{sign}\\left(\\mathbf{w}^T \\mathbf{x}^{(i)}\\right)$   [Calculate the output value]\n",
        "    * $\\mathbf{w}^{(t+1)} := \\mathbf{w}^{(t)} + \\alpha (y^{(i)} - \\hat{y}^{(i)})\\ \\mathbf{x}^{(i)}$  [Update the weights]\n",
        "\n",
        "\n",
        "Linearly separable examples lead to convergence of the algorithm with zero training loss, else it oscillates."
      ]
    },
    {
      "cell_type": "markdown",
      "metadata": {
        "id": "sHGUMrKGhAMl"
      },
      "source": [
        "## Parameters of Perceptron class\n",
        "Let's quickly take a look into the important parameters of the `Perceptron()`\n",
        "\n",
        "```python\n",
        "class sklearn.linear_model.Perceptron(*, penalty=None, alpha=0.0001, l1_ratio=0.15, fit_intercept=True, max_iter=1000, tol=0.001,\n",
        "                                      shuffle=True, verbose=0, eta0=1.0, n_jobs=None, random_state=0, early_stopping=False,\n",
        "                                      validation_fraction=0.1, n_iter_no_change=5, class_weight=None, warm_start=False).\n",
        "```\n",
        "\n",
        "Need not to pay attention to all the arguments and their default values.\n",
        "\n",
        "Internally, the API uses the perceptron loss (i.e., the **Hinge(0.0)**, where $0.0$ is a threshold) and uses SGD to update the weights.\n",
        "\n",
        "The other way of deploying perceptron is to use the genral  `linear_model.SGDClassifier` with `loss='perceptron'`"
      ]
    },
    {
      "cell_type": "markdown",
      "metadata": {
        "id": "uVj-nmJHhtHC"
      },
      "source": [
        "## Instantiation\n",
        "Create an instantance of binary classifier `(bin_clf)`"
      ]
    },
    {
      "cell_type": "code",
      "metadata": {
        "id": "l-VmmguDF2NK"
      },
      "source": [
        "bin_clf = Perceptron(max_iter=100, random_state=1729)"
      ],
      "execution_count": 19,
      "outputs": []
    },
    {
      "cell_type": "markdown",
      "source": [
        "## Training and Prediction"
      ],
      "metadata": {
        "id": "JOMxu9AmqKaT"
      }
    },
    {
      "cell_type": "markdown",
      "metadata": {
        "id": "Wyegn53VzgaE"
      },
      "source": [
        "Call the `fit` method to train the model\n",
        "\n",
        "It would be nice to plot the iteration vs loss curve for the training. However, sklearn does not have a direct function to plot it. Nevertheless, we can workaround this using `partial_fit` method (Which will be demonstrated at the end of the lecture)"
      ]
    },
    {
      "cell_type": "code",
      "metadata": {
        "colab": {
          "base_uri": "https://localhost:8080/"
        },
        "id": "ihUCh5maspdv",
        "outputId": "d442cb49-2fd1-4511-9cd9-4908518e773e"
      },
      "source": [
        "bin_clf.fit(x_train,y_train_0)\n",
        "print('Dimention of Weights w: {0}'.format(bin_clf.coef_.shape))\n",
        "print('Bias :{0}'.format(bin_clf.intercept_))\n",
        "print('The loss function: {0}'.format(bin_clf.loss))"
      ],
      "execution_count": 31,
      "outputs": [
        {
          "output_type": "stream",
          "name": "stdout",
          "text": [
            "Dimention of Weights w: (1, 784)\n",
            "Bias :[-108.]\n",
            "The loss function: perceptron\n"
          ]
        }
      ]
    },
    {
      "cell_type": "markdown",
      "metadata": {
        "id": "LJsTECTWNtn8"
      },
      "source": [
        "Let us make  predictions on the train set and then calculate the training accuracy."
      ]
    },
    {
      "cell_type": "code",
      "metadata": {
        "colab": {
          "base_uri": "https://localhost:8080/"
        },
        "id": "DvM274K6HGHQ",
        "outputId": "471b6794-1a47-4ecc-a0bf-8899d9c5e475"
      },
      "source": [
        "# y_hat_train_0 = bin_clf.predict(x_train)\n",
        "print('Training Accuracy: ', bin_clf.score(x_train, y_train_0))"
      ],
      "execution_count": 36,
      "outputs": [
        {
          "output_type": "stream",
          "name": "stdout",
          "text": [
            "Training Accuracy:  0.99095\n"
          ]
        }
      ]
    },
    {
      "cell_type": "markdown",
      "metadata": {
        "id": "UKShZaEje-jK"
      },
      "source": [
        "Let us make the predictions on the test set and then calculate the testing accuracy."
      ]
    },
    {
      "cell_type": "code",
      "metadata": {
        "colab": {
          "base_uri": "https://localhost:8080/"
        },
        "id": "wCULv57OCOLT",
        "outputId": "6eda2162-00c9-4de5-8f74-704a43c94412"
      },
      "source": [
        "print('Test accuracy: ', bin_clf.score(x_test, y_test_0))"
      ],
      "execution_count": 37,
      "outputs": [
        {
          "output_type": "stream",
          "name": "stdout",
          "text": [
            "Test accuracy:  0.989\n"
          ]
        }
      ]
    },
    {
      "cell_type": "markdown",
      "source": [
        "## Displaying predictions\n",
        "* Take few images from the testset at random and display it with the corresponding predictions.\n",
        "\n",
        "* Plot a few images in a single figure window along with their respective **predictions**"
      ],
      "metadata": {
        "id": "fz4gSdQHdwx1"
      }
    },
    {
      "cell_type": "code",
      "metadata": {
        "colab": {
          "base_uri": "https://localhost:8080/",
          "height": 521
        },
        "id": "mbXzUZ0a3DiC",
        "outputId": "c775d237-ed11-4d11-d1af-ff3ffca3c1f4"
      },
      "source": [
        "y_hat_test_0 = bin_clf.predict(x_test)\n",
        "\n",
        "num_images = 9        # Choose a square number\n",
        "factor = int(np.sqrt(num_images))\n",
        "fig,ax = plt.subplots(nrows=factor, ncols=factor, figsize=(8,6))\n",
        "idx_offset = 0        # display \"num_images\" starting from idx_offset\n",
        "for i in range(factor):\n",
        "  index = idx_offset+i*(factor)\n",
        "  for j in range(factor):\n",
        "    ax[i,j].imshow(x_test[index+j].reshape(28,28),cmap='gray')        # we should not use x_train_with_dummy\n",
        "    ax[i,j].set_title('Prediction:{0}'.format(str(y_hat_test_0[index+j])))\n",
        "    ax[i,j].set_axis_off()"
      ],
      "execution_count": 38,
      "outputs": [
        {
          "output_type": "display_data",
          "data": {
            "text/plain": [
              "<Figure size 800x600 with 9 Axes>"
            ],
            "image/png": "[encoded data removed]"
          },
          "metadata": {}
        }
      ]
    },
    {
      "cell_type": "markdown",
      "source": [
        "Display images of positive classes from testset along with their predictions."
      ],
      "metadata": {
        "id": "lNvdc9cceeaq"
      }
    },
    {
      "cell_type": "code",
      "metadata": {
        "colab": {
          "base_uri": "https://localhost:8080/",
          "height": 521
        },
        "id": "efLJGS5FVTPd",
        "outputId": "13e92b5e-afa4-4dd6-f1ab-455105edf70a"
      },
      "source": [
        "indx_0 = np.where(y_test_0 == 1)\n",
        "zeroImgs = x_test[indx_0[0]]\n",
        "zeroLabls = y_hat_test_0[indx_0[0]]\n",
        "\n",
        "num_images = 9          # Choose a square number\n",
        "factor = int(np.sqrt(num_images))\n",
        "fig,ax = plt.subplots(nrows=factor, ncols=factor, figsize=(8,6))\n",
        "idx_offset = 0          # display \"num_images\" starting from idx_offset\n",
        "for i in range(factor):\n",
        "  index = idx_offset+i*(factor)\n",
        "  for j in range(factor):\n",
        "    ax[i,j].imshow(zeroImgs[index+j].reshape(28,28),cmap='gray')\n",
        "    ax[i,j].set_title('Prediction:{0}'.format(str(zeroLabls[index+j])))\n",
        "    ax[i,j].set_axis_off()"
      ],
      "execution_count": 39,
      "outputs": [
        {
          "output_type": "display_data",
          "data": {
            "text/plain": [
              "<Figure size 800x600 with 9 Axes>"
            ],
            "image/png": "[encoded data removed]"
          },
          "metadata": {}
        }
      ]
    },
    {
      "cell_type": "markdown",
      "metadata": {
        "id": "pE1zsrBhYMoX"
      },
      "source": [
        "It seems that there are a significant number of images that are correctly classified. Let's see how many?"
      ]
    },
    {
      "cell_type": "code",
      "metadata": {
        "colab": {
          "base_uri": "https://localhost:8080/"
        },
        "id": "CKeJEQMaX7YN",
        "outputId": "d1ec1fdd-b92a-4a47-c0a6-e02ae3acf50c"
      },
      "source": [
        "num_misclassified = np.count_nonzero(zeroLabls == -1)\n",
        "num_correctpred = len(zeroLabls) - num_misclassified\n",
        "accuracy = num_correctpred/len(zeroLabls)\n",
        "print(accuracy)"
      ],
      "execution_count": 41,
      "outputs": [
        {
          "output_type": "stream",
          "name": "stdout",
          "text": [
            "0.9193877551020408\n"
          ]
        }
      ]
    },
    {
      "cell_type": "markdown",
      "metadata": {
        "id": "1RI-4Uodbtc6"
      },
      "source": [
        "This above score (guess the name of the metric) is less than the accuracy score of the model but it seems preety descent !.\n",
        "\n",
        "Will it be the same if we consider an other digit, say, 5 for positive class and all other class as negative?..Of course not. You may cross check it. **(Take it as an exercise)**"
      ]
    },
    {
      "cell_type": "markdown",
      "metadata": {
        "id": "gg_MwdVzXtsx"
      },
      "source": [
        "# Better Evaluation metrics\n",
        "We now know that using the accuracy **alone** to measure the performance of the model is not suitalbe (esspecially for imbalanced datasets)\n",
        "So what are the more suitable metrics then?\n",
        "   "
      ]
    },
    {
      "cell_type": "markdown",
      "metadata": {
        "id": "7S23cDaR-5N5"
      },
      "source": [
        "## **Confusion Matrix**"
      ]
    },
    {
      "cell_type": "code",
      "metadata": {
        "colab": {
          "base_uri": "https://localhost:8080/",
          "height": 551
        },
        "id": "aUm_0fNM-InK",
        "outputId": "db1097eb-55c3-46c3-af73-07397b894ce2"
      },
      "source": [
        "y_hat_train_0 = bin_clf.predict(x_train)\n",
        "cm_display = ConfusionMatrixDisplay.from_predictions(y_train_0, y_hat_train_0, values_format='.5g') # It return matplotlib plot object\n",
        "plt.show()"
      ],
      "execution_count": 44,
      "outputs": [
        {
          "output_type": "display_data",
          "data": {
            "text/plain": [
              "<Figure size 800x600 with 2 Axes>"
            ],
            "image/png": "[encoded data removed]"
          },
          "metadata": {}
        }
      ]
    },
    {
      "cell_type": "markdown",
      "source": [
        "Pay attention to the number of FPs and FNs. Suppose for some reasons, we want the classifier to avoid FPs to a good extent irrespective of FNs, how can we acheive it?.\n",
        "\n",
        "To answer it, let's compute the other metrics which take FPs and FNs into account."
      ],
      "metadata": {
        "id": "sseC4QiXEOJR"
      }
    },
    {
      "cell_type": "markdown",
      "metadata": {
        "id": "BHT1g78P--xU"
      },
      "source": [
        "## Precision and Recall\n",
        "\n",
        "We can use the function `classification_report` to compute these parameters. However, for the time being let's compute these parameters using the data from the confusion matrix manually  (Not a difficult thing to do, right 😀?)."
      ]
    },
    {
      "cell_type": "code",
      "metadata": {
        "id": "6qN_rkTM1nqh"
      },
      "source": [
        "cf_matrix = cm_display.confusion_matrix\n",
        "tn = cf_matrix[0,0]\n",
        "fn = cf_matrix[1,0]\n",
        "fp = cf_matrix[0,1]\n",
        "tp = cf_matrix[1,1]"
      ],
      "execution_count": 45,
      "outputs": []
    },
    {
      "cell_type": "code",
      "metadata": {
        "colab": {
          "base_uri": "https://localhost:8080/"
        },
        "id": "szbjAZtG1tFe",
        "outputId": "0b5f3659-5df7-472e-a70c-c87e9a4ff89c"
      },
      "source": [
        "precision = tp/(tp+fp)\n",
        "print('Precision: ', precision)\n",
        "recall = tp/(tp+fn)\n",
        "print('Recall: ', recall)\n",
        "accuracy = (tn+tp)/(tn+tp+fn+fp)\n",
        "print('Accuracy: ', accuracy)"
      ],
      "execution_count": 46,
      "outputs": [
        {
          "output_type": "stream",
          "name": "stdout",
          "text": [
            "Precision:  0.9783072546230441\n",
            "Recall:  0.9289211548201924\n",
            "Accuracy:  0.99095\n"
          ]
        }
      ]
    },
    {
      "cell_type": "markdown",
      "source": [
        "The precision is close to 0.98. Despite it, we still want to increase the precision.. Let's come back to this later.\n",
        "\n",
        "In general, we would like to know whether the model under consideration with the set hyper-parameters is a good one for a given problem."
      ],
      "metadata": {
        "id": "IB8rJETbHKkt"
      }
    },
    {
      "cell_type": "markdown",
      "source": [
        "## Cross Validation\n",
        "Well, to address this, we have to use cross-validation folds and measure the same metrics across these folds for different values of hyper-parameters. However, perceptron does not many hyperparameters other than the learning rate.\n",
        "\n",
        "For the moment, we set the learning rate to its default value. Later, we use `GridSearchCV` to find the better value for the learning rate."
      ],
      "metadata": {
        "id": "nO4fz6Xe10yi"
      }
    },
    {
      "cell_type": "code",
      "source": [
        "bin_clf = Perceptron(max_iter=100, random_state=1729)           # Repeating for readability\n",
        "scores= cross_validate(bin_clf, x_train, y_train_0, cv=5,\n",
        "                       scoring=['precision','recall','f1'],\n",
        "                       return_estimator=True)\n",
        "pprint(scores)                                                  # The json object is printed in different lines to make the output readable"
      ],
      "metadata": {
        "colab": {
          "base_uri": "https://localhost:8080/"
        },
        "id": "CoK7QQfXe_qJ",
        "outputId": "7e93ad43-c255-41e7-cb38-f3c588b63bfd"
      },
      "execution_count": 48,
      "outputs": [
        {
          "output_type": "stream",
          "name": "stdout",
          "text": [
            "{'estimator': [Perceptron(max_iter=100, random_state=1729),\n",
            "               Perceptron(max_iter=100, random_state=1729),\n",
            "               Perceptron(max_iter=100, random_state=1729),\n",
            "               Perceptron(max_iter=100, random_state=1729),\n",
            "               Perceptron(max_iter=100, random_state=1729)],\n",
            " 'fit_time': array([1.20975399, 2.44865513, 1.5132463 , 1.35420227, 1.76227498]),\n",
            " 'score_time': array([0.05219984, 0.02712393, 0.02575517, 0.02595496, 0.0478673 ]),\n",
            " 'test_f1': array([0.95238095, 0.91666667, 0.94915254, 0.94117647, 0.95091763]),\n",
            " 'test_precision': array([0.95890411, 0.98828125, 0.95319149, 0.95090439, 0.96200345]),\n",
            " 'test_recall': array([0.94594595, 0.85472973, 0.94514768, 0.93164557, 0.94008439])}\n"
          ]
        }
      ]
    },
    {
      "cell_type": "markdown",
      "source": [
        "**Note:**  \n",
        "* The perceptron estimator passed as an argument to the function `cross_validate` is internally cloned `num_fold (cv=5)` times and fitted independently on each fold. (you can check this by setting `warm_start=True`)\n",
        "* Compute the average and standard deviation of scores for all three metrics on (k=5) folds to measure the generalization!."
      ],
      "metadata": {
        "id": "9AcclPRrFJK6"
      }
    },
    {
      "cell_type": "code",
      "source": [
        "print('f1 --        avg:{0:.2f}, std:{1:.3f}'.format(scores['test_f1'].mean(),        scores['test_f1'].std()))\n",
        "print('precision--  avg:{0:.2f}, std:{1:.2f}'.format(scores['test_precision'].mean(), scores['test_precision'].std()))\n",
        "print('recall--     avg:{0:.2f}, std:{1:.2f}'.format(scores['test_recall'].mean(),    scores['test_recall'].std()))"
      ],
      "metadata": {
        "colab": {
          "base_uri": "https://localhost:8080/"
        },
        "id": "O_5AfBmgFglk",
        "outputId": "c3a4997f-e91a-45e1-df2c-2484efcb98ce"
      },
      "execution_count": 49,
      "outputs": [
        {
          "output_type": "stream",
          "name": "stdout",
          "text": [
            "f1 --        avg:0.94, std:0.013\n",
            "precision--  avg:0.96, std:0.01\n",
            "recall--     avg:0.92, std:0.03\n"
          ]
        }
      ]
    },
    {
      "cell_type": "markdown",
      "source": [
        "Let us pick the first estimator returned by the cross-validate function.\n",
        "\n",
        "So we can hope that the model might also perform well on test data. Let's check that out.."
      ],
      "metadata": {
        "id": "xj4UWce3cMCu"
      }
    },
    {
      "cell_type": "code",
      "source": [
        "bin_clf = scores['estimator'][0]\n",
        "y_hat_test_0 = bin_clf.predict(x_test)\n",
        "cm_display = ConfusionMatrixDisplay.from_predictions(y_test_0, y_hat_test_0, values_format='.5g')"
      ],
      "metadata": {
        "colab": {
          "base_uri": "https://localhost:8080/",
          "height": 551
        },
        "id": "m51TQiMOcU8q",
        "outputId": "528b1868-b0cc-41e6-b9f8-850e65a3cf34"
      },
      "execution_count": 50,
      "outputs": [
        {
          "output_type": "display_data",
          "data": {
            "text/plain": [
              "<Figure size 800x600 with 2 Axes>"
            ],
            "image/png": "[encoded data removed]"
          },
          "metadata": {}
        }
      ]
    },
    {
      "cell_type": "code",
      "source": [
        "print('Precision %.2f' %precision_score(y_test_0, y_hat_test_0))\n",
        "print('Recall %.2f' %recall_score(y_test_0, y_hat_test_0))"
      ],
      "metadata": {
        "colab": {
          "base_uri": "https://localhost:8080/"
        },
        "id": "p6m80KHQdmFb",
        "outputId": "28aa5c39-75e0-4f1a-8d0f-ac27174dfa6f"
      },
      "execution_count": 51,
      "outputs": [
        {
          "output_type": "stream",
          "name": "stdout",
          "text": [
            "Precision 0.95\n",
            "Recall 0.95\n"
          ]
        }
      ]
    },
    {
      "cell_type": "markdown",
      "source": [
        "This is good!."
      ],
      "metadata": {
        "id": "-KgYfKIKeo5b"
      }
    },
    {
      "cell_type": "markdown",
      "source": [
        "**Way-2 for Generalization:** <br> (Optional)\n",
        "* There is an **another approach** of getting predicted labels via cross-validation and using it to measure the generalization.\n",
        "* In this case, each sample in the dataset will be part of only one test set in the splited folds.\n",
        "\n",
        "[Know more](https://scikit-learn.org/stable/modules/generated/sklearn.model_selection.cross_val_predict.html#sklearn.model_selection.cross_val_predict)"
      ],
      "metadata": {
        "id": "nQmvP7FPIK4c"
      }
    },
    {
      "cell_type": "code",
      "metadata": {
        "id": "p14qSvCj5AMc"
      },
      "source": [
        "y_hat_train_0 = cross_val_predict(bin_clf, x_train, y_train_0, cv=5)"
      ],
      "execution_count": null,
      "outputs": []
    },
    {
      "cell_type": "code",
      "metadata": {
        "colab": {
          "base_uri": "https://localhost:8080/",
          "height": 286
        },
        "id": "NFQW6zsd82MW",
        "outputId": "ddf034d2-246e-40c7-b538-f913167e7cc1"
      },
      "source": [
        "cm_display = ConfusionMatrixDisplay.from_predictions(y_train_0,y_hat_train_0,values_format='.5g') # it return matplotlin plot object\n",
        "plt.show()"
      ],
      "execution_count": null,
      "outputs": [
        {
          "output_type": "display_data",
          "data": {
            "text/plain": [
              "<Figure size 432x288 with 2 Axes>"
            ],
            "image/png": "[encoded data removed]"
          },
          "metadata": {
            "needs_background": "light"
          }
        }
      ]
    },
    {
      "cell_type": "code",
      "metadata": {
        "id": "QOjVk_EeH0C4"
      },
      "source": [
        "cf_matrix = cm_display.confusion_matrix\n",
        "tn = cf_matrix[0,0]\n",
        "fn = cf_matrix[1,0]\n",
        "fp = cf_matrix[0,1]\n",
        "tp = cf_matrix[1,1]"
      ],
      "execution_count": null,
      "outputs": []
    },
    {
      "cell_type": "code",
      "metadata": {
        "colab": {
          "base_uri": "https://localhost:8080/"
        },
        "id": "JjKNKQ_uK7PK",
        "outputId": "6a7b7773-614c-490c-d55a-e6da6a86910c"
      },
      "source": [
        "precision = tp/(tp+fp)\n",
        "print('Precision: %.2f'%precision)\n",
        "recall = tp/(tp+fn)\n",
        "print('Recall:%.2f'%recall)\n",
        "f1 = 2/((1/precision)+(1/recall))\n",
        "print('f1:%.2f'%f1)\n",
        "accuracy = (tn+tp)/(tn+tp+fn+fp)\n",
        "print('Accuracy: %.2f'%accuracy)\n"
      ],
      "execution_count": null,
      "outputs": [
        {
          "output_type": "stream",
          "name": "stdout",
          "text": [
            "Precision: 0.96\n",
            "Recall:0.92\n",
            "f1:0.94\n",
            "Accuracy: 0.99\n"
          ]
        }
      ]
    },
    {
      "cell_type": "markdown",
      "source": [
        "* Compare the precision and recall score obtained by the above method with that of the previous method (i.e., using `cross_validate` )\n",
        "\n",
        "* Finally, we can print all these scores as a report using the `classification_report `function"
      ],
      "metadata": {
        "id": "iW57-H_Vmg69"
      }
    },
    {
      "cell_type": "code",
      "metadata": {
        "id": "irhPI3u1snYm",
        "colab": {
          "base_uri": "https://localhost:8080/"
        },
        "outputId": "112f8a4b-102e-43ad-86de-111919dfa114"
      },
      "source": [
        "print('Precision %.2f'%precision_score(y_train_0,y_hat_train_0))\n",
        "print('Recall %.2f'%recall_score(y_train_0,y_hat_train_0))\n",
        "print('-'*50)\n",
        "print(classification_report(y_train_0,y_hat_train_0))"
      ],
      "execution_count": null,
      "outputs": [
        {
          "output_type": "stream",
          "name": "stdout",
          "text": [
            "Precision 0.96\n",
            "Recall 0.92\n",
            "--------------------------------------------------\n",
            "              precision    recall  f1-score   support\n",
            "\n",
            "        -1.0       0.99      1.00      0.99     54077\n",
            "         1.0       0.96      0.92      0.94      5923\n",
            "\n",
            "    accuracy                           0.99     60000\n",
            "   macro avg       0.98      0.96      0.97     60000\n",
            "weighted avg       0.99      0.99      0.99     60000\n",
            "\n"
          ]
        }
      ]
    },
    {
      "cell_type": "markdown",
      "metadata": {
        "id": "DUvolVyjAhHd"
      },
      "source": [
        "## Precision/Recall Tradeoff\n",
        "Often we need to make a trade off between precision and recall scores of a model. It is important to note that we should **not** pass the **predicted labels** as input  to `precision_recall_curve` function, instead we need  to pass the probability scores or the output from the decision function!.\n",
        "\n",
        "The `Perceptron()` class contains a `decision_function` method, therefore we can make use of it. Then, internaly the decision scores are sorted, **tps** and **fps** will be computed by changing the threshold from `index[0]` to `index[-1]`.\n",
        "\n",
        "Let us compute the scores from the decision function."
      ]
    },
    {
      "cell_type": "code",
      "metadata": {
        "colab": {
          "base_uri": "https://localhost:8080/",
          "height": 526
        },
        "id": "us6jMhFMDf14",
        "outputId": "9bcbb3e9-5701-4b3e-ce99-62d25041f46a"
      },
      "source": [
        "bin_clf = Perceptron(random_state=1729)\n",
        "bin_clf.fit(x_train, y_train_0)\n",
        "y_scores = bin_clf.decision_function(x_train)\n",
        "sns.histplot(np.sort(y_scores))\n",
        "plt.show()"
      ],
      "execution_count": 52,
      "outputs": [
        {
          "output_type": "display_data",
          "data": {
            "text/plain": [
              "<Figure size 800x600 with 1 Axes>"
            ],
            "image/png": "[encoded data removed]"
          },
          "metadata": {}
        }
      ]
    },
    {
      "cell_type": "markdown",
      "source": [
        "Can you think why there are so many negative values than the positives?. <br>\n",
        "**Hint:** Class-Imbalance <br>\n",
        "* Suppose threshold takes the value of -600,then all the samples having score greater than -600 is set to 1(Positive label) and less than it is set to -1 (neg label).\n",
        "* Therefore, the number of False Positives will be increased. This will in turn reduce the precision score to a greater extent.\n",
        "\n",
        "* On the otherhand, if the threshold takes the value of, say, 400. Then, the number of false negatives will be increase and hence the recall will reduce to a greater extent.\n",
        "\n",
        "Let's see it in action."
      ],
      "metadata": {
        "id": "AOcpR6qkJ7jS"
      }
    },
    {
      "cell_type": "code",
      "metadata": {
        "id": "OExAtTMBCVgP"
      },
      "source": [
        "precisions, recalls, thresholds = precision_recall_curve(y_train_0, y_scores, pos_label=1)"
      ],
      "execution_count": 53,
      "outputs": []
    },
    {
      "cell_type": "code",
      "source": [
        "plt.figure(figsize=(8, 4))\n",
        "plt.plot(precisions[:-1], recalls[:-1], \"b--\")\n",
        "plt.xlabel('Precision')\n",
        "plt.ylabel('Recall')\n",
        "plt.grid(True)\n",
        "plt.show()"
      ],
      "metadata": {
        "colab": {
          "base_uri": "https://localhost:8080/",
          "height": 397
        },
        "id": "STNMYizJ9WuF",
        "outputId": "d1073688-234e-4b1e-af50-d83194d3a03e"
      },
      "execution_count": 59,
      "outputs": [
        {
          "output_type": "display_data",
          "data": {
            "text/plain": [
              "<Figure size 800x400 with 1 Axes>"
            ],
            "image/png": "[encoded data removed]"
          },
          "metadata": {}
        }
      ]
    },
    {
      "cell_type": "code",
      "metadata": {
        "colab": {
          "base_uri": "https://localhost:8080/",
          "height": 397
        },
        "id": "PojEQSz3D-50",
        "outputId": "35d4b8dd-9b92-4735-d3b0-08eed2d47544"
      },
      "source": [
        "plt.figure(figsize=(8, 4))\n",
        "plt.plot(thresholds, precisions[:-1], \"b--\", label=\"Precision\")\n",
        "plt.plot(thresholds, recalls[:-1], \"g-\", label=\"Recall\")\n",
        "plt.xlabel('Threshold')\n",
        "plt.grid(True)\n",
        "plt.legend(loc='upper right')\n",
        "plt.show()"
      ],
      "execution_count": 62,
      "outputs": [
        {
          "output_type": "display_data",
          "data": {
            "text/plain": [
              "<Figure size 800x400 with 1 Axes>"
            ],
            "image/png": "[encoded data removed]"
          },
          "metadata": {}
        }
      ]
    },
    {
      "cell_type": "code",
      "source": [
        "# Get the index of threshold around zero\n",
        "idx_th = np.where(np.logical_and(thresholds>0, thresholds<1))\n",
        "print('precision for zero thereshold:', precisions[idx_th[0][0]])"
      ],
      "metadata": {
        "colab": {
          "base_uri": "https://localhost:8080/"
        },
        "id": "dTog70DmqpNT",
        "outputId": "554315ef-fff8-4825-ef61-ee8a88a84a0e"
      },
      "execution_count": 63,
      "outputs": [
        {
          "output_type": "stream",
          "name": "stdout",
          "text": [
            "precision for zero thereshold: 0.9783072546230441\n"
          ]
        }
      ]
    },
    {
      "cell_type": "markdown",
      "source": [
        "**Here is the solution** to the question how can we increase the precision of the classifier by compromising the recall. we can make use of the above plot. Let's see how."
      ],
      "metadata": {
        "id": "v5LVOAxnKE3c"
      }
    },
    {
      "cell_type": "code",
      "source": [
        "def predict(y_scores):\n",
        "  y_hat = np.where(y_scores>20, 1, -1)        # Shifted signum function\n",
        "  return y_hat"
      ],
      "metadata": {
        "id": "qv7OOEk0KLYa"
      },
      "execution_count": 64,
      "outputs": []
    },
    {
      "cell_type": "code",
      "source": [
        "y_hat_train_0_thrsh = predict(y_scores)\n",
        "print(classification_report(y_train_0, y_hat_train_0_thrsh))\n"
      ],
      "metadata": {
        "colab": {
          "base_uri": "https://localhost:8080/"
        },
        "id": "HlTU9g-0Khdf",
        "outputId": "7cdc75f6-edfd-4919-cc11-61f9bc2109d9"
      },
      "execution_count": 65,
      "outputs": [
        {
          "output_type": "stream",
          "name": "stdout",
          "text": [
            "              precision    recall  f1-score   support\n",
            "\n",
            "        -1.0       0.99      1.00      0.99     54077\n",
            "         1.0       0.99      0.90      0.94      5923\n",
            "\n",
            "    accuracy                           0.99     60000\n",
            "   macro avg       0.99      0.95      0.97     60000\n",
            "weighted avg       0.99      0.99      0.99     60000\n",
            "\n"
          ]
        }
      ]
    },
    {
      "cell_type": "markdown",
      "metadata": {
        "id": "GI-5sCJ1F41w"
      },
      "source": [
        "## The ROC Curve"
      ]
    },
    {
      "cell_type": "code",
      "metadata": {
        "id": "b5kchjo_F_dQ",
        "colab": {
          "base_uri": "https://localhost:8080/",
          "height": 397
        },
        "outputId": "7665177c-b95a-4333-cd4c-87390bc04991"
      },
      "source": [
        "fpr, tpr, thresholds = roc_curve(y_train_0, y_scores)\n",
        "plt.figure(figsize=(8, 4))\n",
        "plt.plot(fpr, tpr, linewidth=2, label='Perceptron')\n",
        "plt.plot([0, 1], [0, 1], 'k--', label='Base Estimator')\n",
        "plt.xlabel('False Positive Rate')\n",
        "plt.ylabel('True Positive Rate')\n",
        "plt.grid(True)\n",
        "plt.legend()\n",
        "plt.show()"
      ],
      "execution_count": 70,
      "outputs": [
        {
          "output_type": "display_data",
          "data": {
            "text/plain": [
              "<Figure size 800x400 with 1 Axes>"
            ],
            "image/png": "[encoded data removed]"
          },
          "metadata": {}
        }
      ]
    },
    {
      "cell_type": "markdown",
      "source": [
        "# Warm start vs Cold Start\n"
      ],
      "metadata": {
        "id": "pOZ2fBdhsCPg"
      }
    },
    {
      "cell_type": "markdown",
      "source": [
        "## Cold Start\n",
        "If we execute the `fit` method of `bin_clf` repeatedly, we get the same score for both training and testing accuracy. This because every time the` fit `method is called, the model weights are initialized to the same values. Therfore, we obtain the same score. This is termed as **cold start**. Let's execute the following cell 4 times and observe the score."
      ],
      "metadata": {
        "id": "oHhqgCpQtdFK"
      }
    },
    {
      "cell_type": "code",
      "source": [
        "bin_clf.fit(x_train, y_train_0)\n",
        "print('Training Accuracy:', bin_clf.score(x_train, y_train_0))\n",
        "print('Test accuracy: ', bin_clf.score(x_test, y_test_0))"
      ],
      "metadata": {
        "colab": {
          "base_uri": "https://localhost:8080/"
        },
        "id": "gXTx4EgcpABX",
        "outputId": "235085e5-0c4c-4dec-899e-8e4ec2454419"
      },
      "execution_count": 76,
      "outputs": [
        {
          "output_type": "stream",
          "name": "stdout",
          "text": [
            "Training Accuracy: 0.99095\n",
            "Test accuracy:  0.989\n"
          ]
        }
      ]
    },
    {
      "cell_type": "markdown",
      "source": [
        "## Warm Start\n",
        "There is an approach called `Warm Start`. Setting `warm_start=True` retains the weight values of the model after `max_iter` and hence produce different results for each execution.\n",
        "\n",
        "Warm starting is  useful in many ways.\n",
        "* It helps us train the model by initializing the weight values from the previous state. So we can pause the training and resume it whenever we get the resource for computation.\n",
        "\n",
        "* Of course, it is not required for simple models like perceptron and for a small dataset like MNIST.\n",
        "\n",
        "* In this notebook, we use this feature to plot the `iteration vs loss` curve.\n",
        "\n",
        "Let us execute the following lines of code 4 times and observe how the training accuracy changes for each execution."
      ],
      "metadata": {
        "id": "cXTd_j2cpEQM"
      }
    },
    {
      "cell_type": "code",
      "source": [
        "bin_clf_warm = Perceptron(max_iter=100, random_state=1729, warm_start=True)"
      ],
      "metadata": {
        "id": "UE_u8H8FutAl"
      },
      "execution_count": 75,
      "outputs": []
    },
    {
      "cell_type": "code",
      "source": [
        "bin_clf_warm.fit(x_train,y_train_0)\n",
        "print('Training Accuracy:', bin_clf_warm.score(x_train, y_train_0))"
      ],
      "metadata": {
        "colab": {
          "base_uri": "https://localhost:8080/"
        },
        "id": "1tTcLOnqvXfN",
        "outputId": "8f807b2a-0fe2-4214-d707-289302b9adcb"
      },
      "execution_count": 82,
      "outputs": [
        {
          "output_type": "stream",
          "name": "stdout",
          "text": [
            "Training Accuracy: 0.9919\n"
          ]
        }
      ]
    },
    {
      "cell_type": "markdown",
      "metadata": {
        "id": "5d5h28TFcvJk"
      },
      "source": [
        "# Multiclass Classifier (OneVsAll)\n",
        "\n",
        "We know that the perceptron is a binary classifier. However, MNIST dataset contains 10 classes. Then how can we extend the idea to handle multi-class problems?\n",
        "\n",
        "**Solution:** Combine multiple binary classifiers and devise a suitable scoring metric.\n",
        "\n",
        "Sklearn makes it extremely easy without modifying a single line of code that we have written for the binary classifier.\n",
        "\n",
        "Sklearn does this by counting a number of unique elements (10 in this case) in the label vector `y_train ` and converting labels  using `LabelBinarizer`to fit each binary classifer (Remember binary classifier requires binary labels, Tautology :-))\n",
        "\n",
        "That's all!"
      ]
    },
    {
      "cell_type": "code",
      "metadata": {
        "id": "W8UX5TuZeKrc"
      },
      "source": [
        "clf = Perceptron(random_state=1729)"
      ],
      "execution_count": 84,
      "outputs": []
    },
    {
      "cell_type": "code",
      "source": [
        "# Let's use label binarizer just to see the encoding\n",
        "y_train_ovr = LabelBinarizer().fit_transform(y_train)   # Setting sparse_output=True in LabelBinarizer() improves efficiency\n",
        "for i in range(10):\n",
        "  print('{0}:{1}'.format(y_train[i], y_train_ovr[i]))"
      ],
      "metadata": {
        "colab": {
          "base_uri": "https://localhost:8080/"
        },
        "id": "ok68GlcHpbxt",
        "outputId": "2442ce0d-6925-4fd7-da2e-0f38e5ae4791"
      },
      "execution_count": 85,
      "outputs": [
        {
          "output_type": "stream",
          "name": "stdout",
          "text": [
            "5:[0 0 0 0 0 1 0 0 0 0]\n",
            "0:[1 0 0 0 0 0 0 0 0 0]\n",
            "4:[0 0 0 0 1 0 0 0 0 0]\n",
            "1:[0 1 0 0 0 0 0 0 0 0]\n",
            "9:[0 0 0 0 0 0 0 0 0 1]\n",
            "2:[0 0 1 0 0 0 0 0 0 0]\n",
            "1:[0 1 0 0 0 0 0 0 0 0]\n",
            "3:[0 0 0 1 0 0 0 0 0 0]\n",
            "1:[0 1 0 0 0 0 0 0 0 0]\n",
            "4:[0 0 0 0 1 0 0 0 0 0]\n"
          ]
        }
      ]
    },
    {
      "cell_type": "markdown",
      "source": [
        "The `y_train_ovr` will be of size of size $60000 \\times 10$.\n",
        "\n",
        "The first column will be a (binary) label vector for 0-detector 😀 and the next one for 1-Detector and so on.\n"
      ],
      "metadata": {
        "id": "QfymDHFKr5Vi"
      }
    },
    {
      "cell_type": "code",
      "metadata": {
        "colab": {
          "base_uri": "https://localhost:8080/",
          "height": 80
        },
        "id": "C4jwurGBeLow",
        "outputId": "a8fffea6-17c2-4403-e3af-bff2c98f4b37"
      },
      "source": [
        "clf.fit(x_train, y_train)"
      ],
      "execution_count": 86,
      "outputs": [
        {
          "output_type": "execute_result",
          "data": {
            "text/plain": [
              "Perceptron(random_state=1729)"
            ],
            "text/html": [
              "<style>#sk-container-id-1 {\n",
              "  /* Definition of color scheme common for light and dark mode */\n",
              "  --sklearn-color-text: #000;\n",
              "  --sklearn-color-text-muted: #666;\n",
              "  --sklearn-color-line: gray;\n",
              "  /* Definition of color scheme for unfitted estimators */\n",
              "  --sklearn-color-unfitted-level-0: #fff5e6;\n",
              "  --sklearn-color-unfitted-level-1: #f6e4d2;\n",
              "  --sklearn-color-unfitted-level-2: #ffe0b3;\n",
              "  --sklearn-color-unfitted-level-3: chocolate;\n",
              "  /* Definition of color scheme for fitted estimators */\n",
              "  --sklearn-color-fitted-level-0: #f0f8ff;\n",
              "  --sklearn-color-fitted-level-1: #d4ebff;\n",
              "  --sklearn-color-fitted-level-2: #b3dbfd;\n",
              "  --sklearn-color-fitted-level-3: cornflowerblue;\n",
              "\n",
              "  /* Specific color for light theme */\n",
              "  --sklearn-color-text-on-default-background: var(--sg-text-color, var(--theme-code-foreground, var(--jp-content-font-color1, black)));\n",
              "  --sklearn-color-background: var(--sg-background-color, var(--theme-background, var(--jp-layout-color0, white)));\n",
              "  --sklearn-color-border-box: var(--sg-text-color, var(--theme-code-foreground, var(--jp-content-font-color1, black)));\n",
              "  --sklearn-color-icon: #696969;\n",
              "\n",
              "  @media (prefers-color-scheme: dark) {\n",
              "    /* Redefinition of color scheme for dark theme */\n",
              "    --sklearn-color-text-on-default-background: var(--sg-text-color, var(--theme-code-foreground, var(--jp-content-font-color1, white)));\n",
              "    --sklearn-color-background: var(--sg-background-color, var(--theme-background, var(--jp-layout-color0, #111)));\n",
              "    --sklearn-color-border-box: var(--sg-text-color, var(--theme-code-foreground, var(--jp-content-font-color1, white)));\n",
              "    --sklearn-color-icon: #878787;\n",
              "  }\n",
              "}\n",
              "\n",
              "#sk-container-id-1 {\n",
              "  color: var(--sklearn-color-text);\n",
              "}\n",
              "\n",
              "#sk-container-id-1 pre {\n",
              "  padding: 0;\n",
              "}\n",
              "\n",
              "#sk-container-id-1 input.sk-hidden--visually {\n",
              "  border: 0;\n",
              "  clip: rect(1px 1px 1px 1px);\n",
              "  clip: rect(1px, 1px, 1px, 1px);\n",
              "  height: 1px;\n",
              "  margin: -1px;\n",
              "  overflow: hidden;\n",
              "  padding: 0;\n",
              "  position: absolute;\n",
              "  width: 1px;\n",
              "}\n",
              "\n",
              "#sk-container-id-1 div.sk-dashed-wrapped {\n",
              "  border: 1px dashed var(--sklearn-color-line);\n",
              "  margin: 0 0.4em 0.5em 0.4em;\n",
              "  box-sizing: border-box;\n",
              "  padding-bottom: 0.4em;\n",
              "  background-color: var(--sklearn-color-background);\n",
              "}\n",
              "\n",
              "#sk-container-id-1 div.sk-container {\n",
              "  /* jupyter's `normalize.less` sets `[hidden] { display: none; }`\n",
              "     but bootstrap.min.css set `[hidden] { display: none !important; }`\n",
              "     so we also need the `!important` here to be able to override the\n",
              "     default hidden behavior on the sphinx rendered scikit-learn.org.\n",
              "     See: https://github.com/scikit-learn/scikit-learn/issues/21755 */\n",
              "  display: inline-block !important;\n",
              "  position: relative;\n",
              "}\n",
              "\n",
              "#sk-container-id-1 div.sk-text-repr-fallback {\n",
              "  display: none;\n",
              "}\n",
              "\n",
              "div.sk-parallel-item,\n",
              "div.sk-serial,\n",
              "div.sk-item {\n",
              "  /* draw centered vertical line to link estimators */\n",
              "  background-image: linear-gradient(var(--sklearn-color-text-on-default-background), var(--sklearn-color-text-on-default-background));\n",
              "  background-size: 2px 100%;\n",
              "  background-repeat: no-repeat;\n",
              "  background-position: center center;\n",
              "}\n",
              "\n",
              "/* Parallel-specific style estimator block */\n",
              "\n",
              "#sk-container-id-1 div.sk-parallel-item::after {\n",
              "  content: \"\";\n",
              "  width: 100%;\n",
              "  border-bottom: 2px solid var(--sklearn-color-text-on-default-background);\n",
              "  flex-grow: 1;\n",
              "}\n",
              "\n",
              "#sk-container-id-1 div.sk-parallel {\n",
              "  display: flex;\n",
              "  align-items: stretch;\n",
              "  justify-content: center;\n",
              "  background-color: var(--sklearn-color-background);\n",
              "  position: relative;\n",
              "}\n",
              "\n",
              "#sk-container-id-1 div.sk-parallel-item {\n",
              "  display: flex;\n",
              "  flex-direction: column;\n",
              "}\n",
              "\n",
              "#sk-container-id-1 div.sk-parallel-item:first-child::after {\n",
              "  align-self: flex-end;\n",
              "  width: 50%;\n",
              "}\n",
              "\n",
              "#sk-container-id-1 div.sk-parallel-item:last-child::after {\n",
              "  align-self: flex-start;\n",
              "  width: 50%;\n",
              "}\n",
              "\n",
              "#sk-container-id-1 div.sk-parallel-item:only-child::after {\n",
              "  width: 0;\n",
              "}\n",
              "\n",
              "/* Serial-specific style estimator block */\n",
              "\n",
              "#sk-container-id-1 div.sk-serial {\n",
              "  display: flex;\n",
              "  flex-direction: column;\n",
              "  align-items: center;\n",
              "  background-color: var(--sklearn-color-background);\n",
              "  padding-right: 1em;\n",
              "  padding-left: 1em;\n",
              "}\n",
              "\n",
              "\n",
              "/* Toggleable style: style used for estimator/Pipeline/ColumnTransformer box that is\n",
              "clickable and can be expanded/collapsed.\n",
              "- Pipeline and ColumnTransformer use this feature and define the default style\n",
              "- Estimators will overwrite some part of the style using the `sk-estimator` class\n",
              "*/\n",
              "\n",
              "/* Pipeline and ColumnTransformer style (default) */\n",
              "\n",
              "#sk-container-id-1 div.sk-toggleable {\n",
              "  /* Default theme specific background. It is overwritten whether we have a\n",
              "  specific estimator or a Pipeline/ColumnTransformer */\n",
              "  background-color: var(--sklearn-color-background);\n",
              "}\n",
              "\n",
              "/* Toggleable label */\n",
              "#sk-container-id-1 label.sk-toggleable__label {\n",
              "  cursor: pointer;\n",
              "  display: flex;\n",
              "  width: 100%;\n",
              "  margin-bottom: 0;\n",
              "  padding: 0.5em;\n",
              "  box-sizing: border-box;\n",
              "  text-align: center;\n",
              "  align-items: start;\n",
              "  justify-content: space-between;\n",
              "  gap: 0.5em;\n",
              "}\n",
              "\n",
              "#sk-container-id-1 label.sk-toggleable__label .caption {\n",
              "  font-size: 0.6rem;\n",
              "  font-weight: lighter;\n",
              "  color: var(--sklearn-color-text-muted);\n",
              "}\n",
              "\n",
              "#sk-container-id-1 label.sk-toggleable__label-arrow:before {\n",
              "  /* Arrow on the left of the label */\n",
              "  content: \"▸\";\n",
              "  float: left;\n",
              "  margin-right: 0.25em;\n",
              "  color: var(--sklearn-color-icon);\n",
              "}\n",
              "\n",
              "#sk-container-id-1 label.sk-toggleable__label-arrow:hover:before {\n",
              "  color: var(--sklearn-color-text);\n",
              "}\n",
              "\n",
              "/* Toggleable content - dropdown */\n",
              "\n",
              "#sk-container-id-1 div.sk-toggleable__content {\n",
              "  max-height: 0;\n",
              "  max-width: 0;\n",
              "  overflow: hidden;\n",
              "  text-align: left;\n",
              "  /* unfitted */\n",
              "  background-color: var(--sklearn-color-unfitted-level-0);\n",
              "}\n",
              "\n",
              "#sk-container-id-1 div.sk-toggleable__content.fitted {\n",
              "  /* fitted */\n",
              "  background-color: var(--sklearn-color-fitted-level-0);\n",
              "}\n",
              "\n",
              "#sk-container-id-1 div.sk-toggleable__content pre {\n",
              "  margin: 0.2em;\n",
              "  border-radius: 0.25em;\n",
              "  color: var(--sklearn-color-text);\n",
              "  /* unfitted */\n",
              "  background-color: var(--sklearn-color-unfitted-level-0);\n",
              "}\n",
              "\n",
              "#sk-container-id-1 div.sk-toggleable__content.fitted pre {\n",
              "  /* unfitted */\n",
              "  background-color: var(--sklearn-color-fitted-level-0);\n",
              "}\n",
              "\n",
              "#sk-container-id-1 input.sk-toggleable__control:checked~div.sk-toggleable__content {\n",
              "  /* Expand drop-down */\n",
              "  max-height: 200px;\n",
              "  max-width: 100%;\n",
              "  overflow: auto;\n",
              "}\n",
              "\n",
              "#sk-container-id-1 input.sk-toggleable__control:checked~label.sk-toggleable__label-arrow:before {\n",
              "  content: \"▾\";\n",
              "}\n",
              "\n",
              "/* Pipeline/ColumnTransformer-specific style */\n",
              "\n",
              "#sk-container-id-1 div.sk-label input.sk-toggleable__control:checked~label.sk-toggleable__label {\n",
              "  color: var(--sklearn-color-text);\n",
              "  background-color: var(--sklearn-color-unfitted-level-2);\n",
              "}\n",
              "\n",
              "#sk-container-id-1 div.sk-label.fitted input.sk-toggleable__control:checked~label.sk-toggleable__label {\n",
              "  background-color: var(--sklearn-color-fitted-level-2);\n",
              "}\n",
              "\n",
              "/* Estimator-specific style */\n",
              "\n",
              "/* Colorize estimator box */\n",
              "#sk-container-id-1 div.sk-estimator input.sk-toggleable__control:checked~label.sk-toggleable__label {\n",
              "  /* unfitted */\n",
              "  background-color: var(--sklearn-color-unfitted-level-2);\n",
              "}\n",
              "\n",
              "#sk-container-id-1 div.sk-estimator.fitted input.sk-toggleable__control:checked~label.sk-toggleable__label {\n",
              "  /* fitted */\n",
              "  background-color: var(--sklearn-color-fitted-level-2);\n",
              "}\n",
              "\n",
              "#sk-container-id-1 div.sk-label label.sk-toggleable__label,\n",
              "#sk-container-id-1 div.sk-label label {\n",
              "  /* The background is the default theme color */\n",
              "  color: var(--sklearn-color-text-on-default-background);\n",
              "}\n",
              "\n",
              "/* On hover, darken the color of the background */\n",
              "#sk-container-id-1 div.sk-label:hover label.sk-toggleable__label {\n",
              "  color: var(--sklearn-color-text);\n",
              "  background-color: var(--sklearn-color-unfitted-level-2);\n",
              "}\n",
              "\n",
              "/* Label box, darken color on hover, fitted */\n",
              "#sk-container-id-1 div.sk-label.fitted:hover label.sk-toggleable__label.fitted {\n",
              "  color: var(--sklearn-color-text);\n",
              "  background-color: var(--sklearn-color-fitted-level-2);\n",
              "}\n",
              "\n",
              "/* Estimator label */\n",
              "\n",
              "#sk-container-id-1 div.sk-label label {\n",
              "  font-family: monospace;\n",
              "  font-weight: bold;\n",
              "  display: inline-block;\n",
              "  line-height: 1.2em;\n",
              "}\n",
              "\n",
              "#sk-container-id-1 div.sk-label-container {\n",
              "  text-align: center;\n",
              "}\n",
              "\n",
              "/* Estimator-specific */\n",
              "#sk-container-id-1 div.sk-estimator {\n",
              "  font-family: monospace;\n",
              "  border: 1px dotted var(--sklearn-color-border-box);\n",
              "  border-radius: 0.25em;\n",
              "  box-sizing: border-box;\n",
              "  margin-bottom: 0.5em;\n",
              "  /* unfitted */\n",
              "  background-color: var(--sklearn-color-unfitted-level-0);\n",
              "}\n",
              "\n",
              "#sk-container-id-1 div.sk-estimator.fitted {\n",
              "  /* fitted */\n",
              "  background-color: var(--sklearn-color-fitted-level-0);\n",
              "}\n",
              "\n",
              "/* on hover */\n",
              "#sk-container-id-1 div.sk-estimator:hover {\n",
              "  /* unfitted */\n",
              "  background-color: var(--sklearn-color-unfitted-level-2);\n",
              "}\n",
              "\n",
              "#sk-container-id-1 div.sk-estimator.fitted:hover {\n",
              "  /* fitted */\n",
              "  background-color: var(--sklearn-color-fitted-level-2);\n",
              "}\n",
              "\n",
              "/* Specification for estimator info (e.g. \"i\" and \"?\") */\n",
              "\n",
              "/* Common style for \"i\" and \"?\" */\n",
              "\n",
              ".sk-estimator-doc-link,\n",
              "a:link.sk-estimator-doc-link,\n",
              "a:visited.sk-estimator-doc-link {\n",
              "  float: right;\n",
              "  font-size: smaller;\n",
              "  line-height: 1em;\n",
              "  font-family: monospace;\n",
              "  background-color: var(--sklearn-color-background);\n",
              "  border-radius: 1em;\n",
              "  height: 1em;\n",
              "  width: 1em;\n",
              "  text-decoration: none !important;\n",
              "  margin-left: 0.5em;\n",
              "  text-align: center;\n",
              "  /* unfitted */\n",
              "  border: var(--sklearn-color-unfitted-level-1) 1pt solid;\n",
              "  color: var(--sklearn-color-unfitted-level-1);\n",
              "}\n",
              "\n",
              ".sk-estimator-doc-link.fitted,\n",
              "a:link.sk-estimator-doc-link.fitted,\n",
              "a:visited.sk-estimator-doc-link.fitted {\n",
              "  /* fitted */\n",
              "  border: var(--sklearn-color-fitted-level-1) 1pt solid;\n",
              "  color: var(--sklearn-color-fitted-level-1);\n",
              "}\n",
              "\n",
              "/* On hover */\n",
              "div.sk-estimator:hover .sk-estimator-doc-link:hover,\n",
              ".sk-estimator-doc-link:hover,\n",
              "div.sk-label-container:hover .sk-estimator-doc-link:hover,\n",
              ".sk-estimator-doc-link:hover {\n",
              "  /* unfitted */\n",
              "  background-color: var(--sklearn-color-unfitted-level-3);\n",
              "  color: var(--sklearn-color-background);\n",
              "  text-decoration: none;\n",
              "}\n",
              "\n",
              "div.sk-estimator.fitted:hover .sk-estimator-doc-link.fitted:hover,\n",
              ".sk-estimator-doc-link.fitted:hover,\n",
              "div.sk-label-container:hover .sk-estimator-doc-link.fitted:hover,\n",
              ".sk-estimator-doc-link.fitted:hover {\n",
              "  /* fitted */\n",
              "  background-color: var(--sklearn-color-fitted-level-3);\n",
              "  color: var(--sklearn-color-background);\n",
              "  text-decoration: none;\n",
              "}\n",
              "\n",
              "/* Span, style for the box shown on hovering the info icon */\n",
              ".sk-estimator-doc-link span {\n",
              "  display: none;\n",
              "  z-index: 9999;\n",
              "  position: relative;\n",
              "  font-weight: normal;\n",
              "  right: .2ex;\n",
              "  padding: .5ex;\n",
              "  margin: .5ex;\n",
              "  width: min-content;\n",
              "  min-width: 20ex;\n",
              "  max-width: 50ex;\n",
              "  color: var(--sklearn-color-text);\n",
              "  box-shadow: 2pt 2pt 4pt #999;\n",
              "  /* unfitted */\n",
              "  background: var(--sklearn-color-unfitted-level-0);\n",
              "  border: .5pt solid var(--sklearn-color-unfitted-level-3);\n",
              "}\n",
              "\n",
              ".sk-estimator-doc-link.fitted span {\n",
              "  /* fitted */\n",
              "  background: var(--sklearn-color-fitted-level-0);\n",
              "  border: var(--sklearn-color-fitted-level-3);\n",
              "}\n",
              "\n",
              ".sk-estimator-doc-link:hover span {\n",
              "  display: block;\n",
              "}\n",
              "\n",
              "/* \"?\"-specific style due to the `<a>` HTML tag */\n",
              "\n",
              "#sk-container-id-1 a.estimator_doc_link {\n",
              "  float: right;\n",
              "  font-size: 1rem;\n",
              "  line-height: 1em;\n",
              "  font-family: monospace;\n",
              "  background-color: var(--sklearn-color-background);\n",
              "  border-radius: 1rem;\n",
              "  height: 1rem;\n",
              "  width: 1rem;\n",
              "  text-decoration: none;\n",
              "  /* unfitted */\n",
              "  color: var(--sklearn-color-unfitted-level-1);\n",
              "  border: var(--sklearn-color-unfitted-level-1) 1pt solid;\n",
              "}\n",
              "\n",
              "#sk-container-id-1 a.estimator_doc_link.fitted {\n",
              "  /* fitted */\n",
              "  border: var(--sklearn-color-fitted-level-1) 1pt solid;\n",
              "  color: var(--sklearn-color-fitted-level-1);\n",
              "}\n",
              "\n",
              "/* On hover */\n",
              "#sk-container-id-1 a.estimator_doc_link:hover {\n",
              "  /* unfitted */\n",
              "  background-color: var(--sklearn-color-unfitted-level-3);\n",
              "  color: var(--sklearn-color-background);\n",
              "  text-decoration: none;\n",
              "}\n",
              "\n",
              "#sk-container-id-1 a.estimator_doc_link.fitted:hover {\n",
              "  /* fitted */\n",
              "  background-color: var(--sklearn-color-fitted-level-3);\n",
              "}\n",
              "</style><div id=\"sk-container-id-1\" class=\"sk-top-container\"><div class=\"sk-text-repr-fallback\"><pre>Perceptron(random_state=1729)</pre><b>In a Jupyter environment, please rerun this cell to show the HTML representation or trust the notebook. <br />On GitHub, the HTML representation is unable to render, please try loading this page with nbviewer.org.</b></div><div class=\"sk-container\" hidden><div class=\"sk-item\"><div class=\"sk-estimator fitted sk-toggleable\"><input class=\"sk-toggleable__control sk-hidden--visually\" id=\"sk-estimator-id-1\" type=\"checkbox\" checked><label for=\"sk-estimator-id-1\" class=\"sk-toggleable__label fitted sk-toggleable__label-arrow\"><div><div>Perceptron</div></div><div><a class=\"sk-estimator-doc-link fitted\" rel=\"noreferrer\" target=\"_blank\" href=\"https://scikit-learn.org/1.6/modules/generated/sklearn.linear_model.Perceptron.html\">?<span>Documentation for Perceptron</span></a><span class=\"sk-estimator-doc-link fitted\">i<span>Fitted</span></span></div></label><div class=\"sk-toggleable__content fitted\"><pre>Perceptron(random_state=1729)</pre></div> </div></div></div></div>"
            ]
          },
          "metadata": {},
          "execution_count": 86
        }
      ]
    },
    {
      "cell_type": "markdown",
      "metadata": {
        "id": "9twrbK8DLBK9"
      },
      "source": [
        "What had actually happened internally was that\n",
        "* the API automatically created 10 binary classifiers\n",
        "* converted labels to binary sparse matrix\n",
        "* trained them with the binarized labels.\n",
        "\n",
        "During the inference time, the input will be passed through all these 10 classifiers and the highest score among the ouput from the classifiers will be considered as the predicted class.\n",
        "\n",
        "To see it in action, let us execute the following lines of code"
      ]
    },
    {
      "cell_type": "code",
      "metadata": {
        "colab": {
          "base_uri": "https://localhost:8080/"
        },
        "id": "41pWALR-crrw",
        "outputId": "b090a803-37bf-44b1-df04-dfea60d6c26c"
      },
      "source": [
        "print('Shape of Weight matrix:{0} and bias vector:{1}'.format(clf.coef_.shape, clf.intercept_.shape))"
      ],
      "execution_count": 87,
      "outputs": [
        {
          "output_type": "stream",
          "name": "stdout",
          "text": [
            "Shape of Weight matrix:(10, 784) and bias vector:(10,)\n"
          ]
        }
      ]
    },
    {
      "cell_type": "markdown",
      "metadata": {
        "id": "d8nlV_UHc2wX"
      },
      "source": [
        "So it is a matrix of size $10 \\times 784$ where each row represents the weights for a single binary classifier.\n",
        "\n",
        "Important difference to note is that there is no signum function associated with the perceptron."
      ]
    },
    {
      "cell_type": "code",
      "metadata": {
        "colab": {
          "base_uri": "https://localhost:8080/"
        },
        "id": "XkvWsiPqeOhA",
        "outputId": "1d76229d-64ef-4450-e2f3-9adaae74848d"
      },
      "source": [
        "scores = clf.decision_function(x_train[6].reshape(1,-1))\n",
        "print(scores)\n",
        "print()\n",
        "print('The predicted class: ', np.argmax(scores))"
      ],
      "execution_count": 91,
      "outputs": [
        {
          "output_type": "stream",
          "name": "stdout",
          "text": [
            "[[-631.88492118  154.366213    -65.23234141  -90.95338716 -189.29568627\n",
            "  -137.14385236  -99.64604383 -159.09859285 -136.86391388 -199.26120723]]\n",
            "\n",
            "The predicted class:  1\n"
          ]
        }
      ]
    },
    {
      "cell_type": "code",
      "metadata": {
        "colab": {
          "base_uri": "https://localhost:8080/"
        },
        "id": "81wrltTGeW85",
        "outputId": "f6d19a5f-1b86-41bd-8563-d51f5c42b04e"
      },
      "source": [
        "print('Preicted output:')\n",
        "print(clf.predict(x_train[0].reshape(1,-1)))\n",
        "print(clf.predict(x_train[6].reshape(1,-1)))"
      ],
      "execution_count": 97,
      "outputs": [
        {
          "output_type": "stream",
          "name": "stdout",
          "text": [
            "Preicted output:\n",
            "['5']\n",
            "['1']\n"
          ]
        }
      ]
    },
    {
      "cell_type": "code",
      "metadata": {
        "id": "03e6iKuNrT9b"
      },
      "source": [
        "# Get the prediction for all training samples\n",
        "y_hat = clf.predict(x_train)"
      ],
      "execution_count": 98,
      "outputs": []
    },
    {
      "cell_type": "code",
      "metadata": {
        "colab": {
          "base_uri": "https://localhost:8080/"
        },
        "id": "Aqq1OamZqlOL",
        "outputId": "85d35751-5504-468d-d538-c23b968e65de"
      },
      "source": [
        "print(classification_report(y_train, y_hat))"
      ],
      "execution_count": 99,
      "outputs": [
        {
          "output_type": "stream",
          "name": "stdout",
          "text": [
            "              precision    recall  f1-score   support\n",
            "\n",
            "           0       0.98      0.95      0.97      5923\n",
            "           1       0.94      0.98      0.96      6742\n",
            "           2       0.89      0.90      0.90      5958\n",
            "           3       0.86      0.87      0.87      6131\n",
            "           4       0.89      0.94      0.91      5842\n",
            "           5       0.81      0.88      0.85      5421\n",
            "           6       0.92      0.97      0.94      5918\n",
            "           7       0.91      0.94      0.92      6265\n",
            "           8       0.92      0.77      0.84      5851\n",
            "           9       0.92      0.82      0.87      5949\n",
            "\n",
            "    accuracy                           0.90     60000\n",
            "   macro avg       0.90      0.90      0.90     60000\n",
            "weighted avg       0.91      0.90      0.90     60000\n",
            "\n"
          ]
        }
      ]
    },
    {
      "cell_type": "markdown",
      "metadata": {
        "id": "Xeezz9mTrzc5"
      },
      "source": [
        "Let us display the confusion matrix and relate it with the report above."
      ]
    },
    {
      "cell_type": "code",
      "metadata": {
        "colab": {
          "base_uri": "https://localhost:8080/",
          "height": 551
        },
        "id": "DVTGf4-8tSTk",
        "outputId": "aae2e7f2-d725-4000-c68a-9032c57454c9"
      },
      "source": [
        "cm_display = ConfusionMatrixDisplay.from_predictions(y_train, y_hat, values_format='.5g')"
      ],
      "execution_count": 100,
      "outputs": [
        {
          "output_type": "display_data",
          "data": {
            "text/plain": [
              "<Figure size 800x600 with 2 Axes>"
            ],
            "image/png": "[encoded data removed]"
          },
          "metadata": {}
        }
      ]
    },
    {
      "cell_type": "markdown",
      "metadata": {
        "id": "8I8diVzdHaLP"
      },
      "source": [
        "What are all the insights we could infer from the above figure?\n",
        "* Digit 2 is often confused with Digit 3 (Reasonable!)."
      ]
    },
    {
      "cell_type": "markdown",
      "source": [
        "# Making a Pipeline\n",
        "\n",
        "Let's create a pipline to keep the code compact. Recall that, the MNIST dataset is clean and hence doesn't require much preprocessing. The one potential preprocessing technique we may use is to scale the features within the range (0,1)\n",
        "\n",
        "It is **not** similar to scaling down the range values between 0 and 1."
      ],
      "metadata": {
        "id": "i0m3wvpDvnO9"
      }
    },
    {
      "cell_type": "code",
      "source": [
        "pipe = Pipeline([\n",
        "    ('std_scaler', MinMaxScaler()),\n",
        "    ('bin_clf', Perceptron())\n",
        "])\n",
        "\n",
        "pipe.fit(x_train, y_train_0)"
      ],
      "metadata": {
        "colab": {
          "base_uri": "https://localhost:8080/",
          "height": 178
        },
        "id": "2f64ylC6EU5_",
        "outputId": "1ffbeef0-2368-4be3-edd9-c3cb5893b092"
      },
      "execution_count": 104,
      "outputs": [
        {
          "output_type": "execute_result",
          "data": {
            "text/plain": [
              "Pipeline(steps=[('std_scaler', MinMaxScaler()), ('bin_clf', Perceptron())])"
            ],
            "text/html": [
              "<style>#sk-container-id-4 {\n",
              "  /* Definition of color scheme common for light and dark mode */\n",
              "  --sklearn-color-text: #000;\n",
              "  --sklearn-color-text-muted: #666;\n",
              "  --sklearn-color-line: gray;\n",
              "  /* Definition of color scheme for unfitted estimators */\n",
              "  --sklearn-color-unfitted-level-0: #fff5e6;\n",
              "  --sklearn-color-unfitted-level-1: #f6e4d2;\n",
              "  --sklearn-color-unfitted-level-2: #ffe0b3;\n",
              "  --sklearn-color-unfitted-level-3: chocolate;\n",
              "  /* Definition of color scheme for fitted estimators */\n",
              "  --sklearn-color-fitted-level-0: #f0f8ff;\n",
              "  --sklearn-color-fitted-level-1: #d4ebff;\n",
              "  --sklearn-color-fitted-level-2: #b3dbfd;\n",
              "  --sklearn-color-fitted-level-3: cornflowerblue;\n",
              "\n",
              "  /* Specific color for light theme */\n",
              "  --sklearn-color-text-on-default-background: var(--sg-text-color, var(--theme-code-foreground, var(--jp-content-font-color1, black)));\n",
              "  --sklearn-color-background: var(--sg-background-color, var(--theme-background, var(--jp-layout-color0, white)));\n",
              "  --sklearn-color-border-box: var(--sg-text-color, var(--theme-code-foreground, var(--jp-content-font-color1, black)));\n",
              "  --sklearn-color-icon: #696969;\n",
              "\n",
              "  @media (prefers-color-scheme: dark) {\n",
              "    /* Redefinition of color scheme for dark theme */\n",
              "    --sklearn-color-text-on-default-background: var(--sg-text-color, var(--theme-code-foreground, var(--jp-content-font-color1, white)));\n",
              "    --sklearn-color-background: var(--sg-background-color, var(--theme-background, var(--jp-layout-color0, #111)));\n",
              "    --sklearn-color-border-box: var(--sg-text-color, var(--theme-code-foreground, var(--jp-content-font-color1, white)));\n",
              "    --sklearn-color-icon: #878787;\n",
              "  }\n",
              "}\n",
              "\n",
              "#sk-container-id-4 {\n",
              "  color: var(--sklearn-color-text);\n",
              "}\n",
              "\n",
              "#sk-container-id-4 pre {\n",
              "  padding: 0;\n",
              "}\n",
              "\n",
              "#sk-container-id-4 input.sk-hidden--visually {\n",
              "  border: 0;\n",
              "  clip: rect(1px 1px 1px 1px);\n",
              "  clip: rect(1px, 1px, 1px, 1px);\n",
              "  height: 1px;\n",
              "  margin: -1px;\n",
              "  overflow: hidden;\n",
              "  padding: 0;\n",
              "  position: absolute;\n",
              "  width: 1px;\n",
              "}\n",
              "\n",
              "#sk-container-id-4 div.sk-dashed-wrapped {\n",
              "  border: 1px dashed var(--sklearn-color-line);\n",
              "  margin: 0 0.4em 0.5em 0.4em;\n",
              "  box-sizing: border-box;\n",
              "  padding-bottom: 0.4em;\n",
              "  background-color: var(--sklearn-color-background);\n",
              "}\n",
              "\n",
              "#sk-container-id-4 div.sk-container {\n",
              "  /* jupyter's `normalize.less` sets `[hidden] { display: none; }`\n",
              "     but bootstrap.min.css set `[hidden] { display: none !important; }`\n",
              "     so we also need the `!important` here to be able to override the\n",
              "     default hidden behavior on the sphinx rendered scikit-learn.org.\n",
              "     See: https://github.com/scikit-learn/scikit-learn/issues/21755 */\n",
              "  display: inline-block !important;\n",
              "  position: relative;\n",
              "}\n",
              "\n",
              "#sk-container-id-4 div.sk-text-repr-fallback {\n",
              "  display: none;\n",
              "}\n",
              "\n",
              "div.sk-parallel-item,\n",
              "div.sk-serial,\n",
              "div.sk-item {\n",
              "  /* draw centered vertical line to link estimators */\n",
              "  background-image: linear-gradient(var(--sklearn-color-text-on-default-background), var(--sklearn-color-text-on-default-background));\n",
              "  background-size: 2px 100%;\n",
              "  background-repeat: no-repeat;\n",
              "  background-position: center center;\n",
              "}\n",
              "\n",
              "/* Parallel-specific style estimator block */\n",
              "\n",
              "#sk-container-id-4 div.sk-parallel-item::after {\n",
              "  content: \"\";\n",
              "  width: 100%;\n",
              "  border-bottom: 2px solid var(--sklearn-color-text-on-default-background);\n",
              "  flex-grow: 1;\n",
              "}\n",
              "\n",
              "#sk-container-id-4 div.sk-parallel {\n",
              "  display: flex;\n",
              "  align-items: stretch;\n",
              "  justify-content: center;\n",
              "  background-color: var(--sklearn-color-background);\n",
              "  position: relative;\n",
              "}\n",
              "\n",
              "#sk-container-id-4 div.sk-parallel-item {\n",
              "  display: flex;\n",
              "  flex-direction: column;\n",
              "}\n",
              "\n",
              "#sk-container-id-4 div.sk-parallel-item:first-child::after {\n",
              "  align-self: flex-end;\n",
              "  width: 50%;\n",
              "}\n",
              "\n",
              "#sk-container-id-4 div.sk-parallel-item:last-child::after {\n",
              "  align-self: flex-start;\n",
              "  width: 50%;\n",
              "}\n",
              "\n",
              "#sk-container-id-4 div.sk-parallel-item:only-child::after {\n",
              "  width: 0;\n",
              "}\n",
              "\n",
              "/* Serial-specific style estimator block */\n",
              "\n",
              "#sk-container-id-4 div.sk-serial {\n",
              "  display: flex;\n",
              "  flex-direction: column;\n",
              "  align-items: center;\n",
              "  background-color: var(--sklearn-color-background);\n",
              "  padding-right: 1em;\n",
              "  padding-left: 1em;\n",
              "}\n",
              "\n",
              "\n",
              "/* Toggleable style: style used for estimator/Pipeline/ColumnTransformer box that is\n",
              "clickable and can be expanded/collapsed.\n",
              "- Pipeline and ColumnTransformer use this feature and define the default style\n",
              "- Estimators will overwrite some part of the style using the `sk-estimator` class\n",
              "*/\n",
              "\n",
              "/* Pipeline and ColumnTransformer style (default) */\n",
              "\n",
              "#sk-container-id-4 div.sk-toggleable {\n",
              "  /* Default theme specific background. It is overwritten whether we have a\n",
              "  specific estimator or a Pipeline/ColumnTransformer */\n",
              "  background-color: var(--sklearn-color-background);\n",
              "}\n",
              "\n",
              "/* Toggleable label */\n",
              "#sk-container-id-4 label.sk-toggleable__label {\n",
              "  cursor: pointer;\n",
              "  display: flex;\n",
              "  width: 100%;\n",
              "  margin-bottom: 0;\n",
              "  padding: 0.5em;\n",
              "  box-sizing: border-box;\n",
              "  text-align: center;\n",
              "  align-items: start;\n",
              "  justify-content: space-between;\n",
              "  gap: 0.5em;\n",
              "}\n",
              "\n",
              "#sk-container-id-4 label.sk-toggleable__label .caption {\n",
              "  font-size: 0.6rem;\n",
              "  font-weight: lighter;\n",
              "  color: var(--sklearn-color-text-muted);\n",
              "}\n",
              "\n",
              "#sk-container-id-4 label.sk-toggleable__label-arrow:before {\n",
              "  /* Arrow on the left of the label */\n",
              "  content: \"▸\";\n",
              "  float: left;\n",
              "  margin-right: 0.25em;\n",
              "  color: var(--sklearn-color-icon);\n",
              "}\n",
              "\n",
              "#sk-container-id-4 label.sk-toggleable__label-arrow:hover:before {\n",
              "  color: var(--sklearn-color-text);\n",
              "}\n",
              "\n",
              "/* Toggleable content - dropdown */\n",
              "\n",
              "#sk-container-id-4 div.sk-toggleable__content {\n",
              "  max-height: 0;\n",
              "  max-width: 0;\n",
              "  overflow: hidden;\n",
              "  text-align: left;\n",
              "  /* unfitted */\n",
              "  background-color: var(--sklearn-color-unfitted-level-0);\n",
              "}\n",
              "\n",
              "#sk-container-id-4 div.sk-toggleable__content.fitted {\n",
              "  /* fitted */\n",
              "  background-color: var(--sklearn-color-fitted-level-0);\n",
              "}\n",
              "\n",
              "#sk-container-id-4 div.sk-toggleable__content pre {\n",
              "  margin: 0.2em;\n",
              "  border-radius: 0.25em;\n",
              "  color: var(--sklearn-color-text);\n",
              "  /* unfitted */\n",
              "  background-color: var(--sklearn-color-unfitted-level-0);\n",
              "}\n",
              "\n",
              "#sk-container-id-4 div.sk-toggleable__content.fitted pre {\n",
              "  /* unfitted */\n",
              "  background-color: var(--sklearn-color-fitted-level-0);\n",
              "}\n",
              "\n",
              "#sk-container-id-4 input.sk-toggleable__control:checked~div.sk-toggleable__content {\n",
              "  /* Expand drop-down */\n",
              "  max-height: 200px;\n",
              "  max-width: 100%;\n",
              "  overflow: auto;\n",
              "}\n",
              "\n",
              "#sk-container-id-4 input.sk-toggleable__control:checked~label.sk-toggleable__label-arrow:before {\n",
              "  content: \"▾\";\n",
              "}\n",
              "\n",
              "/* Pipeline/ColumnTransformer-specific style */\n",
              "\n",
              "#sk-container-id-4 div.sk-label input.sk-toggleable__control:checked~label.sk-toggleable__label {\n",
              "  color: var(--sklearn-color-text);\n",
              "  background-color: var(--sklearn-color-unfitted-level-2);\n",
              "}\n",
              "\n",
              "#sk-container-id-4 div.sk-label.fitted input.sk-toggleable__control:checked~label.sk-toggleable__label {\n",
              "  background-color: var(--sklearn-color-fitted-level-2);\n",
              "}\n",
              "\n",
              "/* Estimator-specific style */\n",
              "\n",
              "/* Colorize estimator box */\n",
              "#sk-container-id-4 div.sk-estimator input.sk-toggleable__control:checked~label.sk-toggleable__label {\n",
              "  /* unfitted */\n",
              "  background-color: var(--sklearn-color-unfitted-level-2);\n",
              "}\n",
              "\n",
              "#sk-container-id-4 div.sk-estimator.fitted input.sk-toggleable__control:checked~label.sk-toggleable__label {\n",
              "  /* fitted */\n",
              "  background-color: var(--sklearn-color-fitted-level-2);\n",
              "}\n",
              "\n",
              "#sk-container-id-4 div.sk-label label.sk-toggleable__label,\n",
              "#sk-container-id-4 div.sk-label label {\n",
              "  /* The background is the default theme color */\n",
              "  color: var(--sklearn-color-text-on-default-background);\n",
              "}\n",
              "\n",
              "/* On hover, darken the color of the background */\n",
              "#sk-container-id-4 div.sk-label:hover label.sk-toggleable__label {\n",
              "  color: var(--sklearn-color-text);\n",
              "  background-color: var(--sklearn-color-unfitted-level-2);\n",
              "}\n",
              "\n",
              "/* Label box, darken color on hover, fitted */\n",
              "#sk-container-id-4 div.sk-label.fitted:hover label.sk-toggleable__label.fitted {\n",
              "  color: var(--sklearn-color-text);\n",
              "  background-color: var(--sklearn-color-fitted-level-2);\n",
              "}\n",
              "\n",
              "/* Estimator label */\n",
              "\n",
              "#sk-container-id-4 div.sk-label label {\n",
              "  font-family: monospace;\n",
              "  font-weight: bold;\n",
              "  display: inline-block;\n",
              "  line-height: 1.2em;\n",
              "}\n",
              "\n",
              "#sk-container-id-4 div.sk-label-container {\n",
              "  text-align: center;\n",
              "}\n",
              "\n",
              "/* Estimator-specific */\n",
              "#sk-container-id-4 div.sk-estimator {\n",
              "  font-family: monospace;\n",
              "  border: 1px dotted var(--sklearn-color-border-box);\n",
              "  border-radius: 0.25em;\n",
              "  box-sizing: border-box;\n",
              "  margin-bottom: 0.5em;\n",
              "  /* unfitted */\n",
              "  background-color: var(--sklearn-color-unfitted-level-0);\n",
              "}\n",
              "\n",
              "#sk-container-id-4 div.sk-estimator.fitted {\n",
              "  /* fitted */\n",
              "  background-color: var(--sklearn-color-fitted-level-0);\n",
              "}\n",
              "\n",
              "/* on hover */\n",
              "#sk-container-id-4 div.sk-estimator:hover {\n",
              "  /* unfitted */\n",
              "  background-color: var(--sklearn-color-unfitted-level-2);\n",
              "}\n",
              "\n",
              "#sk-container-id-4 div.sk-estimator.fitted:hover {\n",
              "  /* fitted */\n",
              "  background-color: var(--sklearn-color-fitted-level-2);\n",
              "}\n",
              "\n",
              "/* Specification for estimator info (e.g. \"i\" and \"?\") */\n",
              "\n",
              "/* Common style for \"i\" and \"?\" */\n",
              "\n",
              ".sk-estimator-doc-link,\n",
              "a:link.sk-estimator-doc-link,\n",
              "a:visited.sk-estimator-doc-link {\n",
              "  float: right;\n",
              "  font-size: smaller;\n",
              "  line-height: 1em;\n",
              "  font-family: monospace;\n",
              "  background-color: var(--sklearn-color-background);\n",
              "  border-radius: 1em;\n",
              "  height: 1em;\n",
              "  width: 1em;\n",
              "  text-decoration: none !important;\n",
              "  margin-left: 0.5em;\n",
              "  text-align: center;\n",
              "  /* unfitted */\n",
              "  border: var(--sklearn-color-unfitted-level-1) 1pt solid;\n",
              "  color: var(--sklearn-color-unfitted-level-1);\n",
              "}\n",
              "\n",
              ".sk-estimator-doc-link.fitted,\n",
              "a:link.sk-estimator-doc-link.fitted,\n",
              "a:visited.sk-estimator-doc-link.fitted {\n",
              "  /* fitted */\n",
              "  border: var(--sklearn-color-fitted-level-1) 1pt solid;\n",
              "  color: var(--sklearn-color-fitted-level-1);\n",
              "}\n",
              "\n",
              "/* On hover */\n",
              "div.sk-estimator:hover .sk-estimator-doc-link:hover,\n",
              ".sk-estimator-doc-link:hover,\n",
              "div.sk-label-container:hover .sk-estimator-doc-link:hover,\n",
              ".sk-estimator-doc-link:hover {\n",
              "  /* unfitted */\n",
              "  background-color: var(--sklearn-color-unfitted-level-3);\n",
              "  color: var(--sklearn-color-background);\n",
              "  text-decoration: none;\n",
              "}\n",
              "\n",
              "div.sk-estimator.fitted:hover .sk-estimator-doc-link.fitted:hover,\n",
              ".sk-estimator-doc-link.fitted:hover,\n",
              "div.sk-label-container:hover .sk-estimator-doc-link.fitted:hover,\n",
              ".sk-estimator-doc-link.fitted:hover {\n",
              "  /* fitted */\n",
              "  background-color: var(--sklearn-color-fitted-level-3);\n",
              "  color: var(--sklearn-color-background);\n",
              "  text-decoration: none;\n",
              "}\n",
              "\n",
              "/* Span, style for the box shown on hovering the info icon */\n",
              ".sk-estimator-doc-link span {\n",
              "  display: none;\n",
              "  z-index: 9999;\n",
              "  position: relative;\n",
              "  font-weight: normal;\n",
              "  right: .2ex;\n",
              "  padding: .5ex;\n",
              "  margin: .5ex;\n",
              "  width: min-content;\n",
              "  min-width: 20ex;\n",
              "  max-width: 50ex;\n",
              "  color: var(--sklearn-color-text);\n",
              "  box-shadow: 2pt 2pt 4pt #999;\n",
              "  /* unfitted */\n",
              "  background: var(--sklearn-color-unfitted-level-0);\n",
              "  border: .5pt solid var(--sklearn-color-unfitted-level-3);\n",
              "}\n",
              "\n",
              ".sk-estimator-doc-link.fitted span {\n",
              "  /* fitted */\n",
              "  background: var(--sklearn-color-fitted-level-0);\n",
              "  border: var(--sklearn-color-fitted-level-3);\n",
              "}\n",
              "\n",
              ".sk-estimator-doc-link:hover span {\n",
              "  display: block;\n",
              "}\n",
              "\n",
              "/* \"?\"-specific style due to the `<a>` HTML tag */\n",
              "\n",
              "#sk-container-id-4 a.estimator_doc_link {\n",
              "  float: right;\n",
              "  font-size: 1rem;\n",
              "  line-height: 1em;\n",
              "  font-family: monospace;\n",
              "  background-color: var(--sklearn-color-background);\n",
              "  border-radius: 1rem;\n",
              "  height: 1rem;\n",
              "  width: 1rem;\n",
              "  text-decoration: none;\n",
              "  /* unfitted */\n",
              "  color: var(--sklearn-color-unfitted-level-1);\n",
              "  border: var(--sklearn-color-unfitted-level-1) 1pt solid;\n",
              "}\n",
              "\n",
              "#sk-container-id-4 a.estimator_doc_link.fitted {\n",
              "  /* fitted */\n",
              "  border: var(--sklearn-color-fitted-level-1) 1pt solid;\n",
              "  color: var(--sklearn-color-fitted-level-1);\n",
              "}\n",
              "\n",
              "/* On hover */\n",
              "#sk-container-id-4 a.estimator_doc_link:hover {\n",
              "  /* unfitted */\n",
              "  background-color: var(--sklearn-color-unfitted-level-3);\n",
              "  color: var(--sklearn-color-background);\n",
              "  text-decoration: none;\n",
              "}\n",
              "\n",
              "#sk-container-id-4 a.estimator_doc_link.fitted:hover {\n",
              "  /* fitted */\n",
              "  background-color: var(--sklearn-color-fitted-level-3);\n",
              "}\n",
              "</style><div id=\"sk-container-id-4\" class=\"sk-top-container\"><div class=\"sk-text-repr-fallback\"><pre>Pipeline(steps=[(&#x27;std_scaler&#x27;, MinMaxScaler()), (&#x27;bin_clf&#x27;, Perceptron())])</pre><b>In a Jupyter environment, please rerun this cell to show the HTML representation or trust the notebook. <br />On GitHub, the HTML representation is unable to render, please try loading this page with nbviewer.org.</b></div><div class=\"sk-container\" hidden><div class=\"sk-item sk-dashed-wrapped\"><div class=\"sk-label-container\"><div class=\"sk-label fitted sk-toggleable\"><input class=\"sk-toggleable__control sk-hidden--visually\" id=\"sk-estimator-id-8\" type=\"checkbox\" ><label for=\"sk-estimator-id-8\" class=\"sk-toggleable__label fitted sk-toggleable__label-arrow\"><div><div>Pipeline</div></div><div><a class=\"sk-estimator-doc-link fitted\" rel=\"noreferrer\" target=\"_blank\" href=\"https://scikit-learn.org/1.6/modules/generated/sklearn.pipeline.Pipeline.html\">?<span>Documentation for Pipeline</span></a><span class=\"sk-estimator-doc-link fitted\">i<span>Fitted</span></span></div></label><div class=\"sk-toggleable__content fitted\"><pre>Pipeline(steps=[(&#x27;std_scaler&#x27;, MinMaxScaler()), (&#x27;bin_clf&#x27;, Perceptron())])</pre></div> </div></div><div class=\"sk-serial\"><div class=\"sk-item\"><div class=\"sk-estimator fitted sk-toggleable\"><input class=\"sk-toggleable__control sk-hidden--visually\" id=\"sk-estimator-id-9\" type=\"checkbox\" ><label for=\"sk-estimator-id-9\" class=\"sk-toggleable__label fitted sk-toggleable__label-arrow\"><div><div>MinMaxScaler</div></div><div><a class=\"sk-estimator-doc-link fitted\" rel=\"noreferrer\" target=\"_blank\" href=\"https://scikit-learn.org/1.6/modules/generated/sklearn.preprocessing.MinMaxScaler.html\">?<span>Documentation for MinMaxScaler</span></a></div></label><div class=\"sk-toggleable__content fitted\"><pre>MinMaxScaler()</pre></div> </div></div><div class=\"sk-item\"><div class=\"sk-estimator fitted sk-toggleable\"><input class=\"sk-toggleable__control sk-hidden--visually\" id=\"sk-estimator-id-10\" type=\"checkbox\" ><label for=\"sk-estimator-id-10\" class=\"sk-toggleable__label fitted sk-toggleable__label-arrow\"><div><div>Perceptron</div></div><div><a class=\"sk-estimator-doc-link fitted\" rel=\"noreferrer\" target=\"_blank\" href=\"https://scikit-learn.org/1.6/modules/generated/sklearn.linear_model.Perceptron.html\">?<span>Documentation for Perceptron</span></a></div></label><div class=\"sk-toggleable__content fitted\"><pre>Perceptron()</pre></div> </div></div></div></div></div></div>"
            ]
          },
          "metadata": {},
          "execution_count": 104
        }
      ]
    },
    {
      "cell_type": "code",
      "source": [
        "y_hat_train_0 = pipe.predict(x_train)\n",
        "cm_display = ConfusionMatrixDisplay.from_predictions(y_train_0, y_hat_train_0, values_format='.5g')"
      ],
      "metadata": {
        "id": "nrlIYFAkSsQI",
        "colab": {
          "base_uri": "https://localhost:8080/",
          "height": 551
        },
        "outputId": "247c0c8e-4b02-462d-a9ee-1a892e47df3c"
      },
      "execution_count": 105,
      "outputs": [
        {
          "output_type": "display_data",
          "data": {
            "text/plain": [
              "<Figure size 800x600 with 2 Axes>"
            ],
            "image/png": "[encoded data removed]"
          },
          "metadata": {}
        }
      ]
    },
    {
      "cell_type": "markdown",
      "source": [
        "# Iteration vs Loss Curve\n",
        "The other way of plotting **Iteration vs Loss** curve is with the `Partial_fit` method."
      ],
      "metadata": {
        "id": "l52Xx3Fnen3V"
      }
    },
    {
      "cell_type": "code",
      "source": [
        "iterations = 100\n",
        "bin_clf1 = Perceptron(max_iter=1000, random_state=2094)\n",
        "Loss_clf1 = []\n",
        "\n",
        "for i in range(iterations):\n",
        "  bin_clf1.partial_fit(x_train, y_train_0, classes=np.array([1,-1]))\n",
        "  y_hat_0 = bin_clf1.decision_function(x_train)\n",
        "  Loss_clf1.append(hinge_loss(y_train_0, y_hat_0))"
      ],
      "metadata": {
        "id": "vEQlZxAullj8"
      },
      "execution_count": 106,
      "outputs": []
    },
    {
      "cell_type": "code",
      "source": [
        "plt.figure(figsize=(8, 4))\n",
        "plt.plot(np.arange(iterations), Loss_clf1)\n",
        "plt.grid(True)\n",
        "plt.xlabel('Iteration')\n",
        "plt.ylabel('Training Loss')\n",
        "plt.show()"
      ],
      "metadata": {
        "colab": {
          "base_uri": "https://localhost:8080/",
          "height": 397
        },
        "id": "bAj0UvsLMYuY",
        "outputId": "d22276e4-c8c7-47b7-b986-e2d866cba696"
      },
      "execution_count": 115,
      "outputs": [
        {
          "output_type": "display_data",
          "data": {
            "text/plain": [
              "<Figure size 800x400 with 1 Axes>"
            ],
            "image/png": "[encoded data removed]"
          },
          "metadata": {}
        }
      ]
    },
    {
      "cell_type": "markdown",
      "source": [
        "# GridSearchCV\n",
        "\n",
        "So far we didn't do any hyperparameter tuning. We accepted the default value for learning rate of the Perceptron class.\n",
        "\n",
        "Now, let us search for a better learning rate using `GridSearchCV`. No matter what the learning rate is, the loss will never converge to zero as the claases are not linearly separable."
      ],
      "metadata": {
        "id": "z5zqGyOG37J3"
      }
    },
    {
      "cell_type": "code",
      "source": [
        "scoring = make_scorer(hinge_loss, greater_is_better=False)\n",
        "param_grid = {'eta0': [1/2**n for n in range(1, 6)]}\n",
        "bin_clf_gscv = GridSearchCV(Perceptron(), param_grid, scoring=scoring, cv=5)\n",
        "bin_clf_gscv.fit(x_train,y_train_0)"
      ],
      "metadata": {
        "id": "MyWtSH3p4JUQ",
        "colab": {
          "base_uri": "https://localhost:8080/",
          "height": 269
        },
        "outputId": "a6f5ce82-f1c7-486f-8e8e-5696e12c8bc3"
      },
      "execution_count": 117,
      "outputs": [
        {
          "output_type": "execute_result",
          "data": {
            "text/plain": [
              "GridSearchCV(cv=5, estimator=Perceptron(),\n",
              "             param_grid={'eta0': [0.5, 0.25, 0.125, 0.0625, 0.03125]},\n",
              "             scoring=make_scorer(hinge_loss, greater_is_better=False, response_method='predict'))"
            ],
            "text/html": [
              "<style>#sk-container-id-6 {\n",
              "  /* Definition of color scheme common for light and dark mode */\n",
              "  --sklearn-color-text: #000;\n",
              "  --sklearn-color-text-muted: #666;\n",
              "  --sklearn-color-line: gray;\n",
              "  /* Definition of color scheme for unfitted estimators */\n",
              "  --sklearn-color-unfitted-level-0: #fff5e6;\n",
              "  --sklearn-color-unfitted-level-1: #f6e4d2;\n",
              "  --sklearn-color-unfitted-level-2: #ffe0b3;\n",
              "  --sklearn-color-unfitted-level-3: chocolate;\n",
              "  /* Definition of color scheme for fitted estimators */\n",
              "  --sklearn-color-fitted-level-0: #f0f8ff;\n",
              "  --sklearn-color-fitted-level-1: #d4ebff;\n",
              "  --sklearn-color-fitted-level-2: #b3dbfd;\n",
              "  --sklearn-color-fitted-level-3: cornflowerblue;\n",
              "\n",
              "  /* Specific color for light theme */\n",
              "  --sklearn-color-text-on-default-background: var(--sg-text-color, var(--theme-code-foreground, var(--jp-content-font-color1, black)));\n",
              "  --sklearn-color-background: var(--sg-background-color, var(--theme-background, var(--jp-layout-color0, white)));\n",
              "  --sklearn-color-border-box: var(--sg-text-color, var(--theme-code-foreground, var(--jp-content-font-color1, black)));\n",
              "  --sklearn-color-icon: #696969;\n",
              "\n",
              "  @media (prefers-color-scheme: dark) {\n",
              "    /* Redefinition of color scheme for dark theme */\n",
              "    --sklearn-color-text-on-default-background: var(--sg-text-color, var(--theme-code-foreground, var(--jp-content-font-color1, white)));\n",
              "    --sklearn-color-background: var(--sg-background-color, var(--theme-background, var(--jp-layout-color0, #111)));\n",
              "    --sklearn-color-border-box: var(--sg-text-color, var(--theme-code-foreground, var(--jp-content-font-color1, white)));\n",
              "    --sklearn-color-icon: #878787;\n",
              "  }\n",
              "}\n",
              "\n",
              "#sk-container-id-6 {\n",
              "  color: var(--sklearn-color-text);\n",
              "}\n",
              "\n",
              "#sk-container-id-6 pre {\n",
              "  padding: 0;\n",
              "}\n",
              "\n",
              "#sk-container-id-6 input.sk-hidden--visually {\n",
              "  border: 0;\n",
              "  clip: rect(1px 1px 1px 1px);\n",
              "  clip: rect(1px, 1px, 1px, 1px);\n",
              "  height: 1px;\n",
              "  margin: -1px;\n",
              "  overflow: hidden;\n",
              "  padding: 0;\n",
              "  position: absolute;\n",
              "  width: 1px;\n",
              "}\n",
              "\n",
              "#sk-container-id-6 div.sk-dashed-wrapped {\n",
              "  border: 1px dashed var(--sklearn-color-line);\n",
              "  margin: 0 0.4em 0.5em 0.4em;\n",
              "  box-sizing: border-box;\n",
              "  padding-bottom: 0.4em;\n",
              "  background-color: var(--sklearn-color-background);\n",
              "}\n",
              "\n",
              "#sk-container-id-6 div.sk-container {\n",
              "  /* jupyter's `normalize.less` sets `[hidden] { display: none; }`\n",
              "     but bootstrap.min.css set `[hidden] { display: none !important; }`\n",
              "     so we also need the `!important` here to be able to override the\n",
              "     default hidden behavior on the sphinx rendered scikit-learn.org.\n",
              "     See: https://github.com/scikit-learn/scikit-learn/issues/21755 */\n",
              "  display: inline-block !important;\n",
              "  position: relative;\n",
              "}\n",
              "\n",
              "#sk-container-id-6 div.sk-text-repr-fallback {\n",
              "  display: none;\n",
              "}\n",
              "\n",
              "div.sk-parallel-item,\n",
              "div.sk-serial,\n",
              "div.sk-item {\n",
              "  /* draw centered vertical line to link estimators */\n",
              "  background-image: linear-gradient(var(--sklearn-color-text-on-default-background), var(--sklearn-color-text-on-default-background));\n",
              "  background-size: 2px 100%;\n",
              "  background-repeat: no-repeat;\n",
              "  background-position: center center;\n",
              "}\n",
              "\n",
              "/* Parallel-specific style estimator block */\n",
              "\n",
              "#sk-container-id-6 div.sk-parallel-item::after {\n",
              "  content: \"\";\n",
              "  width: 100%;\n",
              "  border-bottom: 2px solid var(--sklearn-color-text-on-default-background);\n",
              "  flex-grow: 1;\n",
              "}\n",
              "\n",
              "#sk-container-id-6 div.sk-parallel {\n",
              "  display: flex;\n",
              "  align-items: stretch;\n",
              "  justify-content: center;\n",
              "  background-color: var(--sklearn-color-background);\n",
              "  position: relative;\n",
              "}\n",
              "\n",
              "#sk-container-id-6 div.sk-parallel-item {\n",
              "  display: flex;\n",
              "  flex-direction: column;\n",
              "}\n",
              "\n",
              "#sk-container-id-6 div.sk-parallel-item:first-child::after {\n",
              "  align-self: flex-end;\n",
              "  width: 50%;\n",
              "}\n",
              "\n",
              "#sk-container-id-6 div.sk-parallel-item:last-child::after {\n",
              "  align-self: flex-start;\n",
              "  width: 50%;\n",
              "}\n",
              "\n",
              "#sk-container-id-6 div.sk-parallel-item:only-child::after {\n",
              "  width: 0;\n",
              "}\n",
              "\n",
              "/* Serial-specific style estimator block */\n",
              "\n",
              "#sk-container-id-6 div.sk-serial {\n",
              "  display: flex;\n",
              "  flex-direction: column;\n",
              "  align-items: center;\n",
              "  background-color: var(--sklearn-color-background);\n",
              "  padding-right: 1em;\n",
              "  padding-left: 1em;\n",
              "}\n",
              "\n",
              "\n",
              "/* Toggleable style: style used for estimator/Pipeline/ColumnTransformer box that is\n",
              "clickable and can be expanded/collapsed.\n",
              "- Pipeline and ColumnTransformer use this feature and define the default style\n",
              "- Estimators will overwrite some part of the style using the `sk-estimator` class\n",
              "*/\n",
              "\n",
              "/* Pipeline and ColumnTransformer style (default) */\n",
              "\n",
              "#sk-container-id-6 div.sk-toggleable {\n",
              "  /* Default theme specific background. It is overwritten whether we have a\n",
              "  specific estimator or a Pipeline/ColumnTransformer */\n",
              "  background-color: var(--sklearn-color-background);\n",
              "}\n",
              "\n",
              "/* Toggleable label */\n",
              "#sk-container-id-6 label.sk-toggleable__label {\n",
              "  cursor: pointer;\n",
              "  display: flex;\n",
              "  width: 100%;\n",
              "  margin-bottom: 0;\n",
              "  padding: 0.5em;\n",
              "  box-sizing: border-box;\n",
              "  text-align: center;\n",
              "  align-items: start;\n",
              "  justify-content: space-between;\n",
              "  gap: 0.5em;\n",
              "}\n",
              "\n",
              "#sk-container-id-6 label.sk-toggleable__label .caption {\n",
              "  font-size: 0.6rem;\n",
              "  font-weight: lighter;\n",
              "  color: var(--sklearn-color-text-muted);\n",
              "}\n",
              "\n",
              "#sk-container-id-6 label.sk-toggleable__label-arrow:before {\n",
              "  /* Arrow on the left of the label */\n",
              "  content: \"▸\";\n",
              "  float: left;\n",
              "  margin-right: 0.25em;\n",
              "  color: var(--sklearn-color-icon);\n",
              "}\n",
              "\n",
              "#sk-container-id-6 label.sk-toggleable__label-arrow:hover:before {\n",
              "  color: var(--sklearn-color-text);\n",
              "}\n",
              "\n",
              "/* Toggleable content - dropdown */\n",
              "\n",
              "#sk-container-id-6 div.sk-toggleable__content {\n",
              "  max-height: 0;\n",
              "  max-width: 0;\n",
              "  overflow: hidden;\n",
              "  text-align: left;\n",
              "  /* unfitted */\n",
              "  background-color: var(--sklearn-color-unfitted-level-0);\n",
              "}\n",
              "\n",
              "#sk-container-id-6 div.sk-toggleable__content.fitted {\n",
              "  /* fitted */\n",
              "  background-color: var(--sklearn-color-fitted-level-0);\n",
              "}\n",
              "\n",
              "#sk-container-id-6 div.sk-toggleable__content pre {\n",
              "  margin: 0.2em;\n",
              "  border-radius: 0.25em;\n",
              "  color: var(--sklearn-color-text);\n",
              "  /* unfitted */\n",
              "  background-color: var(--sklearn-color-unfitted-level-0);\n",
              "}\n",
              "\n",
              "#sk-container-id-6 div.sk-toggleable__content.fitted pre {\n",
              "  /* unfitted */\n",
              "  background-color: var(--sklearn-color-fitted-level-0);\n",
              "}\n",
              "\n",
              "#sk-container-id-6 input.sk-toggleable__control:checked~div.sk-toggleable__content {\n",
              "  /* Expand drop-down */\n",
              "  max-height: 200px;\n",
              "  max-width: 100%;\n",
              "  overflow: auto;\n",
              "}\n",
              "\n",
              "#sk-container-id-6 input.sk-toggleable__control:checked~label.sk-toggleable__label-arrow:before {\n",
              "  content: \"▾\";\n",
              "}\n",
              "\n",
              "/* Pipeline/ColumnTransformer-specific style */\n",
              "\n",
              "#sk-container-id-6 div.sk-label input.sk-toggleable__control:checked~label.sk-toggleable__label {\n",
              "  color: var(--sklearn-color-text);\n",
              "  background-color: var(--sklearn-color-unfitted-level-2);\n",
              "}\n",
              "\n",
              "#sk-container-id-6 div.sk-label.fitted input.sk-toggleable__control:checked~label.sk-toggleable__label {\n",
              "  background-color: var(--sklearn-color-fitted-level-2);\n",
              "}\n",
              "\n",
              "/* Estimator-specific style */\n",
              "\n",
              "/* Colorize estimator box */\n",
              "#sk-container-id-6 div.sk-estimator input.sk-toggleable__control:checked~label.sk-toggleable__label {\n",
              "  /* unfitted */\n",
              "  background-color: var(--sklearn-color-unfitted-level-2);\n",
              "}\n",
              "\n",
              "#sk-container-id-6 div.sk-estimator.fitted input.sk-toggleable__control:checked~label.sk-toggleable__label {\n",
              "  /* fitted */\n",
              "  background-color: var(--sklearn-color-fitted-level-2);\n",
              "}\n",
              "\n",
              "#sk-container-id-6 div.sk-label label.sk-toggleable__label,\n",
              "#sk-container-id-6 div.sk-label label {\n",
              "  /* The background is the default theme color */\n",
              "  color: var(--sklearn-color-text-on-default-background);\n",
              "}\n",
              "\n",
              "/* On hover, darken the color of the background */\n",
              "#sk-container-id-6 div.sk-label:hover label.sk-toggleable__label {\n",
              "  color: var(--sklearn-color-text);\n",
              "  background-color: var(--sklearn-color-unfitted-level-2);\n",
              "}\n",
              "\n",
              "/* Label box, darken color on hover, fitted */\n",
              "#sk-container-id-6 div.sk-label.fitted:hover label.sk-toggleable__label.fitted {\n",
              "  color: var(--sklearn-color-text);\n",
              "  background-color: var(--sklearn-color-fitted-level-2);\n",
              "}\n",
              "\n",
              "/* Estimator label */\n",
              "\n",
              "#sk-container-id-6 div.sk-label label {\n",
              "  font-family: monospace;\n",
              "  font-weight: bold;\n",
              "  display: inline-block;\n",
              "  line-height: 1.2em;\n",
              "}\n",
              "\n",
              "#sk-container-id-6 div.sk-label-container {\n",
              "  text-align: center;\n",
              "}\n",
              "\n",
              "/* Estimator-specific */\n",
              "#sk-container-id-6 div.sk-estimator {\n",
              "  font-family: monospace;\n",
              "  border: 1px dotted var(--sklearn-color-border-box);\n",
              "  border-radius: 0.25em;\n",
              "  box-sizing: border-box;\n",
              "  margin-bottom: 0.5em;\n",
              "  /* unfitted */\n",
              "  background-color: var(--sklearn-color-unfitted-level-0);\n",
              "}\n",
              "\n",
              "#sk-container-id-6 div.sk-estimator.fitted {\n",
              "  /* fitted */\n",
              "  background-color: var(--sklearn-color-fitted-level-0);\n",
              "}\n",
              "\n",
              "/* on hover */\n",
              "#sk-container-id-6 div.sk-estimator:hover {\n",
              "  /* unfitted */\n",
              "  background-color: var(--sklearn-color-unfitted-level-2);\n",
              "}\n",
              "\n",
              "#sk-container-id-6 div.sk-estimator.fitted:hover {\n",
              "  /* fitted */\n",
              "  background-color: var(--sklearn-color-fitted-level-2);\n",
              "}\n",
              "\n",
              "/* Specification for estimator info (e.g. \"i\" and \"?\") */\n",
              "\n",
              "/* Common style for \"i\" and \"?\" */\n",
              "\n",
              ".sk-estimator-doc-link,\n",
              "a:link.sk-estimator-doc-link,\n",
              "a:visited.sk-estimator-doc-link {\n",
              "  float: right;\n",
              "  font-size: smaller;\n",
              "  line-height: 1em;\n",
              "  font-family: monospace;\n",
              "  background-color: var(--sklearn-color-background);\n",
              "  border-radius: 1em;\n",
              "  height: 1em;\n",
              "  width: 1em;\n",
              "  text-decoration: none !important;\n",
              "  margin-left: 0.5em;\n",
              "  text-align: center;\n",
              "  /* unfitted */\n",
              "  border: var(--sklearn-color-unfitted-level-1) 1pt solid;\n",
              "  color: var(--sklearn-color-unfitted-level-1);\n",
              "}\n",
              "\n",
              ".sk-estimator-doc-link.fitted,\n",
              "a:link.sk-estimator-doc-link.fitted,\n",
              "a:visited.sk-estimator-doc-link.fitted {\n",
              "  /* fitted */\n",
              "  border: var(--sklearn-color-fitted-level-1) 1pt solid;\n",
              "  color: var(--sklearn-color-fitted-level-1);\n",
              "}\n",
              "\n",
              "/* On hover */\n",
              "div.sk-estimator:hover .sk-estimator-doc-link:hover,\n",
              ".sk-estimator-doc-link:hover,\n",
              "div.sk-label-container:hover .sk-estimator-doc-link:hover,\n",
              ".sk-estimator-doc-link:hover {\n",
              "  /* unfitted */\n",
              "  background-color: var(--sklearn-color-unfitted-level-3);\n",
              "  color: var(--sklearn-color-background);\n",
              "  text-decoration: none;\n",
              "}\n",
              "\n",
              "div.sk-estimator.fitted:hover .sk-estimator-doc-link.fitted:hover,\n",
              ".sk-estimator-doc-link.fitted:hover,\n",
              "div.sk-label-container:hover .sk-estimator-doc-link.fitted:hover,\n",
              ".sk-estimator-doc-link.fitted:hover {\n",
              "  /* fitted */\n",
              "  background-color: var(--sklearn-color-fitted-level-3);\n",
              "  color: var(--sklearn-color-background);\n",
              "  text-decoration: none;\n",
              "}\n",
              "\n",
              "/* Span, style for the box shown on hovering the info icon */\n",
              ".sk-estimator-doc-link span {\n",
              "  display: none;\n",
              "  z-index: 9999;\n",
              "  position: relative;\n",
              "  font-weight: normal;\n",
              "  right: .2ex;\n",
              "  padding: .5ex;\n",
              "  margin: .5ex;\n",
              "  width: min-content;\n",
              "  min-width: 20ex;\n",
              "  max-width: 50ex;\n",
              "  color: var(--sklearn-color-text);\n",
              "  box-shadow: 2pt 2pt 4pt #999;\n",
              "  /* unfitted */\n",
              "  background: var(--sklearn-color-unfitted-level-0);\n",
              "  border: .5pt solid var(--sklearn-color-unfitted-level-3);\n",
              "}\n",
              "\n",
              ".sk-estimator-doc-link.fitted span {\n",
              "  /* fitted */\n",
              "  background: var(--sklearn-color-fitted-level-0);\n",
              "  border: var(--sklearn-color-fitted-level-3);\n",
              "}\n",
              "\n",
              ".sk-estimator-doc-link:hover span {\n",
              "  display: block;\n",
              "}\n",
              "\n",
              "/* \"?\"-specific style due to the `<a>` HTML tag */\n",
              "\n",
              "#sk-container-id-6 a.estimator_doc_link {\n",
              "  float: right;\n",
              "  font-size: 1rem;\n",
              "  line-height: 1em;\n",
              "  font-family: monospace;\n",
              "  background-color: var(--sklearn-color-background);\n",
              "  border-radius: 1rem;\n",
              "  height: 1rem;\n",
              "  width: 1rem;\n",
              "  text-decoration: none;\n",
              "  /* unfitted */\n",
              "  color: var(--sklearn-color-unfitted-level-1);\n",
              "  border: var(--sklearn-color-unfitted-level-1) 1pt solid;\n",
              "}\n",
              "\n",
              "#sk-container-id-6 a.estimator_doc_link.fitted {\n",
              "  /* fitted */\n",
              "  border: var(--sklearn-color-fitted-level-1) 1pt solid;\n",
              "  color: var(--sklearn-color-fitted-level-1);\n",
              "}\n",
              "\n",
              "/* On hover */\n",
              "#sk-container-id-6 a.estimator_doc_link:hover {\n",
              "  /* unfitted */\n",
              "  background-color: var(--sklearn-color-unfitted-level-3);\n",
              "  color: var(--sklearn-color-background);\n",
              "  text-decoration: none;\n",
              "}\n",
              "\n",
              "#sk-container-id-6 a.estimator_doc_link.fitted:hover {\n",
              "  /* fitted */\n",
              "  background-color: var(--sklearn-color-fitted-level-3);\n",
              "}\n",
              "</style><div id=\"sk-container-id-6\" class=\"sk-top-container\"><div class=\"sk-text-repr-fallback\"><pre>GridSearchCV(cv=5, estimator=Perceptron(),\n",
              "             param_grid={&#x27;eta0&#x27;: [0.5, 0.25, 0.125, 0.0625, 0.03125]},\n",
              "             scoring=make_scorer(hinge_loss, greater_is_better=False, response_method=&#x27;predict&#x27;))</pre><b>In a Jupyter environment, please rerun this cell to show the HTML representation or trust the notebook. <br />On GitHub, the HTML representation is unable to render, please try loading this page with nbviewer.org.</b></div><div class=\"sk-container\" hidden><div class=\"sk-item sk-dashed-wrapped\"><div class=\"sk-label-container\"><div class=\"sk-label fitted sk-toggleable\"><input class=\"sk-toggleable__control sk-hidden--visually\" id=\"sk-estimator-id-14\" type=\"checkbox\" ><label for=\"sk-estimator-id-14\" class=\"sk-toggleable__label fitted sk-toggleable__label-arrow\"><div><div>GridSearchCV</div></div><div><a class=\"sk-estimator-doc-link fitted\" rel=\"noreferrer\" target=\"_blank\" href=\"https://scikit-learn.org/1.6/modules/generated/sklearn.model_selection.GridSearchCV.html\">?<span>Documentation for GridSearchCV</span></a><span class=\"sk-estimator-doc-link fitted\">i<span>Fitted</span></span></div></label><div class=\"sk-toggleable__content fitted\"><pre>GridSearchCV(cv=5, estimator=Perceptron(),\n",
              "             param_grid={&#x27;eta0&#x27;: [0.5, 0.25, 0.125, 0.0625, 0.03125]},\n",
              "             scoring=make_scorer(hinge_loss, greater_is_better=False, response_method=&#x27;predict&#x27;))</pre></div> </div></div><div class=\"sk-parallel\"><div class=\"sk-parallel-item\"><div class=\"sk-item\"><div class=\"sk-label-container\"><div class=\"sk-label fitted sk-toggleable\"><input class=\"sk-toggleable__control sk-hidden--visually\" id=\"sk-estimator-id-15\" type=\"checkbox\" ><label for=\"sk-estimator-id-15\" class=\"sk-toggleable__label fitted sk-toggleable__label-arrow\"><div><div>best_estimator_: Perceptron</div></div></label><div class=\"sk-toggleable__content fitted\"><pre>Perceptron(eta0=0.125)</pre></div> </div></div><div class=\"sk-serial\"><div class=\"sk-item\"><div class=\"sk-estimator fitted sk-toggleable\"><input class=\"sk-toggleable__control sk-hidden--visually\" id=\"sk-estimator-id-16\" type=\"checkbox\" ><label for=\"sk-estimator-id-16\" class=\"sk-toggleable__label fitted sk-toggleable__label-arrow\"><div><div>Perceptron</div></div><div><a class=\"sk-estimator-doc-link fitted\" rel=\"noreferrer\" target=\"_blank\" href=\"https://scikit-learn.org/1.6/modules/generated/sklearn.linear_model.Perceptron.html\">?<span>Documentation for Perceptron</span></a></div></label><div class=\"sk-toggleable__content fitted\"><pre>Perceptron(eta0=0.125)</pre></div> </div></div></div></div></div></div></div></div></div>"
            ]
          },
          "metadata": {},
          "execution_count": 117
        }
      ]
    },
    {
      "cell_type": "markdown",
      "source": [
        "As you can see, the best learning rate is 0.125."
      ],
      "metadata": {
        "id": "yeRB7iQiFA3A"
      }
    },
    {
      "cell_type": "code",
      "source": [
        "pprint(bin_clf_gscv.cv_results_)"
      ],
      "metadata": {
        "colab": {
          "base_uri": "https://localhost:8080/"
        },
        "id": "qgnSyDLF_Sho",
        "outputId": "69369727-5507-4d5f-bad2-61129605cc1a"
      },
      "execution_count": 119,
      "outputs": [
        {
          "output_type": "stream",
          "name": "stdout",
          "text": [
            "{'mean_fit_time': array([1.26200032, 1.17242646, 1.19159946, 0.9452034 , 0.93538074]),\n",
            " 'mean_score_time': array([0.02534947, 0.01643791, 0.01973181, 0.0176518 , 0.02368631]),\n",
            " 'mean_test_score': array([-0.0285    , -0.0285    , -0.02643333, -0.03066667, -0.0421    ]),\n",
            " 'param_eta0': masked_array(data=[0.5, 0.25, 0.125, 0.0625, 0.03125],\n",
            "             mask=[False, False, False, False, False],\n",
            "       fill_value=1e+20),\n",
            " 'params': [{'eta0': 0.5},\n",
            "            {'eta0': 0.25},\n",
            "            {'eta0': 0.125},\n",
            "            {'eta0': 0.0625},\n",
            "            {'eta0': 0.03125}],\n",
            " 'rank_test_score': array([2, 2, 1, 4, 5], dtype=int32),\n",
            " 'split0_test_score': array([-0.02166667, -0.02166667, -0.02166667, -0.02166667, -0.02166667]),\n",
            " 'split1_test_score': array([-0.0395, -0.0395, -0.0395, -0.0395, -0.0395]),\n",
            " 'split2_test_score': array([-0.02816667, -0.02816667, -0.02816667, -0.02816667, -0.02816667]),\n",
            " 'split3_test_score': array([-0.023     , -0.023     , -0.023     , -0.04416667, -0.04416667]),\n",
            " 'split4_test_score': array([-0.03016667, -0.03016667, -0.01983333, -0.01983333, -0.077     ]),\n",
            " 'std_fit_time': array([0.25278178, 0.29744874, 0.26614127, 0.12558818, 0.05850306]),\n",
            " 'std_score_time': array([0.00758682, 0.00020454, 0.00311148, 0.00213306, 0.00703033]),\n",
            " 'std_test_score': array([0.00633772, 0.00633772, 0.00709663, 0.0096425 , 0.01918697])}\n"
          ]
        }
      ]
    },
    {
      "cell_type": "code",
      "source": [
        "iterations = 100\n",
        "Loss = []\n",
        "best_bin_clf = Perceptron(max_iter=1000 ,random_state=2094, eta0=0.125)\n",
        "\n",
        "for i in range(iterations):\n",
        "  best_bin_clf.partial_fit(x_train, y_train_0, classes=np.array([1,-1]))\n",
        "  y_hat_0 = best_bin_clf.decision_function(x_train)\n",
        "  Loss.append(hinge_loss(y_train_0, y_hat_0))"
      ],
      "metadata": {
        "id": "TdzHyXWgBCia"
      },
      "execution_count": 120,
      "outputs": []
    },
    {
      "cell_type": "code",
      "source": [
        "plt.figure(figsize = (8, 4))\n",
        "plt.plot(np.arange(iterations), Loss_clf1, label='eta0 = 1')\n",
        "plt.plot(np.arange(iterations), Loss, label='eta0 = 0.125')\n",
        "plt.grid(True)\n",
        "plt.legend()\n",
        "plt.xlabel('Iteration')\n",
        "plt.ylabel('Training Loss')\n",
        "plt.show()"
      ],
      "metadata": {
        "colab": {
          "base_uri": "https://localhost:8080/",
          "height": 397
        },
        "id": "1HCjDc3qFO1g",
        "outputId": "42cf3b4a-dc9f-41cf-db45-0f6fa2640f68"
      },
      "execution_count": 121,
      "outputs": [
        {
          "output_type": "display_data",
          "data": {
            "text/plain": [
              "<Figure size 800x400 with 1 Axes>"
            ],
            "image/png": "[encoded data removed]"
          },
          "metadata": {}
        }
      ]
    },
    {
      "cell_type": "markdown",
      "source": [
        "Well, instead of instatiating a Perceptron class with a new learning rate and re-train the model, we  could simply get the best_estimator from `GridSearchCV` as follows and use it for predictions."
      ],
      "metadata": {
        "id": "tB4X_UniGWgm"
      }
    },
    {
      "cell_type": "code",
      "source": [
        "best_bin_clf = bin_clf_gscv.best_estimator_\n",
        "y_hat_train_0 = best_bin_clf.predict(x_train)\n",
        "print(classification_report(y_train_0, y_hat_train_0))"
      ],
      "metadata": {
        "colab": {
          "base_uri": "https://localhost:8080/"
        },
        "id": "tEqw7HsyG4on",
        "outputId": "c190708a-1032-4fa9-fe2e-b8cef191cbc2"
      },
      "execution_count": 126,
      "outputs": [
        {
          "output_type": "stream",
          "name": "stdout",
          "text": [
            "              precision    recall  f1-score   support\n",
            "\n",
            "        -1.0       0.99      0.99      0.99     54077\n",
            "         1.0       0.95      0.95      0.95      5923\n",
            "\n",
            "    accuracy                           0.99     60000\n",
            "   macro avg       0.97      0.97      0.97     60000\n",
            "weighted avg       0.99      0.99      0.99     60000\n",
            "\n"
          ]
        }
      ]
    },
    {
      "cell_type": "markdown",
      "source": [
        "Compare the classification report when `eta0=1`"
      ],
      "metadata": {
        "id": "go9yDxugHoz_"
      }
    },
    {
      "cell_type": "markdown",
      "metadata": {
        "id": "9-b3aT5JRfjU"
      },
      "source": [
        "# Visualizing weight vectors (Optional)\n",
        "  It will be interesting to look into the samples which are misclassified as False Positives (that is, images that are not zero but classified as zero),   and come up with some possible reasons. Shall we do it?"
      ]
    },
    {
      "cell_type": "code",
      "source": [
        "# repeating the code for readabilituy\n",
        "bin_clf = Perceptron(max_iter=100)\n",
        "bin_clf.fit(x_train,y_train_0)\n",
        "y_hat_train_0 = bin_clf.predict(x_train)"
      ],
      "metadata": {
        "id": "LzHHygOBMuOA"
      },
      "execution_count": null,
      "outputs": []
    },
    {
      "cell_type": "code",
      "metadata": {
        "id": "LLZV_cO1RS9B"
      },
      "source": [
        "#find the index of false positive samples\n",
        "idx_n = np.where(y_train_0 ==-1) # index of true -ve samples\n",
        "idx_pred_p = np.where(y_hat_train_0==1) # index of predicted positive samples\n",
        "idx_pred_n = np.where(y_hat_train_0==-1) # index of predicted negative samples\n",
        "idx_fp = np.intersect1d(idx_n,idx_pred_p)\n",
        "idx_tn = np.intersect1d(idx_n,idx_pred_n)"
      ],
      "execution_count": null,
      "outputs": []
    },
    {
      "cell_type": "code",
      "metadata": {
        "id": "V4jZXZ88ZgKH",
        "colab": {
          "base_uri": "https://localhost:8080/",
          "height": 373
        },
        "outputId": "f69503ab-9b4e-4167-b5cf-439b45e2922a"
      },
      "source": [
        "fig,ax = plt.subplots(nrows=factor,ncols=factor,figsize=(8,6))\n",
        "idx_offset = 0\n",
        "for i in range(3):\n",
        "  index = idx_offset+i\n",
        "  for j in range(3):\n",
        "    ax[i,j].imshow(x_train[idx_fp[index+j]].reshape(28,28),cmap='gray') # we should not use x_train_with_dummy\n",
        "    ax[i,j].set_title('GT:{0}, Pr:{1}'.format(str(y_train_0[idx_fp[index+j]]),str(y_hat_train_0[idx_fp[index+j]])))\n",
        "    ax[i,j].set_axis_off()"
      ],
      "execution_count": null,
      "outputs": [
        {
          "output_type": "display_data",
          "data": {
            "text/plain": [
              "<Figure size 576x432 with 9 Axes>"
            ],
            "image/png": "[encoded data removed]"
          },
          "metadata": {
            "needs_background": "light"
          }
        }
      ]
    },
    {
      "cell_type": "markdown",
      "metadata": {
        "id": "qwJRr54Vfa1e"
      },
      "source": [
        " We can do some reasoning if we look into what the perceptron is actually learning about the digit **0** by visualizing the weight values after the training.!"
      ]
    },
    {
      "cell_type": "code",
      "source": [
        "from matplotlib.colors import Normalize"
      ],
      "metadata": {
        "id": "JD3iraBthH8B"
      },
      "execution_count": null,
      "outputs": []
    },
    {
      "cell_type": "code",
      "metadata": {
        "id": "gfLbdtqIdw84",
        "colab": {
          "base_uri": "https://localhost:8080/",
          "height": 253
        },
        "outputId": "c27085bf-0552-45a4-d34a-1e0cdbaa08ee"
      },
      "source": [
        "w = bin_clf.coef_\n",
        "w_matrix = w.reshape(28,28)\n",
        "fig = plt.figure()\n",
        "plt.imshow(w_matrix,cmap='gray')\n",
        "plt.grid(False)\n",
        "plt.axis(False)\n",
        "plt.colorbar()\n",
        "plt.show()"
      ],
      "execution_count": null,
      "outputs": [
        {
          "output_type": "display_data",
          "data": {
            "text/plain": [
              "<Figure size 432x288 with 2 Axes>"
            ],
            "image/png": "[encoded data removed]"
          },
          "metadata": {
            "needs_background": "light"
          }
        }
      ]
    },
    {
      "cell_type": "code",
      "metadata": {
        "id": "n25UGkMmRBgJ",
        "colab": {
          "base_uri": "https://localhost:8080/",
          "height": 261
        },
        "outputId": "55089362-4a45-4702-e84a-e4ab8aca93a6"
      },
      "source": [
        "activation = w * x_train[idx_fp[0]].reshape(1,-1)\n",
        "lin_out = activation.reshape(28,28)\n",
        "plt.subplot(1,2,1)\n",
        "plt.imshow(x_train[idx_fp[0]].reshape(28,28),cmap='gray')\n",
        "plt.colorbar()\n",
        "# lin_out[lin_out<0]=0 #just set the value less than zero to zero\n",
        "plt.subplot(1,2,2)\n",
        "plt.imshow(lin_out,cmap='gray')\n",
        "plt.colorbar()\n",
        "plt.grid(False)\n",
        "plt.axis(False)\n",
        "plt.show()"
      ],
      "execution_count": null,
      "outputs": [
        {
          "output_type": "display_data",
          "data": {
            "text/plain": [
              "<Figure size 432x288 with 4 Axes>"
            ],
            "image/png": "[encoded data removed]"
          },
          "metadata": {
            "needs_background": "light"
          }
        }
      ]
    },
    {
      "cell_type": "code",
      "metadata": {
        "id": "BZr1TN7uSDEr",
        "colab": {
          "base_uri": "https://localhost:8080/"
        },
        "outputId": "6c526967-480c-44c6-d970-103dff0c4ade"
      },
      "source": [
        "#input to the signum\n",
        "print(np.sum(lin_out) + bin_clf.intercept_)"
      ],
      "execution_count": null,
      "outputs": [
        {
          "output_type": "stream",
          "name": "stdout",
          "text": [
            "[22.90520569]\n"
          ]
        }
      ]
    },
    {
      "cell_type": "code",
      "metadata": {
        "id": "ZmnnGuyPROQA",
        "colab": {
          "base_uri": "https://localhost:8080/",
          "height": 261
        },
        "outputId": "42cd76de-6de0-4ed1-9dc8-9a583f81c3a2"
      },
      "source": [
        "activation = w*x_train[idx_tn[0]].reshape(1,-1)\n",
        "lin_out = activation.reshape(28,28)\n",
        "plt.subplot(1,2,1)\n",
        "plt.imshow(x_train[idx_tn[0]].reshape(28,28),cmap='gray')\n",
        "plt.colorbar()\n",
        "# lin_out[lin_out<0]=0 #just set the value less than zero to zero\n",
        "plt.subplot(1,2,2)\n",
        "plt.imshow(lin_out,cmap='gray')\n",
        "plt.colorbar()\n",
        "plt.grid(False)\n",
        "plt.axis(False)\n",
        "plt.show()"
      ],
      "execution_count": null,
      "outputs": [
        {
          "output_type": "display_data",
          "data": {
            "text/plain": [
              "<Figure size 432x288 with 4 Axes>"
            ],
            "image/png": "[encoded data removed]"
          },
          "metadata": {
            "needs_background": "light"
          }
        }
      ]
    },
    {
      "cell_type": "code",
      "metadata": {
        "id": "FEGVqCGGRTEn",
        "colab": {
          "base_uri": "https://localhost:8080/"
        },
        "outputId": "036e69d5-6a7d-4b30-ab38-e2a262f22859"
      },
      "source": [
        "#input to signum\n",
        "print(np.sum(lin_out) + bin_clf.intercept_)"
      ],
      "execution_count": null,
      "outputs": [
        {
          "output_type": "stream",
          "name": "stdout",
          "text": [
            "[-293.33960784]\n"
          ]
        }
      ]
    }
  ]
}