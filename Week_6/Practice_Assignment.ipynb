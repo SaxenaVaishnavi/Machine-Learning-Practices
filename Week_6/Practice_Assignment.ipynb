{
  "nbformat": 4,
  "nbformat_minor": 0,
  "metadata": {
    "colab": {
      "provenance": [],
      "authorship_tag": "ABX9TyOWmpuCVX0IJ1dw2rpK3Tjk",
      "include_colab_link": true
    },
    "kernelspec": {
      "name": "python3",
      "display_name": "Python 3"
    },
    "language_info": {
      "name": "python"
    }
  },
  "cells": [
    {
      "cell_type": "markdown",
      "metadata": {
        "id": "view-in-github",
        "colab_type": "text"
      },
      "source": [
        "<a href=\"https://colab.research.google.com/github/SaxenaVaishnavi/Machine-Learning-Practices/blob/main/Week_6/Practice_Assignment.ipynb\" target=\"_parent\"><img src=\"https://colab.research.google.com/assets/colab-badge.svg\" alt=\"Open In Colab\"/></a>"
      ]
    },
    {
      "cell_type": "markdown",
      "source": [
        "# Imports\n"
      ],
      "metadata": {
        "id": "W-z8JeusdSka"
      }
    },
    {
      "cell_type": "code",
      "source": [
        "import numpy as np\n",
        "import seaborn as sns\n",
        "import matplotlib.pyplot as plt\n",
        "from sklearn.datasets import fetch_openml\n",
        "from sklearn.linear_model import Perceptron"
      ],
      "metadata": {
        "id": "hIdqkrHTdSPE"
      },
      "execution_count": 1,
      "outputs": []
    },
    {
      "cell_type": "markdown",
      "source": [
        "# Problem 1\n",
        "Load the MNIST dataset `(mnist_784, version=1)` from openml. How many number of samples are there in the dataset?"
      ],
      "metadata": {
        "id": "uAufJWbEczqY"
      }
    },
    {
      "cell_type": "code",
      "execution_count": 8,
      "metadata": {
        "id": "Qw98WlZDcmCy"
      },
      "outputs": [],
      "source": [
        "X, y = fetch_openml('mnist_784', version=1, return_X_y=True)\n",
        "X = X.to_numpy()\n",
        "y = y.to_numpy()"
      ]
    },
    {
      "cell_type": "code",
      "source": [
        "X.shape"
      ],
      "metadata": {
        "colab": {
          "base_uri": "https://localhost:8080/"
        },
        "id": "MXerySuvd67I",
        "outputId": "488d9a4d-e1a8-4c9a-86f0-95ec75a48821"
      },
      "execution_count": 10,
      "outputs": [
        {
          "output_type": "execute_result",
          "data": {
            "text/plain": [
              "(70000, 784)"
            ]
          },
          "metadata": {},
          "execution_count": 10
        }
      ]
    },
    {
      "cell_type": "markdown",
      "source": [
        "# Problem 2\n",
        "Access the sample at the index 2022.\n",
        "\n",
        "* What is the label of the sample?\n",
        "* What is the mean value of the sample?\n",
        "* How many zeros are there in the sample?\n",
        "\n",
        "Pack the answer in a tuple like (label,mean,num_zeros)."
      ],
      "metadata": {
        "id": "VToBFHUZeaiZ"
      }
    },
    {
      "cell_type": "code",
      "source": [
        "sample = X[2022, :]\n",
        "label = y[2022]\n",
        "mean = np.mean(sample)\n",
        "num_zeroes = 784 - np.count_nonzero(sample)\n",
        "answer = (label, mean, num_zeroes)\n",
        "answer"
      ],
      "metadata": {
        "colab": {
          "base_uri": "https://localhost:8080/"
        },
        "id": "oUTyvdpbeaFu",
        "outputId": "973b9168-4974-4abd-e102-fd9295acd97d"
      },
      "execution_count": 11,
      "outputs": [
        {
          "output_type": "execute_result",
          "data": {
            "text/plain": [
              "('2', np.float64(27.761479591836736), 643)"
            ]
          },
          "metadata": {},
          "execution_count": 11
        }
      ]
    },
    {
      "cell_type": "markdown",
      "source": [
        "# Problem 3\n",
        "Create a dataset by taking first $10000$ images for training and next $2000$ images for testing from the original dataset. Answer the following questions.\n",
        "\n",
        "* How many unique classes are there in the training set?\n",
        "* The number of training samples for the digit-6 are?\n",
        "* The number of training samples for the digit-9 are?\n",
        "* How many unique classes are there in the test set?\n",
        "* Which class has most number of test samples?\n",
        "\n",
        "Pack the answers in a tuple like (2, 1000, 800, 5, 7)."
      ],
      "metadata": {
        "id": "L6KMR_x9fGss"
      }
    },
    {
      "cell_type": "code",
      "source": [
        "X_train = X[:10000, :]\n",
        "y_train = y[:10000]\n",
        "X_test = X[10000:12000, :]\n",
        "y_test = y[10000:12000]\n",
        "\n",
        "unique_classes_train = np.unique(y_train)\n",
        "print(unique_classes_train)\n",
        "print(len(unique_classes_train))\n",
        "\n",
        "idx_6 = np.where(y_train == '6')[0]\n",
        "num_6 = len(idx_6)\n",
        "print(num_6)\n",
        "\n",
        "idx_9 = np.where(y_train =='9')[0]\n",
        "num_9 = len(idx_9)\n",
        "print(num_9)\n",
        "\n",
        "unique_classes_test = np.unique(y_test)\n",
        "print(unique_classes_test)\n",
        "print(len(unique_classes_test))\n",
        "\n",
        "count,bins = np.histogram(y_test.astype(np.int8),bins=10)\n",
        "max_class = np.argmax(count)\n",
        "print(max_class)"
      ],
      "metadata": {
        "colab": {
          "base_uri": "https://localhost:8080/"
        },
        "id": "4N8ZTUlJe8Ln",
        "outputId": "8a5efff3-9397-40d1-9881-b7b08c1c811a"
      },
      "execution_count": 18,
      "outputs": [
        {
          "output_type": "stream",
          "name": "stdout",
          "text": [
            "['0' '1' '2' '3' '4' '5' '6' '7' '8' '9']\n",
            "10\n",
            "1014\n",
            "978\n",
            "['0' '1' '2' '3' '4' '5' '6' '7' '8' '9']\n",
            "10\n",
            "1\n"
          ]
        }
      ]
    },
    {
      "cell_type": "markdown",
      "source": [
        "# Problem 4\n",
        "Consider the above modified training and testing sets with first 10000 images for training and next 2000 images for testing.\n",
        "\n",
        "Steps to be followed\n",
        "\n",
        "- Collect all digit-6 (Positive class) and digit-9 (Negative class) images and stack them properly as a single datamatrix.\n",
        "- By convention, keep all digit $6$ images from index `0 to i` followed by digit $9$ images from index `i+1 to n` (`i` denotes the end index of digit $6$ images)\n",
        "- Similarly, collect the respective labels and store it in a variable (Do sanity check).\n",
        "- Set the label values to $1$ for positive classes and $-1$ for negative classes.\n",
        "- Load `from sklearn.utils import shuffle`\n",
        "- Shuffle the datamatrix and labels. (Set `random_state` value to $1729$).\n",
        "\n",
        "What are the first three labels starting from the index 0?. Select from the following options."
      ],
      "metadata": {
        "id": "BjLHpuZQknX8"
      }
    },
    {
      "cell_type": "code",
      "source": [
        "# I have idx_6 and idx_9. Now stacking them\n",
        "indexes = np.concatenate((idx_6, idx_9))\n",
        "X_train_69 = X_train[indexes, :]\n",
        "y_train_69 = np.concatenate((np.ones(len(idx_6)), -1 * np.ones(len(idx_9))))\n",
        "\n",
        "from sklearn.utils import shuffle\n",
        "X_train_69, y_train_69 = shuffle(X_train_69, y_train_69, random_state=1729)\n",
        "print('The first 3 labels are: ', y_train_69[:3])"
      ],
      "metadata": {
        "colab": {
          "base_uri": "https://localhost:8080/"
        },
        "id": "319JGrYNnYbO",
        "outputId": "e36a0fad-22ec-49b8-b46f-531d3399b3af"
      },
      "execution_count": 19,
      "outputs": [
        {
          "output_type": "stream",
          "name": "stdout",
          "text": [
            "The first 3 labels are:  [ 1. -1. -1.]\n"
          ]
        }
      ]
    },
    {
      "cell_type": "markdown",
      "source": [
        "# Problem 5\n",
        "Instantiate a perceptron classifier that meets the following requirements\n",
        "\n",
        "```python\n",
        "random_state = 1729\n",
        "learning rate = 1\n",
        "epoch = 10\n",
        "shuffle = False\n",
        "Include the intercept (bias) term.\n",
        "No regularization\n",
        "```\n",
        "Fit the perceptron classifier on the training dataset.\n",
        "\n",
        "What is the value of `w` for the $70th$ feature after $10$ iterations?\n",
        "\n",
        "**Note**: Indexing for coefficient starts from 0. Don't worry if it raises a convergence warning"
      ],
      "metadata": {
        "id": "_tv-dr1JpN6d"
      }
    },
    {
      "cell_type": "code",
      "source": [
        "clf = Perceptron(random_state=1729, eta0=1, max_iter=10, shuffle=False, fit_intercept=True, penalty=None)\n",
        "clf.fit(X_train_69, y_train_69)\n",
        "print(clf.coef_[0, 69])"
      ],
      "metadata": {
        "colab": {
          "base_uri": "https://localhost:8080/"
        },
        "id": "amOKXLqgqFoM",
        "outputId": "7586ebca-5cb1-4226-dd3e-7c2d23c3e965"
      },
      "execution_count": 38,
      "outputs": [
        {
          "output_type": "stream",
          "name": "stdout",
          "text": [
            "605.0\n"
          ]
        },
        {
          "output_type": "stream",
          "name": "stderr",
          "text": [
            "/usr/local/lib/python3.11/dist-packages/sklearn/linear_model/_stochastic_gradient.py:738: ConvergenceWarning: Maximum number of iteration reached before convergence. Consider increasing max_iter to improve the fit.\n",
            "  warnings.warn(\n"
          ]
        }
      ]
    },
    {
      "cell_type": "markdown",
      "source": [
        "# Problem 6\n",
        "With respective to the above question and for the same settings.\n",
        "What is the sequence of bias (intercept) updates for the first 5 epochs?"
      ],
      "metadata": {
        "id": "mRubuWWmrUHq"
      }
    },
    {
      "cell_type": "code",
      "source": [
        "updates = []\n",
        "for i in range(5):\n",
        "  clf.partial_fit(X_train_69, y_train_69, classes=np.unique(y_train_69))\n",
        "  updates.append(clf.intercept_)\n",
        "\n",
        "print(updates)"
      ],
      "metadata": {
        "colab": {
          "base_uri": "https://localhost:8080/"
        },
        "id": "O1IvFkQ5rb5Y",
        "outputId": "e7e5cd9b-0488-497b-b4ea-8ceebd9b241c"
      },
      "execution_count": 39,
      "outputs": [
        {
          "output_type": "stream",
          "name": "stdout",
          "text": [
            "[array([-6.]), array([-6.]), array([-6.]), array([-6.]), array([-6.])]\n"
          ]
        }
      ]
    }
  ]
}