{
  "nbformat": 4,
  "nbformat_minor": 0,
  "metadata": {
    "colab": {
      "provenance": [],
      "authorship_tag": "ABX9TyPr5SZnum+wRQkekVmWIzCk",
      "include_colab_link": true
    },
    "kernelspec": {
      "name": "python3",
      "display_name": "Python 3"
    },
    "language_info": {
      "name": "python"
    }
  },
  "cells": [
    {
      "cell_type": "markdown",
      "metadata": {
        "id": "view-in-github",
        "colab_type": "text"
      },
      "source": [
        "<a href=\"https://colab.research.google.com/github/SaxenaVaishnavi/Machine-Learning-Practices/blob/main/Week_4/Practice_Assignment.ipynb\" target=\"_parent\"><img src=\"https://colab.research.google.com/assets/colab-badge.svg\" alt=\"Open In Colab\"/></a>"
      ]
    },
    {
      "cell_type": "markdown",
      "source": [
        "# Based on california housing dataset answer the following questions."
      ],
      "metadata": {
        "id": "ID-Ok74FgE80"
      }
    },
    {
      "cell_type": "code",
      "execution_count": 2,
      "metadata": {
        "id": "46iAlqurf7-x"
      },
      "outputs": [],
      "source": [
        "from sklearn.datasets import fetch_california_housing"
      ]
    },
    {
      "cell_type": "code",
      "source": [
        "# Fetching data\n",
        "X, y = fetch_california_housing(return_X_y=True, as_frame=True)"
      ],
      "metadata": {
        "id": "BXeI-0pygNX3"
      },
      "execution_count": 3,
      "outputs": []
    },
    {
      "cell_type": "markdown",
      "source": [
        "# Problem 1\n",
        "\n",
        "What is the shape of feature matrix for the dataset?"
      ],
      "metadata": {
        "id": "6SRs6v0zgkWq"
      }
    },
    {
      "cell_type": "code",
      "source": [
        "# Solution\n",
        "X.shape"
      ],
      "metadata": {
        "colab": {
          "base_uri": "https://localhost:8080/"
        },
        "id": "2gPlaJSrgbR4",
        "outputId": "99904315-6b49-48c7-cfdc-fe409c92175d"
      },
      "execution_count": 4,
      "outputs": [
        {
          "output_type": "execute_result",
          "data": {
            "text/plain": [
              "(20640, 8)"
            ]
          },
          "metadata": {},
          "execution_count": 4
        }
      ]
    },
    {
      "cell_type": "markdown",
      "source": [
        "# Problem 2\n",
        "How many missing values are present in the dataset?"
      ],
      "metadata": {
        "id": "XmtestmjgosK"
      }
    },
    {
      "cell_type": "code",
      "source": [
        "# Solution\n",
        "X.isnull().sum()"
      ],
      "metadata": {
        "colab": {
          "base_uri": "https://localhost:8080/",
          "height": 335
        },
        "id": "VhhglXengucU",
        "outputId": "7facf801-3b68-4838-8bf6-8403a37fb347"
      },
      "execution_count": 7,
      "outputs": [
        {
          "output_type": "execute_result",
          "data": {
            "text/plain": [
              "MedInc        0\n",
              "HouseAge      0\n",
              "AveRooms      0\n",
              "AveBedrms     0\n",
              "Population    0\n",
              "AveOccup      0\n",
              "Latitude      0\n",
              "Longitude     0\n",
              "dtype: int64"
            ],
            "text/html": [
              "<div>\n",
              "<style scoped>\n",
              "    .dataframe tbody tr th:only-of-type {\n",
              "        vertical-align: middle;\n",
              "    }\n",
              "\n",
              "    .dataframe tbody tr th {\n",
              "        vertical-align: top;\n",
              "    }\n",
              "\n",
              "    .dataframe thead th {\n",
              "        text-align: right;\n",
              "    }\n",
              "</style>\n",
              "<table border=\"1\" class=\"dataframe\">\n",
              "  <thead>\n",
              "    <tr style=\"text-align: right;\">\n",
              "      <th></th>\n",
              "      <th>0</th>\n",
              "    </tr>\n",
              "  </thead>\n",
              "  <tbody>\n",
              "    <tr>\n",
              "      <th>MedInc</th>\n",
              "      <td>0</td>\n",
              "    </tr>\n",
              "    <tr>\n",
              "      <th>HouseAge</th>\n",
              "      <td>0</td>\n",
              "    </tr>\n",
              "    <tr>\n",
              "      <th>AveRooms</th>\n",
              "      <td>0</td>\n",
              "    </tr>\n",
              "    <tr>\n",
              "      <th>AveBedrms</th>\n",
              "      <td>0</td>\n",
              "    </tr>\n",
              "    <tr>\n",
              "      <th>Population</th>\n",
              "      <td>0</td>\n",
              "    </tr>\n",
              "    <tr>\n",
              "      <th>AveOccup</th>\n",
              "      <td>0</td>\n",
              "    </tr>\n",
              "    <tr>\n",
              "      <th>Latitude</th>\n",
              "      <td>0</td>\n",
              "    </tr>\n",
              "    <tr>\n",
              "      <th>Longitude</th>\n",
              "      <td>0</td>\n",
              "    </tr>\n",
              "  </tbody>\n",
              "</table>\n",
              "</div><br><label><b>dtype:</b> int64</label>"
            ]
          },
          "metadata": {},
          "execution_count": 7
        }
      ]
    },
    {
      "cell_type": "markdown",
      "source": [
        "# **Instructions**: For questions 3 to 6, split the california housing dataset into train and test sets.\n",
        "\n",
        "[**Hint**: use appropriate API with `random_state=0`, `shuffle=False` and `test_size=0.2`]"
      ],
      "metadata": {
        "id": "YcdDiJ_Kh0kr"
      }
    },
    {
      "cell_type": "code",
      "source": [
        "# Solution\n",
        "from sklearn.model_selection import train_test_split\n",
        "X_train, X_test, y_train, y_test = train_test_split(X, y, random_state=0, shuffle=False, test_size=0.2)"
      ],
      "metadata": {
        "id": "n2rLscRijpWa"
      },
      "execution_count": null,
      "outputs": []
    },
    {
      "cell_type": "markdown",
      "source": [
        "## Problem 3\n",
        "What is the value of house age in third sample of test set?"
      ],
      "metadata": {
        "id": "8Pg_wKlgh8cb"
      }
    },
    {
      "cell_type": "code",
      "source": [
        "# Solution\n",
        "X_test.iloc[2]['HouseAge']"
      ],
      "metadata": {
        "colab": {
          "base_uri": "https://localhost:8080/"
        },
        "id": "ebdXkhQkjloZ",
        "outputId": "3e248a9d-3e76-481f-c2d8-874919ea6912"
      },
      "execution_count": 9,
      "outputs": [
        {
          "output_type": "execute_result",
          "data": {
            "text/plain": [
              "28.0"
            ]
          },
          "metadata": {},
          "execution_count": 9
        }
      ]
    },
    {
      "cell_type": "markdown",
      "source": [
        "## Problem 4\n",
        "What is the value of Population in the first sample of training set?"
      ],
      "metadata": {
        "id": "kUIflFjDiAEL"
      }
    },
    {
      "cell_type": "code",
      "source": [
        "# Solution\n",
        "X_train.iloc[0]['Population']"
      ],
      "metadata": {
        "colab": {
          "base_uri": "https://localhost:8080/"
        },
        "id": "EzNlyz00iDnO",
        "outputId": "7bb638a5-be12-49d0-d10e-b3720ee05245"
      },
      "execution_count": 13,
      "outputs": [
        {
          "output_type": "execute_result",
          "data": {
            "text/plain": [
              "322.0"
            ]
          },
          "metadata": {},
          "execution_count": 13
        }
      ]
    },
    {
      "cell_type": "markdown",
      "source": [
        "## Problem 5\n",
        "What is the mean of output label in training set?"
      ],
      "metadata": {
        "id": "EnLD_MW2iERr"
      }
    },
    {
      "cell_type": "code",
      "source": [
        "# Solution\n",
        "import numpy as np\n",
        "np.mean(y_train)"
      ],
      "metadata": {
        "colab": {
          "base_uri": "https://localhost:8080/"
        },
        "id": "icXHSOAYiL34",
        "outputId": "1e2598e6-50d7-4c41-e8ce-a0682bc9e254"
      },
      "execution_count": 15,
      "outputs": [
        {
          "output_type": "execute_result",
          "data": {
            "text/plain": [
              "2.02067031310562"
            ]
          },
          "metadata": {},
          "execution_count": 15
        }
      ]
    },
    {
      "cell_type": "markdown",
      "source": [
        "## Problem 6\n",
        "What is the median of output label in test set?"
      ],
      "metadata": {
        "id": "FARdP82ZicEU"
      }
    },
    {
      "cell_type": "code",
      "source": [
        "# Solution\n",
        "np.median(y_test)"
      ],
      "metadata": {
        "colab": {
          "base_uri": "https://localhost:8080/"
        },
        "id": "CduyqJdgigDe",
        "outputId": "112dfae0-9b3e-4712-b75d-8fc7dad4eb8d"
      },
      "execution_count": 16,
      "outputs": [
        {
          "output_type": "execute_result",
          "data": {
            "text/plain": [
              "2.1475"
            ]
          },
          "metadata": {},
          "execution_count": 16
        }
      ]
    },
    {
      "cell_type": "markdown",
      "source": [
        "# Problem 7\n",
        "If we use StandardScaler for preprocessing and LinearRegression for fitting the model with training set obtained in previous questions, what are the coefficients and biases obtained in the predicted model?\n",
        "\n",
        "**Note**: Use methods and objects with default parameters."
      ],
      "metadata": {
        "id": "AE8zfFp6ig8z"
      }
    },
    {
      "cell_type": "code",
      "source": [
        "# Solution\n",
        "from sklearn.preprocessing import StandardScaler\n",
        "from sklearn.linear_model import LinearRegression\n",
        "\n",
        "scaler = StandardScaler()\n",
        "X_train_scaled = scaler.fit_transform(X_train)\n",
        "X_test_scaled = scaler.transform(X_test)\n",
        "\n",
        "model = LinearRegression()\n",
        "model.fit(X_train_scaled, y_train)\n",
        "\n",
        "coeff = model.coef_\n",
        "bias = model.intercept_\n",
        "\n",
        "print('coefficients: ', coeff)\n",
        "print('bias: ', bias)"
      ],
      "metadata": {
        "colab": {
          "base_uri": "https://localhost:8080/"
        },
        "id": "xmL-vO3flF1Y",
        "outputId": "22c6c23a-44fc-425b-b5f7-28b8412d04d5"
      },
      "execution_count": 17,
      "outputs": [
        {
          "output_type": "stream",
          "name": "stdout",
          "text": [
            "coefficients:  [ 0.83817967  0.12032096 -0.32135834  0.36456599 -0.00170674 -0.04524631\n",
            " -0.87994217 -0.82634126]\n",
            "bias:  2.020670313105614\n"
          ]
        }
      ]
    }
  ]
}