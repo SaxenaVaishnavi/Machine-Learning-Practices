{
  "nbformat": 4,
  "nbformat_minor": 0,
  "metadata": {
    "colab": {
      "provenance": [],
      "authorship_tag": "ABX9TyPD4YvhP+HGGwO3/YEIH1jL",
      "include_colab_link": true
    },
    "kernelspec": {
      "name": "python3",
      "display_name": "Python 3"
    },
    "language_info": {
      "name": "python"
    }
  },
  "cells": [
    {
      "cell_type": "markdown",
      "metadata": {
        "id": "view-in-github",
        "colab_type": "text"
      },
      "source": [
        "<a href=\"https://colab.research.google.com/github/SaxenaVaishnavi/Machine-Learning-Practices/blob/main/Week_4/Graded_Assignment.ipynb\" target=\"_parent\"><img src=\"https://colab.research.google.com/assets/colab-badge.svg\" alt=\"Open In Colab\"/></a>"
      ]
    },
    {
      "cell_type": "markdown",
      "source": [
        "# **Instructions**\n",
        "For all graded questions, use\n",
        "```python\n",
        "from sklearn.datasets import fetch_california_housing\n",
        "```\n",
        "and split the california housing dataset into train and test sets.\n",
        "\n",
        "[**Hint**: use appropriate API with `random_state=0`, `shuffle=False` and `test_size=0.2`]"
      ],
      "metadata": {
        "id": "UNGb482SzGp_"
      }
    },
    {
      "cell_type": "code",
      "source": [
        "from sklearn.datasets import fetch_california_housing\n",
        "from sklearn.linear_model import LinearRegression, SGDRegressor\n",
        "from sklearn.model_selection import train_test_split\n",
        "from sklearn.preprocessing import StandardScaler\n",
        "from sklearn.metrics import r2_score, mean_squared_error, mean_absolute_error, max_error, explained_variance_score\n",
        "import numpy as np"
      ],
      "metadata": {
        "id": "qC1_JZJi0ZJb"
      },
      "execution_count": 10,
      "outputs": []
    },
    {
      "cell_type": "markdown",
      "source": [
        "# Problem 1\n",
        "If we use `StandardScaler` for preprocessing and `LinearRegression` for fitting the model with training set obtained from following code snippet:\n",
        "\n",
        "(Assume that $(X,y)$ is the california housing dataset.)\n",
        "\n",
        "```python\n",
        "X_train,X_test,y_train,y_test= train_test_split(X,y, test_size=0.2, shuffle=False, random_state=0)\n",
        "```\n",
        "What is the R squared value for predictions obtained using test set features?\n",
        "\n",
        "**Note**: Use methods and objects with default parameters"
      ],
      "metadata": {
        "id": "C1rKex3CzrH2"
      }
    },
    {
      "cell_type": "code",
      "source": [
        "# Solution\n",
        "# Train-Test Split\n",
        "X, y= fetch_california_housing(return_X_y=True, as_frame=True)\n",
        "X_train, X_test, y_train, y_test = train_test_split(X, y, test_size=0.2, shuffle=False, random_state=0)\n",
        "\n",
        "# Preprocessing: Scaling\n",
        "scaler = StandardScaler()\n",
        "X_train_scaled = scaler.fit_transform(X_train)\n",
        "X_test_scaled = scaler.transform(X_test)\n",
        "\n",
        "# Model training: Linear Regression\n",
        "model = LinearRegression()\n",
        "model.fit(X_train_scaled, y_train)\n",
        "\n",
        "# Predictions\n",
        "y_pred = model.predict(X_test_scaled)\n",
        "\n",
        "# R^2 score\n",
        "r2 = r2_score(y_test, y_pred)\n",
        "print(f\"R^2 score: {r2}\")"
      ],
      "metadata": {
        "colab": {
          "base_uri": "https://localhost:8080/"
        },
        "id": "7lEV6F3A06B0",
        "outputId": "1fe00a23-0bf2-450a-ae33-5bcba335e836"
      },
      "execution_count": 3,
      "outputs": [
        {
          "output_type": "stream",
          "name": "stdout",
          "text": [
            "R^2 score: 0.6605140591531993\n"
          ]
        }
      ]
    },
    {
      "cell_type": "markdown",
      "source": [
        "# Problem 2\n",
        "What is the Root Mean Squared Error (RMSE) in predictions"
      ],
      "metadata": {
        "id": "5WcevnT_5qqg"
      }
    },
    {
      "cell_type": "code",
      "source": [
        "# Solution\n",
        "np.sqrt(mean_squared_error(y_test, y_pred))"
      ],
      "metadata": {
        "colab": {
          "base_uri": "https://localhost:8080/"
        },
        "id": "DOULBDew5LbE",
        "outputId": "62c7de34-24a4-4a7e-fac3-8fb1c14b7688"
      },
      "execution_count": 7,
      "outputs": [
        {
          "output_type": "execute_result",
          "data": {
            "text/plain": [
              "0.7033383507521878"
            ]
          },
          "metadata": {},
          "execution_count": 7
        }
      ]
    },
    {
      "cell_type": "markdown",
      "source": [
        "# Problem 3\n",
        "Compute the values of the following evaluation metrics\n",
        "1. Explained variance score\n",
        "2. Max error\n",
        "3. Mean absolute error\n",
        "4. Mean squared error\n"
      ],
      "metadata": {
        "id": "4f0DwzmI6N_F"
      }
    },
    {
      "cell_type": "code",
      "source": [
        "# Solution\n",
        "# Explained Variance Score\n",
        "explained_variance = explained_variance_score(y_test, y_pred)\n",
        "\n",
        "# Max Error\n",
        "max_err = max_error(y_test, y_pred)\n",
        "\n",
        "# Mean Absolute Error (MAE)\n",
        "mae_value = mean_absolute_error(y_test, y_pred)\n",
        "\n",
        "# Mean Squared Error (MSE)\n",
        "mse_value = mean_squared_error(y_test, y_pred)\n",
        "\n",
        "print(f\"Explained Variance Score: {explained_variance}\")\n",
        "print(f\"Max Error: {max_err}\")\n",
        "print(f\"Mean Absolute Error: {mae_value}\")\n",
        "print(f\"Mean Squared Error: {mse_value}\")"
      ],
      "metadata": {
        "colab": {
          "base_uri": "https://localhost:8080/"
        },
        "id": "y_eREEHM6DwJ",
        "outputId": "6eaaf1f1-d5b5-4b99-bb1f-227dc1433932"
      },
      "execution_count": 8,
      "outputs": [
        {
          "output_type": "stream",
          "name": "stdout",
          "text": [
            "Explained Variance Score: 0.6605500501742703\n",
            "Max Error: 7.260453292958372\n",
            "Mean Absolute Error: 0.5168526993787042\n",
            "Mean Squared Error: 0.4946848356388075\n"
          ]
        }
      ]
    },
    {
      "cell_type": "markdown",
      "source": [
        "# Problem 4\n",
        "Perform `SGD Regression` on the scaled california housing dataset, using default hyperparameters and `random_state=0`. Find the coefficients in the predicted model and bias term."
      ],
      "metadata": {
        "id": "DUk7C-lr7NLe"
      }
    },
    {
      "cell_type": "code",
      "source": [
        "# Solution\n",
        "sgd_model = SGDRegressor(random_state=0)\n",
        "sgd_model.fit(X_train_scaled, y_train)\n",
        "\n",
        "# Coefficients\n",
        "coefficients = sgd_model.coef_\n",
        "# Bias\n",
        "bias = sgd_model.intercept_\n",
        "\n",
        "print(f\"Coefficients: {coefficients}\")\n",
        "print(f\"Bias: {bias}\")"
      ],
      "metadata": {
        "colab": {
          "base_uri": "https://localhost:8080/"
        },
        "id": "VXyfEKDj7Flv",
        "outputId": "ba344ce5-e5fb-4766-f453-bbaae0f73da6"
      },
      "execution_count": 12,
      "outputs": [
        {
          "output_type": "stream",
          "name": "stdout",
          "text": [
            "Coefficients: [ 0.84046697  0.112331   -0.41213039  0.21595971 -0.01781887 -0.01480892\n",
            " -0.87394103 -0.83913104]\n",
            "Bias: [2.01123921]\n"
          ]
        }
      ]
    },
    {
      "cell_type": "code",
      "source": [
        "!pip show scikit-learn"
      ],
      "metadata": {
        "colab": {
          "base_uri": "https://localhost:8080/"
        },
        "id": "3pQZOuty8jdc",
        "outputId": "537c96bd-f698-4eb7-df12-89c238ce7299"
      },
      "execution_count": 14,
      "outputs": [
        {
          "output_type": "stream",
          "name": "stdout",
          "text": [
            "Name: scikit-learn\n",
            "Version: 1.6.1\n",
            "Summary: A set of python modules for machine learning and data mining\n",
            "Home-page: https://scikit-learn.org\n",
            "Author: \n",
            "Author-email: \n",
            "License: BSD 3-Clause License\n",
            "\n",
            " Copyright (c) 2007-2024 The scikit-learn developers.\n",
            " All rights reserved.\n",
            "\n",
            " Redistribution and use in source and binary forms, with or without\n",
            " modification, are permitted provided that the following conditions are met:\n",
            "\n",
            " * Redistributions of source code must retain the above copyright notice, this\n",
            "   list of conditions and the following disclaimer.\n",
            "\n",
            " * Redistributions in binary form must reproduce the above copyright notice,\n",
            "   this list of conditions and the following disclaimer in the documentation\n",
            "   and/or other materials provided with the distribution.\n",
            "\n",
            " * Neither the name of the copyright holder nor the names of its\n",
            "   contributors may be used to endorse or promote products derived from\n",
            "   this software without specific prior written permission.\n",
            "\n",
            " THIS SOFTWARE IS PROVIDED BY THE COPYRIGHT HOLDERS AND CONTRIBUTORS \"AS IS\"\n",
            " AND ANY EXPRESS OR IMPLIED WARRANTIES, INCLUDING, BUT NOT LIMITED TO, THE\n",
            " IMPLIED WARRANTIES OF MERCHANTABILITY AND FITNESS FOR A PARTICULAR PURPOSE ARE\n",
            " DISCLAIMED. IN NO EVENT SHALL THE COPYRIGHT HOLDER OR CONTRIBUTORS BE LIABLE\n",
            " FOR ANY DIRECT, INDIRECT, INCIDENTAL, SPECIAL, EXEMPLARY, OR CONSEQUENTIAL\n",
            " DAMAGES (INCLUDING, BUT NOT LIMITED TO, PROCUREMENT OF SUBSTITUTE GOODS OR\n",
            " SERVICES; LOSS OF USE, DATA, OR PROFITS; OR BUSINESS INTERRUPTION) HOWEVER\n",
            " CAUSED AND ON ANY THEORY OF LIABILITY, WHETHER IN CONTRACT, STRICT LIABILITY,\n",
            " OR TORT (INCLUDING NEGLIGENCE OR OTHERWISE) ARISING IN ANY WAY OUT OF THE USE\n",
            " OF THIS SOFTWARE, EVEN IF ADVISED OF THE POSSIBILITY OF SUCH DAMAGE.\n",
            "\n",
            " ----\n",
            "\n",
            " This binary distribution of scikit-learn also bundles the following software:\n",
            "\n",
            " ----\n",
            "\n",
            " Name: GCC runtime library\n",
            " Files: scikit_learn.libs/libgomp*.so*\n",
            " Availability: https://gcc.gnu.org/git/?p=gcc.git;a=tree;f=libgomp\n",
            "\n",
            " GCC RUNTIME LIBRARY EXCEPTION\n",
            "\n",
            " Version 3.1, 31 March 2009\n",
            "\n",
            " Copyright (C) 2009 Free Software Foundation, Inc. <http://fsf.org/>\n",
            "\n",
            " Everyone is permitted to copy and distribute verbatim copies of this\n",
            " license document, but changing it is not allowed.\n",
            "\n",
            " This GCC Runtime Library Exception (\"Exception\") is an additional\n",
            " permission under section 7 of the GNU General Public License, version\n",
            " 3 (\"GPLv3\"). It applies to a given file (the \"Runtime Library\") that\n",
            " bears a notice placed by the copyright holder of the file stating that\n",
            " the file is governed by GPLv3 along with this Exception.\n",
            "\n",
            " When you use GCC to compile a program, GCC may combine portions of\n",
            " certain GCC header files and runtime libraries with the compiled\n",
            " program. The purpose of this Exception is to allow compilation of\n",
            " non-GPL (including proprietary) programs to use, in this way, the\n",
            " header files and runtime libraries covered by this Exception.\n",
            "\n",
            " 0. Definitions.\n",
            "\n",
            " A file is an \"Independent Module\" if it either requires the Runtime\n",
            " Library for execution after a Compilation Process, or makes use of an\n",
            " interface provided by the Runtime Library, but is not otherwise based\n",
            " on the Runtime Library.\n",
            "\n",
            " \"GCC\" means a version of the GNU Compiler Collection, with or without\n",
            " modifications, governed by version 3 (or a specified later version) of\n",
            " the GNU General Public License (GPL) with the option of using any\n",
            " subsequent versions published by the FSF.\n",
            "\n",
            " \"GPL-compatible Software\" is software whose conditions of propagation,\n",
            " modification and use would permit combination with GCC in accord with\n",
            " the license of GCC.\n",
            "\n",
            " \"Target Code\" refers to output from any compiler for a real or virtual\n",
            " target processor architecture, in executable form or suitable for\n",
            " input to an assembler, loader, linker and/or execution\n",
            " phase. Notwithstanding that, Target Code does not include data in any\n",
            " format that is used as a compiler intermediate representation, or used\n",
            " for producing a compiler intermediate representation.\n",
            "\n",
            " The \"Compilation Process\" transforms code entirely represented in\n",
            " non-intermediate languages designed for human-written code, and/or in\n",
            " Java Virtual Machine byte code, into Target Code. Thus, for example,\n",
            " use of source code generators and preprocessors need not be considered\n",
            " part of the Compilation Process, since the Compilation Process can be\n",
            " understood as starting with the output of the generators or\n",
            " preprocessors.\n",
            "\n",
            " A Compilation Process is \"Eligible\" if it is done using GCC, alone or\n",
            " with other GPL-compatible software, or if it is done without using any\n",
            " work based on GCC. For example, using non-GPL-compatible Software to\n",
            " optimize any GCC intermediate representations would not qualify as an\n",
            " Eligible Compilation Process.\n",
            "\n",
            " 1. Grant of Additional Permission.\n",
            "\n",
            " You have permission to propagate a work of Target Code formed by\n",
            " combining the Runtime Library with Independent Modules, even if such\n",
            " propagation would otherwise violate the terms of GPLv3, provided that\n",
            " all Target Code was generated by Eligible Compilation Processes. You\n",
            " may then convey such a combination under terms of your choice,\n",
            " consistent with the licensing of the Independent Modules.\n",
            "\n",
            " 2. No Weakening of GCC Copyleft.\n",
            "\n",
            " The availability of this Exception does not imply any general\n",
            " presumption that third-party software is unaffected by the copyleft\n",
            " requirements of the license of GCC.\n",
            "\n",
            "Location: /usr/local/lib/python3.11/dist-packages\n",
            "Requires: joblib, numpy, scipy, threadpoolctl\n",
            "Required-by: bigframes, fastai, imbalanced-learn, librosa, mlxtend, sentence-transformers, shap, sklearn-compat, sklearn-pandas, yellowbrick\n"
          ]
        }
      ]
    }
  ]
}