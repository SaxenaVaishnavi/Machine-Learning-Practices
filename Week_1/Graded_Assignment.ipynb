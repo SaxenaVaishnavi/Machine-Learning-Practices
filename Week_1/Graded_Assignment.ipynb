{
  "nbformat": 4,
  "nbformat_minor": 0,
  "metadata": {
    "colab": {
      "provenance": [],
      "authorship_tag": "ABX9TyMVgiadzsxhTB+NJZgSmgN1",
      "include_colab_link": true
    },
    "kernelspec": {
      "name": "python3",
      "display_name": "Python 3"
    },
    "language_info": {
      "name": "python"
    }
  },
  "cells": [
    {
      "cell_type": "markdown",
      "metadata": {
        "id": "view-in-github",
        "colab_type": "text"
      },
      "source": [
        "<a href=\"https://colab.research.google.com/github/SaxenaVaishnavi/Machine-Learning-Practices/blob/main/Week_1/Graded_Assignment.ipynb\" target=\"_parent\"><img src=\"https://colab.research.google.com/assets/colab-badge.svg\" alt=\"Open In Colab\"/></a>"
      ]
    },
    {
      "cell_type": "code",
      "execution_count": 19,
      "metadata": {
        "id": "inHvTIXc7ngY"
      },
      "outputs": [],
      "source": [
        "import pandas as pd\n",
        "import numpy as np"
      ]
    },
    {
      "cell_type": "code",
      "source": [
        "dataset_url = 'https://drive.google.com/uc?id=1yAW5oBMNphE-rrRS1EmlTdv7LYN0-DXp'\n",
        "df = pd.read_csv(dataset_url)\n",
        "df.head()"
      ],
      "metadata": {
        "colab": {
          "base_uri": "https://localhost:8080/",
          "height": 310
        },
        "id": "mZHSMDk_7uAW",
        "outputId": "0944b6ec-fc11-4416-e1a0-c027456cfe16"
      },
      "execution_count": 2,
      "outputs": [
        {
          "output_type": "execute_result",
          "data": {
            "text/plain": [
              "         Date  Year    Locality  Estimated Value  Sale Price       Property  \\\n",
              "0  2009-01-02  2009   Waterbury         111440.0    185000.0  Single Family   \n",
              "1  2009-01-02  2009  Bridgeport         124670.0    150000.0     Two Family   \n",
              "2  2009-01-02  2009   Waterbury          55720.0    140000.0  Single Family   \n",
              "3  2009-01-02  2009  Bridgeport        4775276.0    272900.0  Single Family   \n",
              "4  2009-01-02  2009  Bridgeport         112351.0    210000.0              ?   \n",
              "\n",
              "      Residential  num_rooms  num_bathrooms  carpet_area  property_tax_rate  \\\n",
              "0  Detached House          3              3        996.0           1.025953   \n",
              "1          Duplex          4              3       1241.0           1.025953   \n",
              "2  Detached House          3              2        910.0           1.025953   \n",
              "3  Detached House          3              1        971.0           1.025953   \n",
              "4  Detached House          3              2       1092.0           1.025953   \n",
              "\n",
              "    Face  \n",
              "0  South  \n",
              "1  South  \n",
              "2  South  \n",
              "3   East  \n",
              "4   East  "
            ],
            "text/html": [
              "\n",
              "  <div id=\"df-52cabbd2-913e-411f-8c12-0612b7cb7c8d\" class=\"colab-df-container\">\n",
              "    <div>\n",
              "<style scoped>\n",
              "    .dataframe tbody tr th:only-of-type {\n",
              "        vertical-align: middle;\n",
              "    }\n",
              "\n",
              "    .dataframe tbody tr th {\n",
              "        vertical-align: top;\n",
              "    }\n",
              "\n",
              "    .dataframe thead th {\n",
              "        text-align: right;\n",
              "    }\n",
              "</style>\n",
              "<table border=\"1\" class=\"dataframe\">\n",
              "  <thead>\n",
              "    <tr style=\"text-align: right;\">\n",
              "      <th></th>\n",
              "      <th>Date</th>\n",
              "      <th>Year</th>\n",
              "      <th>Locality</th>\n",
              "      <th>Estimated Value</th>\n",
              "      <th>Sale Price</th>\n",
              "      <th>Property</th>\n",
              "      <th>Residential</th>\n",
              "      <th>num_rooms</th>\n",
              "      <th>num_bathrooms</th>\n",
              "      <th>carpet_area</th>\n",
              "      <th>property_tax_rate</th>\n",
              "      <th>Face</th>\n",
              "    </tr>\n",
              "  </thead>\n",
              "  <tbody>\n",
              "    <tr>\n",
              "      <th>0</th>\n",
              "      <td>2009-01-02</td>\n",
              "      <td>2009</td>\n",
              "      <td>Waterbury</td>\n",
              "      <td>111440.0</td>\n",
              "      <td>185000.0</td>\n",
              "      <td>Single Family</td>\n",
              "      <td>Detached House</td>\n",
              "      <td>3</td>\n",
              "      <td>3</td>\n",
              "      <td>996.0</td>\n",
              "      <td>1.025953</td>\n",
              "      <td>South</td>\n",
              "    </tr>\n",
              "    <tr>\n",
              "      <th>1</th>\n",
              "      <td>2009-01-02</td>\n",
              "      <td>2009</td>\n",
              "      <td>Bridgeport</td>\n",
              "      <td>124670.0</td>\n",
              "      <td>150000.0</td>\n",
              "      <td>Two Family</td>\n",
              "      <td>Duplex</td>\n",
              "      <td>4</td>\n",
              "      <td>3</td>\n",
              "      <td>1241.0</td>\n",
              "      <td>1.025953</td>\n",
              "      <td>South</td>\n",
              "    </tr>\n",
              "    <tr>\n",
              "      <th>2</th>\n",
              "      <td>2009-01-02</td>\n",
              "      <td>2009</td>\n",
              "      <td>Waterbury</td>\n",
              "      <td>55720.0</td>\n",
              "      <td>140000.0</td>\n",
              "      <td>Single Family</td>\n",
              "      <td>Detached House</td>\n",
              "      <td>3</td>\n",
              "      <td>2</td>\n",
              "      <td>910.0</td>\n",
              "      <td>1.025953</td>\n",
              "      <td>South</td>\n",
              "    </tr>\n",
              "    <tr>\n",
              "      <th>3</th>\n",
              "      <td>2009-01-02</td>\n",
              "      <td>2009</td>\n",
              "      <td>Bridgeport</td>\n",
              "      <td>4775276.0</td>\n",
              "      <td>272900.0</td>\n",
              "      <td>Single Family</td>\n",
              "      <td>Detached House</td>\n",
              "      <td>3</td>\n",
              "      <td>1</td>\n",
              "      <td>971.0</td>\n",
              "      <td>1.025953</td>\n",
              "      <td>East</td>\n",
              "    </tr>\n",
              "    <tr>\n",
              "      <th>4</th>\n",
              "      <td>2009-01-02</td>\n",
              "      <td>2009</td>\n",
              "      <td>Bridgeport</td>\n",
              "      <td>112351.0</td>\n",
              "      <td>210000.0</td>\n",
              "      <td>?</td>\n",
              "      <td>Detached House</td>\n",
              "      <td>3</td>\n",
              "      <td>2</td>\n",
              "      <td>1092.0</td>\n",
              "      <td>1.025953</td>\n",
              "      <td>East</td>\n",
              "    </tr>\n",
              "  </tbody>\n",
              "</table>\n",
              "</div>\n",
              "    <div class=\"colab-df-buttons\">\n",
              "\n",
              "  <div class=\"colab-df-container\">\n",
              "    <button class=\"colab-df-convert\" onclick=\"convertToInteractive('df-52cabbd2-913e-411f-8c12-0612b7cb7c8d')\"\n",
              "            title=\"Convert this dataframe to an interactive table.\"\n",
              "            style=\"display:none;\">\n",
              "\n",
              "  <svg xmlns=\"http://www.w3.org/2000/svg\" height=\"24px\" viewBox=\"0 -960 960 960\">\n",
              "    <path d=\"M120-120v-720h720v720H120Zm60-500h600v-160H180v160Zm220 220h160v-160H400v160Zm0 220h160v-160H400v160ZM180-400h160v-160H180v160Zm440 0h160v-160H620v160ZM180-180h160v-160H180v160Zm440 0h160v-160H620v160Z\"/>\n",
              "  </svg>\n",
              "    </button>\n",
              "\n",
              "  <style>\n",
              "    .colab-df-container {\n",
              "      display:flex;\n",
              "      gap: 12px;\n",
              "    }\n",
              "\n",
              "    .colab-df-convert {\n",
              "      background-color: #E8F0FE;\n",
              "      border: none;\n",
              "      border-radius: 50%;\n",
              "      cursor: pointer;\n",
              "      display: none;\n",
              "      fill: #1967D2;\n",
              "      height: 32px;\n",
              "      padding: 0 0 0 0;\n",
              "      width: 32px;\n",
              "    }\n",
              "\n",
              "    .colab-df-convert:hover {\n",
              "      background-color: #E2EBFA;\n",
              "      box-shadow: 0px 1px 2px rgba(60, 64, 67, 0.3), 0px 1px 3px 1px rgba(60, 64, 67, 0.15);\n",
              "      fill: #174EA6;\n",
              "    }\n",
              "\n",
              "    .colab-df-buttons div {\n",
              "      margin-bottom: 4px;\n",
              "    }\n",
              "\n",
              "    [theme=dark] .colab-df-convert {\n",
              "      background-color: #3B4455;\n",
              "      fill: #D2E3FC;\n",
              "    }\n",
              "\n",
              "    [theme=dark] .colab-df-convert:hover {\n",
              "      background-color: #434B5C;\n",
              "      box-shadow: 0px 1px 3px 1px rgba(0, 0, 0, 0.15);\n",
              "      filter: drop-shadow(0px 1px 2px rgba(0, 0, 0, 0.3));\n",
              "      fill: #FFFFFF;\n",
              "    }\n",
              "  </style>\n",
              "\n",
              "    <script>\n",
              "      const buttonEl =\n",
              "        document.querySelector('#df-52cabbd2-913e-411f-8c12-0612b7cb7c8d button.colab-df-convert');\n",
              "      buttonEl.style.display =\n",
              "        google.colab.kernel.accessAllowed ? 'block' : 'none';\n",
              "\n",
              "      async function convertToInteractive(key) {\n",
              "        const element = document.querySelector('#df-52cabbd2-913e-411f-8c12-0612b7cb7c8d');\n",
              "        const dataTable =\n",
              "          await google.colab.kernel.invokeFunction('convertToInteractive',\n",
              "                                                    [key], {});\n",
              "        if (!dataTable) return;\n",
              "\n",
              "        const docLinkHtml = 'Like what you see? Visit the ' +\n",
              "          '<a target=\"_blank\" href=https://colab.research.google.com/notebooks/data_table.ipynb>data table notebook</a>'\n",
              "          + ' to learn more about interactive tables.';\n",
              "        element.innerHTML = '';\n",
              "        dataTable['output_type'] = 'display_data';\n",
              "        await google.colab.output.renderOutput(dataTable, element);\n",
              "        const docLink = document.createElement('div');\n",
              "        docLink.innerHTML = docLinkHtml;\n",
              "        element.appendChild(docLink);\n",
              "      }\n",
              "    </script>\n",
              "  </div>\n",
              "\n",
              "\n",
              "<div id=\"df-21d61de9-2024-4c9f-870a-24809de68698\">\n",
              "  <button class=\"colab-df-quickchart\" onclick=\"quickchart('df-21d61de9-2024-4c9f-870a-24809de68698')\"\n",
              "            title=\"Suggest charts\"\n",
              "            style=\"display:none;\">\n",
              "\n",
              "<svg xmlns=\"http://www.w3.org/2000/svg\" height=\"24px\"viewBox=\"0 0 24 24\"\n",
              "     width=\"24px\">\n",
              "    <g>\n",
              "        <path d=\"M19 3H5c-1.1 0-2 .9-2 2v14c0 1.1.9 2 2 2h14c1.1 0 2-.9 2-2V5c0-1.1-.9-2-2-2zM9 17H7v-7h2v7zm4 0h-2V7h2v10zm4 0h-2v-4h2v4z\"/>\n",
              "    </g>\n",
              "</svg>\n",
              "  </button>\n",
              "\n",
              "<style>\n",
              "  .colab-df-quickchart {\n",
              "      --bg-color: #E8F0FE;\n",
              "      --fill-color: #1967D2;\n",
              "      --hover-bg-color: #E2EBFA;\n",
              "      --hover-fill-color: #174EA6;\n",
              "      --disabled-fill-color: #AAA;\n",
              "      --disabled-bg-color: #DDD;\n",
              "  }\n",
              "\n",
              "  [theme=dark] .colab-df-quickchart {\n",
              "      --bg-color: #3B4455;\n",
              "      --fill-color: #D2E3FC;\n",
              "      --hover-bg-color: #434B5C;\n",
              "      --hover-fill-color: #FFFFFF;\n",
              "      --disabled-bg-color: #3B4455;\n",
              "      --disabled-fill-color: #666;\n",
              "  }\n",
              "\n",
              "  .colab-df-quickchart {\n",
              "    background-color: var(--bg-color);\n",
              "    border: none;\n",
              "    border-radius: 50%;\n",
              "    cursor: pointer;\n",
              "    display: none;\n",
              "    fill: var(--fill-color);\n",
              "    height: 32px;\n",
              "    padding: 0;\n",
              "    width: 32px;\n",
              "  }\n",
              "\n",
              "  .colab-df-quickchart:hover {\n",
              "    background-color: var(--hover-bg-color);\n",
              "    box-shadow: 0 1px 2px rgba(60, 64, 67, 0.3), 0 1px 3px 1px rgba(60, 64, 67, 0.15);\n",
              "    fill: var(--button-hover-fill-color);\n",
              "  }\n",
              "\n",
              "  .colab-df-quickchart-complete:disabled,\n",
              "  .colab-df-quickchart-complete:disabled:hover {\n",
              "    background-color: var(--disabled-bg-color);\n",
              "    fill: var(--disabled-fill-color);\n",
              "    box-shadow: none;\n",
              "  }\n",
              "\n",
              "  .colab-df-spinner {\n",
              "    border: 2px solid var(--fill-color);\n",
              "    border-color: transparent;\n",
              "    border-bottom-color: var(--fill-color);\n",
              "    animation:\n",
              "      spin 1s steps(1) infinite;\n",
              "  }\n",
              "\n",
              "  @keyframes spin {\n",
              "    0% {\n",
              "      border-color: transparent;\n",
              "      border-bottom-color: var(--fill-color);\n",
              "      border-left-color: var(--fill-color);\n",
              "    }\n",
              "    20% {\n",
              "      border-color: transparent;\n",
              "      border-left-color: var(--fill-color);\n",
              "      border-top-color: var(--fill-color);\n",
              "    }\n",
              "    30% {\n",
              "      border-color: transparent;\n",
              "      border-left-color: var(--fill-color);\n",
              "      border-top-color: var(--fill-color);\n",
              "      border-right-color: var(--fill-color);\n",
              "    }\n",
              "    40% {\n",
              "      border-color: transparent;\n",
              "      border-right-color: var(--fill-color);\n",
              "      border-top-color: var(--fill-color);\n",
              "    }\n",
              "    60% {\n",
              "      border-color: transparent;\n",
              "      border-right-color: var(--fill-color);\n",
              "    }\n",
              "    80% {\n",
              "      border-color: transparent;\n",
              "      border-right-color: var(--fill-color);\n",
              "      border-bottom-color: var(--fill-color);\n",
              "    }\n",
              "    90% {\n",
              "      border-color: transparent;\n",
              "      border-bottom-color: var(--fill-color);\n",
              "    }\n",
              "  }\n",
              "</style>\n",
              "\n",
              "  <script>\n",
              "    async function quickchart(key) {\n",
              "      const quickchartButtonEl =\n",
              "        document.querySelector('#' + key + ' button');\n",
              "      quickchartButtonEl.disabled = true;  // To prevent multiple clicks.\n",
              "      quickchartButtonEl.classList.add('colab-df-spinner');\n",
              "      try {\n",
              "        const charts = await google.colab.kernel.invokeFunction(\n",
              "            'suggestCharts', [key], {});\n",
              "      } catch (error) {\n",
              "        console.error('Error during call to suggestCharts:', error);\n",
              "      }\n",
              "      quickchartButtonEl.classList.remove('colab-df-spinner');\n",
              "      quickchartButtonEl.classList.add('colab-df-quickchart-complete');\n",
              "    }\n",
              "    (() => {\n",
              "      let quickchartButtonEl =\n",
              "        document.querySelector('#df-21d61de9-2024-4c9f-870a-24809de68698 button');\n",
              "      quickchartButtonEl.style.display =\n",
              "        google.colab.kernel.accessAllowed ? 'block' : 'none';\n",
              "    })();\n",
              "  </script>\n",
              "</div>\n",
              "\n",
              "    </div>\n",
              "  </div>\n"
            ],
            "application/vnd.google.colaboratory.intrinsic+json": {
              "type": "dataframe",
              "variable_name": "df",
              "summary": "{\n  \"name\": \"df\",\n  \"rows\": 10000,\n  \"fields\": [\n    {\n      \"column\": \"Date\",\n      \"properties\": {\n        \"dtype\": \"object\",\n        \"num_unique_values\": 3110,\n        \"samples\": [\n          \"2012-03-04\",\n          \"2016-11-13\",\n          \"2009-11-23\"\n        ],\n        \"semantic_type\": \"\",\n        \"description\": \"\"\n      }\n    },\n    {\n      \"column\": \"Year\",\n      \"properties\": {\n        \"dtype\": \"number\",\n        \"std\": 4,\n        \"min\": 2009,\n        \"max\": 2022,\n        \"num_unique_values\": 14,\n        \"samples\": [\n          2018,\n          2020,\n          2009\n        ],\n        \"semantic_type\": \"\",\n        \"description\": \"\"\n      }\n    },\n    {\n      \"column\": \"Locality\",\n      \"properties\": {\n        \"dtype\": \"category\",\n        \"num_unique_values\": 7,\n        \"samples\": [\n          \"Waterbury\",\n          \"Bridgeport\",\n          \"West Hartford\"\n        ],\n        \"semantic_type\": \"\",\n        \"description\": \"\"\n      }\n    },\n    {\n      \"column\": \"Estimated Value\",\n      \"properties\": {\n        \"dtype\": \"number\",\n        \"std\": 779988.5337031306,\n        \"min\": 980.0,\n        \"max\": 21119910.0,\n        \"num_unique_values\": 7622,\n        \"samples\": [\n          704130.0,\n          200480.0,\n          304710.0\n        ],\n        \"semantic_type\": \"\",\n        \"description\": \"\"\n      }\n    },\n    {\n      \"column\": \"Sale Price\",\n      \"properties\": {\n        \"dtype\": \"number\",\n        \"std\": 1102810.3951816282,\n        \"min\": 2000.0,\n        \"max\": 25750000.0,\n        \"num_unique_values\": 2641,\n        \"samples\": [\n          97501.0,\n          65000.0,\n          1320000.0\n        ],\n        \"semantic_type\": \"\",\n        \"description\": \"\"\n      }\n    },\n    {\n      \"column\": \"Property\",\n      \"properties\": {\n        \"dtype\": \"category\",\n        \"num_unique_values\": 5,\n        \"samples\": [\n          \"Two Family\",\n          \"Four Family\",\n          \"?\"\n        ],\n        \"semantic_type\": \"\",\n        \"description\": \"\"\n      }\n    },\n    {\n      \"column\": \"Residential\",\n      \"properties\": {\n        \"dtype\": \"category\",\n        \"num_unique_values\": 4,\n        \"samples\": [\n          \"Duplex\",\n          \"Fourplex\",\n          \"Detached House\"\n        ],\n        \"semantic_type\": \"\",\n        \"description\": \"\"\n      }\n    },\n    {\n      \"column\": \"num_rooms\",\n      \"properties\": {\n        \"dtype\": \"number\",\n        \"std\": 0,\n        \"min\": 3,\n        \"max\": 8,\n        \"num_unique_values\": 4,\n        \"samples\": [\n          4,\n          8,\n          3\n        ],\n        \"semantic_type\": \"\",\n        \"description\": \"\"\n      }\n    },\n    {\n      \"column\": \"num_bathrooms\",\n      \"properties\": {\n        \"dtype\": \"number\",\n        \"std\": 1,\n        \"min\": 1,\n        \"max\": 8,\n        \"num_unique_values\": 8,\n        \"samples\": [\n          2,\n          6,\n          3\n        ],\n        \"semantic_type\": \"\",\n        \"description\": \"\"\n      }\n    },\n    {\n      \"column\": \"carpet_area\",\n      \"properties\": {\n        \"dtype\": \"number\",\n        \"std\": 308.0268502584688,\n        \"min\": 900.0,\n        \"max\": 2989.0,\n        \"num_unique_values\": 878,\n        \"samples\": [\n          1918.0,\n          968.0,\n          1291.0\n        ],\n        \"semantic_type\": \"\",\n        \"description\": \"\"\n      }\n    },\n    {\n      \"column\": \"property_tax_rate\",\n      \"properties\": {\n        \"dtype\": \"number\",\n        \"std\": 0.16845792877909108,\n        \"min\": 1.003979,\n        \"max\": 1.422308,\n        \"num_unique_values\": 14,\n        \"samples\": [\n          1.422308,\n          1.0254395,\n          1.025953\n        ],\n        \"semantic_type\": \"\",\n        \"description\": \"\"\n      }\n    },\n    {\n      \"column\": \"Face\",\n      \"properties\": {\n        \"dtype\": \"category\",\n        \"num_unique_values\": 4,\n        \"samples\": [\n          \"East\",\n          \"West\",\n          \"South\"\n        ],\n        \"semantic_type\": \"\",\n        \"description\": \"\"\n      }\n    }\n  ]\n}"
            }
          },
          "metadata": {},
          "execution_count": 2
        }
      ]
    },
    {
      "cell_type": "markdown",
      "source": [
        "# Problem 1\n",
        "Select all the even indexed rows from the given dataset. What is the value in the $3^{rd}$ indexed column of the $0^{th}$ indexed row in the selected dataframe."
      ],
      "metadata": {
        "id": "haN43Nvb8-g7"
      }
    },
    {
      "cell_type": "code",
      "source": [
        "## Solution ##\n",
        "even_indexed_rows = df.iloc[::2]\n",
        "value = even_indexed_rows.iloc[0, 3]\n",
        "print(f\"The value in the 3rd indexed column of the 0th indexed row is: {value}\")"
      ],
      "metadata": {
        "colab": {
          "base_uri": "https://localhost:8080/"
        },
        "id": "lxIIgjEm80LF",
        "outputId": "e5e1a412-1250-404c-a3fe-80dc851d15b4"
      },
      "execution_count": 3,
      "outputs": [
        {
          "output_type": "stream",
          "name": "stdout",
          "text": [
            "The value in the 3rd indexed column of the 0th indexed row is: 111440.0\n"
          ]
        }
      ]
    },
    {
      "cell_type": "markdown",
      "source": [
        "# Problem 2\n",
        "Select all the even indexed rows from the given dataset. What is the value in the $3^{rd}$ indexed column of the $332^{th}$ indexed row in the selected dataframe."
      ],
      "metadata": {
        "id": "qiwDPXaR_F8y"
      }
    },
    {
      "cell_type": "code",
      "source": [
        "value = even_indexed_rows.iloc[332, 3]\n",
        "print(f\"The value in the 3rd indexed column of the 332th indexed row is: {value}\")"
      ],
      "metadata": {
        "colab": {
          "base_uri": "https://localhost:8080/"
        },
        "id": "G7M2d9nb-wU4",
        "outputId": "302a2431-2a6b-48be-8c60-fa9b60ce933b"
      },
      "execution_count": 4,
      "outputs": [
        {
          "output_type": "stream",
          "name": "stdout",
          "text": [
            "The value in the 3rd indexed column of the 332th indexed row is: 256200.0\n"
          ]
        }
      ]
    },
    {
      "cell_type": "markdown",
      "source": [
        "# Problem 3\n",
        "Select all the odd indexed rows from the given dataset. What is the value in the $3^{rd}$ indexed column of the $332^{th}$ indexed row in the selected dataframe."
      ],
      "metadata": {
        "id": "jTsKQ65z_mAz"
      }
    },
    {
      "cell_type": "code",
      "source": [
        "odd_indexed_rows = df.iloc[1::2]\n",
        "value = odd_indexed_rows.iloc[332, 3]\n",
        "print(f\"The value in the 3rd indexed column of the 332th indexed row is: {value}\")"
      ],
      "metadata": {
        "colab": {
          "base_uri": "https://localhost:8080/"
        },
        "id": "MPL5bR4T_8Yq",
        "outputId": "68c31c05-ab99-4b62-caf4-f7ac27bf4d7a"
      },
      "execution_count": 5,
      "outputs": [
        {
          "output_type": "stream",
          "name": "stdout",
          "text": [
            "The value in the 3rd indexed column of the 332th indexed row is: 352940.0\n"
          ]
        }
      ]
    },
    {
      "cell_type": "markdown",
      "source": [
        "# Problem 4\n",
        "Select all the odd indexed columns from the given dataset. What is the value in the 5th indexed column of the 100th indexed row in the selected dataframe."
      ],
      "metadata": {
        "id": "iBdr_UctAjEE"
      }
    },
    {
      "cell_type": "code",
      "source": [
        "## Solution ##\n",
        "odd_indexed_columns = df.iloc[:, 1::2]\n",
        "value = odd_indexed_columns.iloc[100, 5]\n",
        "print(f\"The value in the 5th indexed column of the 100th indexed row is: {value}\")"
      ],
      "metadata": {
        "colab": {
          "base_uri": "https://localhost:8080/"
        },
        "id": "a9-j1is0APgW",
        "outputId": "c8fdd1f0-e58a-452f-a1ba-b6cb8e863896"
      },
      "execution_count": 6,
      "outputs": [
        {
          "output_type": "stream",
          "name": "stdout",
          "text": [
            "The value in the 5th indexed column of the 100th indexed row is: West\n"
          ]
        }
      ]
    },
    {
      "cell_type": "markdown",
      "source": [
        "# Problem 5\n",
        "Select all the even indexed columns and even indexed rows from the given dataset. What is the value in the $3^{rd}$ indexed column of the $255^{th}$ indexed row in the selected dataframe."
      ],
      "metadata": {
        "id": "b63DEQC6KIRd"
      }
    },
    {
      "cell_type": "code",
      "source": [
        "## Solution ##\n",
        "even_rows_even_columns = df.iloc[::2, ::2]\n",
        "value = even_rows_even_columns.iloc[255, 3]\n",
        "print(f\"The value in the 3rd indexed column of the 255th indexed row is: {value}\")"
      ],
      "metadata": {
        "colab": {
          "base_uri": "https://localhost:8080/"
        },
        "id": "6bVGiyj8J9_y",
        "outputId": "d14d46c9-bdf6-4285-efe8-12a02703e18b"
      },
      "execution_count": 7,
      "outputs": [
        {
          "output_type": "stream",
          "name": "stdout",
          "text": [
            "The value in the 3rd indexed column of the 255th indexed row is: Detached House\n"
          ]
        }
      ]
    },
    {
      "cell_type": "markdown",
      "source": [
        "# Problem 6\n",
        "Determine the number of samples (rows) in the dataset that belong to the six most recent years, based on the provided data."
      ],
      "metadata": {
        "id": "83i2dFPgLqis"
      }
    },
    {
      "cell_type": "code",
      "source": [
        "## Solution ##\n",
        "recent_years = sorted(df['Year'].unique(), reverse=True)[:6]\n",
        "recent_year_rows = df[df['Year'].isin(recent_years)]\n",
        "num_rows = recent_year_rows.shape[0]\n",
        "print(f\"The number of samples (rows) belonging to the six most recent years is: {num_rows}\")"
      ],
      "metadata": {
        "colab": {
          "base_uri": "https://localhost:8080/"
        },
        "id": "ZSwM8iN_LOLw",
        "outputId": "e060ee61-412c-4671-af8d-4b951b459016"
      },
      "execution_count": 8,
      "outputs": [
        {
          "output_type": "stream",
          "name": "stdout",
          "text": [
            "The number of samples (rows) belonging to the six most recent years is: 4749\n"
          ]
        }
      ]
    },
    {
      "cell_type": "markdown",
      "source": [
        "# Problem 7\n",
        "Determine the number of samples (rows) in the dataset which has `num_rooms = 3` and `num_bathrooms = 3`"
      ],
      "metadata": {
        "id": "X81mLwQWMu6x"
      }
    },
    {
      "cell_type": "code",
      "source": [
        "## Solution ##\n",
        "filtered_rows = df.loc[(df['num_bathrooms'] == 3) & (df['num_rooms'] == 3)]\n",
        "print(f'Number of rows with 3 rooms and bathrooms: {filtered_rows.shape[0]}')"
      ],
      "metadata": {
        "colab": {
          "base_uri": "https://localhost:8080/"
        },
        "id": "I6CCXre-Mi_N",
        "outputId": "031ca4d5-7519-490c-a6dd-d68a70c16d9a"
      },
      "execution_count": 9,
      "outputs": [
        {
          "output_type": "stream",
          "name": "stdout",
          "text": [
            "Number of rows with 3 rooms and bathrooms: 2730\n"
          ]
        }
      ]
    },
    {
      "cell_type": "markdown",
      "source": [
        "# Problem 8\n",
        "Determine the number of samples (rows) in the dataset which has `num_rooms = 3` or `num_bathrooms = 3`"
      ],
      "metadata": {
        "id": "Z2Sc7XI3NpO7"
      }
    },
    {
      "cell_type": "code",
      "source": [
        "## Solution ##\n",
        "filtered_rows = df.loc[(df['num_bathrooms'] == 3) | (df['num_rooms'] == 3)]\n",
        "print(f'Number of rows with 3 rooms or bathrooms: {filtered_rows.shape[0]}')"
      ],
      "metadata": {
        "colab": {
          "base_uri": "https://localhost:8080/"
        },
        "id": "EH6ofPRKNXbu",
        "outputId": "1e4acabb-58e0-42c2-9391-4550c31fb0e4"
      },
      "execution_count": 10,
      "outputs": [
        {
          "output_type": "stream",
          "name": "stdout",
          "text": [
            "Number of rows with 3 rooms or bathrooms: 8591\n"
          ]
        }
      ]
    },
    {
      "cell_type": "markdown",
      "source": [
        "# Problem 9\n",
        "\n",
        "In the Year `2022`, how many houses (rows) located in the `Greenwich` Locality have exactly `num_room == 3`, and facing towards either the `North` or `East`?"
      ],
      "metadata": {
        "id": "TSgqhQ5ON0MR"
      }
    },
    {
      "cell_type": "code",
      "source": [
        "## Solution ##\n",
        "filtered_rows = df[\n",
        "    (df['Locality'] == 'Greenwich') &\n",
        "    (df['Year'] == 2022) &\n",
        "    (df['num_rooms'] == 3) &\n",
        "    ((df['Face'] == 'East') | (df['Face'] == 'North'))\n",
        "]\n",
        "print(f'Number of rows with req conditions: {filtered_rows.shape[0]}')"
      ],
      "metadata": {
        "colab": {
          "base_uri": "https://localhost:8080/"
        },
        "id": "MEALpJJlNt4m",
        "outputId": "bd590918-863d-4a97-8f47-6ea0618de012"
      },
      "execution_count": 41,
      "outputs": [
        {
          "output_type": "stream",
          "name": "stdout",
          "text": [
            "Number of rows with req conditions: 42\n"
          ]
        }
      ]
    },
    {
      "cell_type": "markdown",
      "source": [
        "# Problem 10\n",
        "Calculate the number of samples(rows) that correspond to the month of `August` across all the years.?"
      ],
      "metadata": {
        "id": "81H1UYgNPAW5"
      }
    },
    {
      "cell_type": "code",
      "source": [
        "print(df['Date'].dtype)"
      ],
      "metadata": {
        "colab": {
          "base_uri": "https://localhost:8080/"
        },
        "id": "2OsMDDAHSCU3",
        "outputId": "065bcc9a-b28e-4fc7-b0be-8c5fdfddd6a6"
      },
      "execution_count": 42,
      "outputs": [
        {
          "output_type": "stream",
          "name": "stdout",
          "text": [
            "datetime64[ns]\n"
          ]
        }
      ]
    },
    {
      "cell_type": "code",
      "source": [
        "## Solution ##\n",
        "df['Date'] = pd.to_datetime(df['Date'])\n",
        "df['Month'] = df['Date'].dt.month\n",
        "august_rows = df[df['Month'] == 8]\n",
        "num_august_samples = len(august_rows)\n",
        "\n",
        "print(f\"The number of samples (rows) corresponding to the month of August is: {num_august_samples}\")"
      ],
      "metadata": {
        "colab": {
          "base_uri": "https://localhost:8080/"
        },
        "id": "k9N37z0mO4Kk",
        "outputId": "f2a5ee85-7298-4748-8959-cb95e9b4def5"
      },
      "execution_count": 13,
      "outputs": [
        {
          "output_type": "stream",
          "name": "stdout",
          "text": [
            "The number of samples (rows) corresponding to the month of August is: 1050\n"
          ]
        }
      ]
    },
    {
      "cell_type": "markdown",
      "source": [
        "# Problem 11\n",
        "According to the data which Locality have highest average `Sale Price`?"
      ],
      "metadata": {
        "id": "SX_8H8sISMHU"
      }
    },
    {
      "cell_type": "code",
      "source": [
        "## Solution ##\n",
        "df.groupby('Locality')['Sale Price'].mean()"
      ],
      "metadata": {
        "colab": {
          "base_uri": "https://localhost:8080/",
          "height": 335
        },
        "id": "3-LvpP9bRrzM",
        "outputId": "3a16c9de-390a-44f9-9644-a2e135760d8e"
      },
      "execution_count": 14,
      "outputs": [
        {
          "output_type": "execute_result",
          "data": {
            "text/plain": [
              "Locality\n",
              "Bridgeport       1.740953e+05\n",
              "Fairfield        7.277225e+05\n",
              "Greenwich        2.270224e+06\n",
              "Norwalk          5.590959e+05\n",
              "Stamford         6.305313e+05\n",
              "Waterbury        1.062152e+05\n",
              "West Hartford    3.385472e+05\n",
              "Name: Sale Price, dtype: float64"
            ],
            "text/html": [
              "<div>\n",
              "<style scoped>\n",
              "    .dataframe tbody tr th:only-of-type {\n",
              "        vertical-align: middle;\n",
              "    }\n",
              "\n",
              "    .dataframe tbody tr th {\n",
              "        vertical-align: top;\n",
              "    }\n",
              "\n",
              "    .dataframe thead th {\n",
              "        text-align: right;\n",
              "    }\n",
              "</style>\n",
              "<table border=\"1\" class=\"dataframe\">\n",
              "  <thead>\n",
              "    <tr style=\"text-align: right;\">\n",
              "      <th></th>\n",
              "      <th>Sale Price</th>\n",
              "    </tr>\n",
              "    <tr>\n",
              "      <th>Locality</th>\n",
              "      <th></th>\n",
              "    </tr>\n",
              "  </thead>\n",
              "  <tbody>\n",
              "    <tr>\n",
              "      <th>Bridgeport</th>\n",
              "      <td>1.740953e+05</td>\n",
              "    </tr>\n",
              "    <tr>\n",
              "      <th>Fairfield</th>\n",
              "      <td>7.277225e+05</td>\n",
              "    </tr>\n",
              "    <tr>\n",
              "      <th>Greenwich</th>\n",
              "      <td>2.270224e+06</td>\n",
              "    </tr>\n",
              "    <tr>\n",
              "      <th>Norwalk</th>\n",
              "      <td>5.590959e+05</td>\n",
              "    </tr>\n",
              "    <tr>\n",
              "      <th>Stamford</th>\n",
              "      <td>6.305313e+05</td>\n",
              "    </tr>\n",
              "    <tr>\n",
              "      <th>Waterbury</th>\n",
              "      <td>1.062152e+05</td>\n",
              "    </tr>\n",
              "    <tr>\n",
              "      <th>West Hartford</th>\n",
              "      <td>3.385472e+05</td>\n",
              "    </tr>\n",
              "  </tbody>\n",
              "</table>\n",
              "</div><br><label><b>dtype:</b> float64</label>"
            ]
          },
          "metadata": {},
          "execution_count": 14
        }
      ]
    },
    {
      "cell_type": "markdown",
      "source": [
        "# Problem 12\n",
        "How many unknown $'?'$ values are present in the dataset?\n",
        "\n",
        "Remove/Delete unknown $'?'$ values present in the dataset to make it null value. Remove/Delete - means it will show NAN in place of \"?\"\n",
        "\n",
        "**Note**: If there is no value present in the dataset it is represented as NaN (read pandas documentation for all the other ways to represent null values) in data"
      ],
      "metadata": {
        "id": "Ynfqr1nmBSE6"
      }
    },
    {
      "cell_type": "code",
      "source": [
        "## Solution ##\n",
        "unknown_count = (df == '?').sum().sum()                               # Count of ? in entire dataset\n",
        "print(f\"The number of unknown '?' values in the dataset is: {unknown_count}\")\n",
        "df.replace('?', np.nan, inplace=True)"
      ],
      "metadata": {
        "colab": {
          "base_uri": "https://localhost:8080/"
        },
        "id": "6oroSewQBsjY",
        "outputId": "c5d9774d-936f-4fba-9e2a-f44b17fbbbf7"
      },
      "execution_count": 20,
      "outputs": [
        {
          "output_type": "stream",
          "name": "stdout",
          "text": [
            "The number of unknown '?' values in the dataset is: 1823\n"
          ]
        }
      ]
    },
    {
      "cell_type": "markdown",
      "source": [
        "# Problem 13\n",
        "What is the value present at the $692^{th}$ indexed row and $0^{th}$ indexed column in the data ?"
      ],
      "metadata": {
        "id": "ZWtZ28-0Ga2f"
      }
    },
    {
      "cell_type": "code",
      "source": [
        "## Solution ##\n",
        "df.iloc[692, 0]"
      ],
      "metadata": {
        "colab": {
          "base_uri": "https://localhost:8080/"
        },
        "id": "jY-OQzliGXQk",
        "outputId": "6f90e012-708a-42e9-98b7-9c6ffe0c45e6"
      },
      "execution_count": 25,
      "outputs": [
        {
          "output_type": "execute_result",
          "data": {
            "text/plain": [
              "Timestamp('2009-11-16 00:00:00')"
            ]
          },
          "metadata": {},
          "execution_count": 25
        }
      ]
    },
    {
      "cell_type": "markdown",
      "source": [
        "# Problem 14\n",
        "What is the value present at the $546^{th}$ indexed row and $7^{th}$ indexed column in the data ?"
      ],
      "metadata": {
        "id": "koTiFAV2G194"
      }
    },
    {
      "cell_type": "code",
      "source": [
        "## Solution ##\n",
        "df.iloc[546, 7]"
      ],
      "metadata": {
        "colab": {
          "base_uri": "https://localhost:8080/"
        },
        "id": "-7jSADl9Gvk_",
        "outputId": "57e45fa0-3a74-414c-99c2-823220a0e3bd"
      },
      "execution_count": 32,
      "outputs": [
        {
          "output_type": "execute_result",
          "data": {
            "text/plain": [
              "3"
            ]
          },
          "metadata": {},
          "execution_count": 32
        }
      ]
    },
    {
      "cell_type": "markdown",
      "source": [
        "# Problem 15\n",
        "What are the unique values present in the Locality feature of the dataset?"
      ],
      "metadata": {
        "id": "Z_roMGe3Hh_G"
      }
    },
    {
      "cell_type": "code",
      "source": [
        "## Solution ##\n",
        "df['Locality'].unique()"
      ],
      "metadata": {
        "colab": {
          "base_uri": "https://localhost:8080/"
        },
        "id": "XYoGODSPHCDe",
        "outputId": "6314beb2-f747-4d04-f819-e678552f840b"
      },
      "execution_count": 29,
      "outputs": [
        {
          "output_type": "execute_result",
          "data": {
            "text/plain": [
              "array(['Waterbury', 'Bridgeport', 'Greenwich', 'Norwalk', nan,\n",
              "       'Fairfield', 'West Hartford', 'Stamford'], dtype=object)"
            ]
          },
          "metadata": {},
          "execution_count": 29
        }
      ]
    },
    {
      "cell_type": "markdown",
      "source": [
        "# Problem 16\n",
        "Which of the following features have missing(NaN) values present in the dataset?\n",
        "\n",
        "**Note**: compute after removing $'?'$"
      ],
      "metadata": {
        "id": "8FLeCm4hH1j9"
      }
    },
    {
      "cell_type": "code",
      "source": [
        "## Solution ##\n",
        "df.isnull().sum()"
      ],
      "metadata": {
        "colab": {
          "base_uri": "https://localhost:8080/",
          "height": 491
        },
        "id": "GqcQY7unHNt6",
        "outputId": "3549613e-d196-4c0d-c1eb-bc47a71096a0"
      },
      "execution_count": 30,
      "outputs": [
        {
          "output_type": "execute_result",
          "data": {
            "text/plain": [
              "Date                    0\n",
              "Year                    0\n",
              "Locality             1253\n",
              "Estimated Value      1243\n",
              "Sale Price              0\n",
              "Property             1823\n",
              "Residential             0\n",
              "num_rooms               0\n",
              "num_bathrooms           0\n",
              "carpet_area          1229\n",
              "property_tax_rate       0\n",
              "Face                    0\n",
              "Month                   0\n",
              "dtype: int64"
            ],
            "text/html": [
              "<div>\n",
              "<style scoped>\n",
              "    .dataframe tbody tr th:only-of-type {\n",
              "        vertical-align: middle;\n",
              "    }\n",
              "\n",
              "    .dataframe tbody tr th {\n",
              "        vertical-align: top;\n",
              "    }\n",
              "\n",
              "    .dataframe thead th {\n",
              "        text-align: right;\n",
              "    }\n",
              "</style>\n",
              "<table border=\"1\" class=\"dataframe\">\n",
              "  <thead>\n",
              "    <tr style=\"text-align: right;\">\n",
              "      <th></th>\n",
              "      <th>0</th>\n",
              "    </tr>\n",
              "  </thead>\n",
              "  <tbody>\n",
              "    <tr>\n",
              "      <th>Date</th>\n",
              "      <td>0</td>\n",
              "    </tr>\n",
              "    <tr>\n",
              "      <th>Year</th>\n",
              "      <td>0</td>\n",
              "    </tr>\n",
              "    <tr>\n",
              "      <th>Locality</th>\n",
              "      <td>1253</td>\n",
              "    </tr>\n",
              "    <tr>\n",
              "      <th>Estimated Value</th>\n",
              "      <td>1243</td>\n",
              "    </tr>\n",
              "    <tr>\n",
              "      <th>Sale Price</th>\n",
              "      <td>0</td>\n",
              "    </tr>\n",
              "    <tr>\n",
              "      <th>Property</th>\n",
              "      <td>1823</td>\n",
              "    </tr>\n",
              "    <tr>\n",
              "      <th>Residential</th>\n",
              "      <td>0</td>\n",
              "    </tr>\n",
              "    <tr>\n",
              "      <th>num_rooms</th>\n",
              "      <td>0</td>\n",
              "    </tr>\n",
              "    <tr>\n",
              "      <th>num_bathrooms</th>\n",
              "      <td>0</td>\n",
              "    </tr>\n",
              "    <tr>\n",
              "      <th>carpet_area</th>\n",
              "      <td>1229</td>\n",
              "    </tr>\n",
              "    <tr>\n",
              "      <th>property_tax_rate</th>\n",
              "      <td>0</td>\n",
              "    </tr>\n",
              "    <tr>\n",
              "      <th>Face</th>\n",
              "      <td>0</td>\n",
              "    </tr>\n",
              "    <tr>\n",
              "      <th>Month</th>\n",
              "      <td>0</td>\n",
              "    </tr>\n",
              "  </tbody>\n",
              "</table>\n",
              "</div><br><label><b>dtype:</b> int64</label>"
            ]
          },
          "metadata": {},
          "execution_count": 30
        }
      ]
    },
    {
      "cell_type": "markdown",
      "source": [
        "# Problem 17\n",
        "Drop all the samples(rows) with missing values strictly greater than 2. How many samples remain after that?\n",
        "\n",
        "**Note**: compute after removing $'?'$"
      ],
      "metadata": {
        "id": "nq0P2dqoIc6P"
      }
    },
    {
      "cell_type": "code",
      "source": [
        "## Solution ##\n",
        "df_cleaned = df[df.isnull().sum(axis=1) <= 2]\n",
        "remaining_samples = len(df_cleaned)\n",
        "print(f\"Number of samples remaining after removing rows with more than 2 missing values: {remaining_samples}\")"
      ],
      "metadata": {
        "colab": {
          "base_uri": "https://localhost:8080/"
        },
        "id": "K5WUJWoRIlTv",
        "outputId": "8df9bdfd-d48b-4349-94d0-747e7f944856"
      },
      "execution_count": 33,
      "outputs": [
        {
          "output_type": "stream",
          "name": "stdout",
          "text": [
            "Number of samples remaining after removing rows with more than 2 missing values: 9917\n"
          ]
        }
      ]
    },
    {
      "cell_type": "markdown",
      "source": [
        "# Problem 18\n",
        "\n",
        "Drop all the samples(rows) with missing values in the original dataframe. How many samples remains after that ?\n",
        "\n",
        "**Note**: compute after removing $'?'$"
      ],
      "metadata": {
        "id": "xfxc7HGLSuyr"
      }
    },
    {
      "cell_type": "code",
      "source": [
        "df_without_NaN = df[df.isnull().sum(axis=1) == 0]\n",
        "df_without_NaN.shape"
      ],
      "metadata": {
        "colab": {
          "base_uri": "https://localhost:8080/"
        },
        "id": "4mXYS44TSlOa",
        "outputId": "e40f00f5-4b66-4f44-bb9b-6fa13fc4a4fc"
      },
      "execution_count": 37,
      "outputs": [
        {
          "output_type": "execute_result",
          "data": {
            "text/plain": [
              "(5449, 13)"
            ]
          },
          "metadata": {},
          "execution_count": 37
        }
      ]
    }
  ]
}