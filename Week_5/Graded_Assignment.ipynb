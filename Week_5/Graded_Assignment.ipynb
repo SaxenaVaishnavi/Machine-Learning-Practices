{
  "nbformat": 4,
  "nbformat_minor": 0,
  "metadata": {
    "colab": {
      "provenance": [],
      "authorship_tag": "ABX9TyOKah/iq9mvSk8OTWbWXjd2",
      "include_colab_link": true
    },
    "kernelspec": {
      "name": "python3",
      "display_name": "Python 3"
    },
    "language_info": {
      "name": "python"
    }
  },
  "cells": [
    {
      "cell_type": "markdown",
      "metadata": {
        "id": "view-in-github",
        "colab_type": "text"
      },
      "source": [
        "<a href=\"https://colab.research.google.com/github/SaxenaVaishnavi/Machine-Learning-Practices/blob/main/Week_5/Graded_Assignment.ipynb\" target=\"_parent\"><img src=\"https://colab.research.google.com/assets/colab-badge.svg\" alt=\"Open In Colab\"/></a>"
      ]
    },
    {
      "cell_type": "markdown",
      "source": [
        "Write a code to predict the house price of California Housing dataset using GridSearchCV.\n",
        "\n",
        "Write your code based on the following keypoints:\n",
        "\n",
        "- Split the California housing dataset into train and test set with `70:30` ratio with `random_state = 1`.\n",
        "- Import `StandardScaler` for scaling `X_train` and `X_test` to `X_train_norm` and `X_test_norm` with\n",
        "```python\n",
        "  with_mean = True\n",
        "  with_std = True\n",
        "```\n",
        "- Import `SGDRegressor` with `random_state = 1`\n",
        "- Pass `SGDRegressor` through `GridSearchCV`\n",
        "- Hyperparamter tuning to be done over\n",
        "```python\n",
        "  loss = 'squared_error' or `'huber'`\n",
        "  penalty = 'l1' or 'l2'\n",
        "  alpha = 0.1, 0.01, 0.001\n",
        "  maximum number of passes as [1000, 2000, 5000]\n",
        "  Cross Validation = 4\n",
        "```\n",
        "\n",
        "Train the `model` and compute the `score` on test data"
      ],
      "metadata": {
        "id": "_NDpvK3XMl1n"
      }
    },
    {
      "cell_type": "code",
      "source": [
        "from sklearn.datasets import fetch_california_housing\n",
        "from sklearn.linear_model import SGDRegressor, Ridge, Lasso\n",
        "from sklearn.model_selection import train_test_split, GridSearchCV\n",
        "from sklearn.preprocessing import StandardScaler"
      ],
      "metadata": {
        "id": "sE_U932dQtaC"
      },
      "execution_count": 11,
      "outputs": []
    },
    {
      "cell_type": "code",
      "source": [
        "# Fetching dataset\n",
        "X, y = fetch_california_housing(return_X_y=True, as_frame=True)\n",
        "X_train, X_test, y_train, y_test = train_test_split(X, y, test_size=0.3, random_state=1)\n",
        "\n",
        "# Preprocessing - scaling\n",
        "scaler = StandardScaler(with_mean=True, with_std=True)\n",
        "X_train_norm = scaler.fit_transform(X_train)\n",
        "X_test_norm = scaler.transform(X_test)\n",
        "\n",
        "# Model - SGD Regressor\n",
        "model = SGDRegressor(random_state=1)\n",
        "\n",
        "# Hyperparameter tuning (HPT)\n",
        "param_grid = {\n",
        "    'loss': ['squared_error', 'huber'],\n",
        "    'penalty': ['l1', 'l2'],\n",
        "    'alpha': [0.1, 0.01, 0.001],\n",
        "    'max_iter': [1000, 2000, 5000]\n",
        "}\n",
        "\n",
        "# Grid search with 4 fold validation\n",
        "grid_search = GridSearchCV(estimator=model, param_grid=param_grid, cv=4, scoring='r2', n_jobs=-1)\n",
        "grid_search.fit(X_train_norm, y_train)\n",
        "\n",
        "best_model = grid_search.best_estimator_                # Model with best hyperparameters\n",
        "best_score = grid_search.best_score_                    # Best score\n",
        "best_params = grid_search.best_params_                  # Best hyperparameters\n",
        "\n",
        "print(\"Best Model:\", best_model)\n",
        "print(\"Best Score:\", best_score)\n",
        "print(\"Best Hyperparameters:\", best_params)"
      ],
      "metadata": {
        "colab": {
          "base_uri": "https://localhost:8080/"
        },
        "id": "8Zoz17cAR-jC",
        "outputId": "27e240c3-26cd-4328-a88b-626c3e5aac43"
      },
      "execution_count": null,
      "outputs": [
        {
          "output_type": "stream",
          "name": "stdout",
          "text": [
            "Best Model: SGDRegressor(alpha=0.01, penalty='l1', random_state=1)\n",
            "Best Score: 0.5940759016568921\n",
            "Best Hyperparameters: {'alpha': 0.01, 'loss': 'squared_error', 'max_iter': 1000, 'penalty': 'l1'}\n"
          ]
        }
      ]
    },
    {
      "cell_type": "markdown",
      "source": [
        "# Problem 1\n",
        "Find the 'score`"
      ],
      "metadata": {
        "id": "_J23jIiTP4qx"
      }
    },
    {
      "cell_type": "code",
      "execution_count": null,
      "metadata": {
        "colab": {
          "base_uri": "https://localhost:8080/"
        },
        "id": "lRfl-lIwMbAq",
        "outputId": "9920d072-ee7a-483d-969e-1f82a5259a6d"
      },
      "outputs": [
        {
          "output_type": "execute_result",
          "data": {
            "text/plain": [
              "0.5951040704728553"
            ]
          },
          "metadata": {},
          "execution_count": 5
        }
      ],
      "source": [
        "best_model.score(X_test_norm, y_test)"
      ]
    },
    {
      "cell_type": "markdown",
      "source": [
        "# Problem 2\n",
        "Find best $\\alpha$ value"
      ],
      "metadata": {
        "id": "B8Ef5wiiQEGX"
      }
    },
    {
      "cell_type": "code",
      "source": [
        "best_params['alpha']"
      ],
      "metadata": {
        "colab": {
          "base_uri": "https://localhost:8080/"
        },
        "id": "Bq1a009SQDbM",
        "outputId": "8ff46002-6735-4c1c-a23d-86d4af67b5b9"
      },
      "execution_count": null,
      "outputs": [
        {
          "output_type": "execute_result",
          "data": {
            "text/plain": [
              "0.01"
            ]
          },
          "metadata": {},
          "execution_count": 6
        }
      ]
    },
    {
      "cell_type": "markdown",
      "source": [
        "# Problem 3\n",
        "Find value of the best maximum number of passes obtained."
      ],
      "metadata": {
        "id": "rozSFWz3QQRH"
      }
    },
    {
      "cell_type": "code",
      "source": [
        "best_params['max_iter']"
      ],
      "metadata": {
        "colab": {
          "base_uri": "https://localhost:8080/"
        },
        "id": "gy4nTiIdQWhA",
        "outputId": "f95ed55e-c330-44d3-e27a-8520a1b8046f"
      },
      "execution_count": null,
      "outputs": [
        {
          "output_type": "execute_result",
          "data": {
            "text/plain": [
              "1000"
            ]
          },
          "metadata": {},
          "execution_count": 7
        }
      ]
    },
    {
      "cell_type": "markdown",
      "source": [
        "Write a code to predict the house price of California Housing dataset using GridSearchCV.\n",
        "\n",
        "Write your code based on the following keypoints:\n",
        "\n",
        "- Split the California housing dataset into train and test set with `70:30` ratio with `random_state = 1`.\n",
        "- Import `StandardScaler` for scaling `X_train` and `X_test` to `X_train_norm` and `X_test_norm`\n",
        "```python\n",
        "  with_mean = True\n",
        "  with_std = True\n",
        "```\n",
        "- Pass `Ridge` Regression Model through `GridSearchCV`\n",
        "- Hyperparamter tuning to be done over\n",
        "```python\n",
        "  alpha = [0.5, 0.1, 0.05, 0.01, 0.005, 0.001]\n",
        "  With or without intercept\n",
        "  Cross Validation = 4\n",
        "```\n",
        "\n",
        "Train the 'model' and compute the 'score' on test data"
      ],
      "metadata": {
        "id": "WrsOXl_wWN81"
      }
    },
    {
      "cell_type": "markdown",
      "source": [
        "# Problem 4\n",
        "Find score and best alpha obtained"
      ],
      "metadata": {
        "id": "MD8X3wZJXhm-"
      }
    },
    {
      "cell_type": "code",
      "source": [
        "ridge_model = Ridge()\n",
        "param_grid = {\n",
        "    'alpha': [0.5, 0.1, 0.05, 0.01, 0.005, 0.001],\n",
        "    'fit_intercept': [True, False]\n",
        "}\n",
        "\n",
        "grid_search_ridge = GridSearchCV(ridge_model, param_grid, cv=4, scoring='r2', n_jobs=-1)\n",
        "grid_search_ridge.fit(X_train_norm, y_train)\n",
        "\n",
        "best_model_ridge = grid_search_ridge.best_estimator_\n",
        "score_ridge = best_model_ridge.score(X_test_norm, y_test)\n",
        "best_alpha = grid_search_ridge.best_params_['alpha']\n",
        "\n",
        "print(\"Best Model:\", best_model_ridge)\n",
        "print(\"Best Score:\", score_ridge)\n",
        "print(\"Best Alpha:\", best_alpha)"
      ],
      "metadata": {
        "id": "-3Ilr5KSWB57",
        "colab": {
          "base_uri": "https://localhost:8080/"
        },
        "outputId": "9bc07c96-92d3-4a09-a35d-457d25cdf759"
      },
      "execution_count": 12,
      "outputs": [
        {
          "output_type": "stream",
          "name": "stdout",
          "text": [
            "Best Model: Ridge(alpha=0.5)\n",
            "Best Score: 0.597145061224877\n",
            "Best Alpha: 0.5\n"
          ]
        }
      ]
    },
    {
      "cell_type": "markdown",
      "source": [
        "Write a code to predict the house price of California Housing dataset using GridSearchCV.\n",
        "\n",
        "Write your code based on the following keypoints:\n",
        "\n",
        "- Split the California housing dataset into train and test set with `60:40` ratio with `random_state = 1`.\n",
        "- Import `StandardScaler` for scaling `X_train` and `X_test` to `X_train_norm` and `X_test_norm`\n",
        "```python\n",
        "  with_mean = True\n",
        "  with_std = True\n",
        "```\n",
        "- Pass `Lasso` Model through `GridSearchCV`\n",
        "- Hyperparamter tuning to be done over\n",
        "```python\n",
        "  alpha = [0.5, 0.1, 0.05, 0.01, 0.005, 0.001]\n",
        "  With or without intercept\n",
        "  Cross Validation = 6\n",
        "```\n",
        "Train the 'model' and compute the 'score' on test data"
      ],
      "metadata": {
        "id": "3D64y-kniWnG"
      }
    },
    {
      "cell_type": "markdown",
      "source": [
        "# Problem 5\n",
        "Find score and best alpha obtained."
      ],
      "metadata": {
        "id": "XMoLTh0simLL"
      }
    },
    {
      "cell_type": "code",
      "source": [
        "# Changing the split ratio\n",
        "X_train, X_test, y_train, y_test = train_test_split(X, y, test_size=0.4, random_state=1)\n",
        "\n",
        "# Scaling features again\n",
        "scaler = StandardScaler(with_mean=True, with_std=True)\n",
        "X_train_norm = scaler.fit_transform(X_train)\n",
        "X_test_norm = scaler.transform(X_test)\n",
        "\n",
        "# Model - Lasso\n",
        "model_lasso = Lasso()\n",
        "\n",
        "# HPT\n",
        "param_grid = {\n",
        "    'alpha': [0.5, 0.1, 0.05, 0.01, 0.005, 0.001],\n",
        "    'fit_intercept': [True, False]\n",
        "}\n",
        "\n",
        "grid_search_lasso = GridSearchCV(model_lasso, param_grid, cv=6, scoring='r2', n_jobs=-1)\n",
        "grid_search_lasso.fit(X_train_norm, y_train)\n",
        "\n",
        "best_model_lasso = grid_search_lasso.best_estimator_\n",
        "score_lasso = best_model_lasso.score(X_test_norm, y_test)\n",
        "best_alpha_lasso = grid_search_lasso.best_params_['alpha']\n",
        "\n",
        "print(\"Best Model:\", best_model_lasso)\n",
        "print(\"Best Score:\", score_lasso)\n",
        "print(\"Best Alpha:\", best_alpha_lasso)"
      ],
      "metadata": {
        "colab": {
          "base_uri": "https://localhost:8080/"
        },
        "id": "3puafLnyh2YG",
        "outputId": "3240bab4-ff77-493c-fa7a-b9718f8ca2cf"
      },
      "execution_count": 14,
      "outputs": [
        {
          "output_type": "stream",
          "name": "stdout",
          "text": [
            "Best Model: Lasso(alpha=0.005)\n",
            "Best Score: 0.6047829320240279\n",
            "Best Alpha: 0.005\n"
          ]
        }
      ]
    }
  ]
}